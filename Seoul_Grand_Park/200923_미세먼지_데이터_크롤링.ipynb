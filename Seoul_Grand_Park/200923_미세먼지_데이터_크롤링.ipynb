{
  "nbformat": 4,
  "nbformat_minor": 0,
  "metadata": {
    "colab": {
      "name": "200923_미세먼지 데이터 크롤링.ipynb",
      "provenance": [],
      "collapsed_sections": [],
      "authorship_tag": "ABX9TyO7SPjvx+A/clgK4kkHsV33",
      "include_colab_link": true
    },
    "kernelspec": {
      "name": "python3",
      "display_name": "Python 3"
    }
  },
  "cells": [
    {
      "cell_type": "markdown",
      "metadata": {
        "id": "view-in-github",
        "colab_type": "text"
      },
      "source": [
        "<a href=\"https://colab.research.google.com/github/leenago/Projects/blob/master/Seoul_Grand_Park/200923_%EB%AF%B8%EC%84%B8%EB%A8%BC%EC%A7%80_%EB%8D%B0%EC%9D%B4%ED%84%B0_%ED%81%AC%EB%A1%A4%EB%A7%81.ipynb\" target=\"_parent\"><img src=\"https://colab.research.google.com/assets/colab-badge.svg\" alt=\"Open In Colab\"/></a>"
      ]
    },
    {
      "cell_type": "markdown",
      "metadata": {
        "id": "ymKhIyr_4glI",
        "colab_type": "text"
      },
      "source": [
        ""
      ]
    },
    {
      "cell_type": "code",
      "metadata": {
        "id": "8TojTfPs4cuA",
        "colab_type": "code",
        "colab": {}
      },
      "source": [
        "import pandas as pd\n",
        "import requests\n",
        "from bs4 import BeautifulSoup as bs"
      ],
      "execution_count": 320,
      "outputs": []
    },
    {
      "cell_type": "code",
      "metadata": {
        "id": "YZLOjlPIwmpo",
        "colab_type": "code",
        "colab": {
          "base_uri": "https://localhost:8080/",
          "height": 228
        },
        "outputId": "526a7d2e-8760-4fe0-c4b0-48ed7b94b183"
      },
      "source": [
        "day_list=[]\n",
        "for year in range(2005,2020):\n",
        "  month_list=[]\n",
        "  for month in range(1,13):\n",
        "    for day in range(1,31):\n",
        "      date = str(year) +'-' + str(month) + '-' + str(day)\n",
        "    month_list.append(date)\n",
        "month_list\n",
        "\n",
        "# url = \"https://www.airkorea.or.kr/web/sidoAirInfo/sidoAirInfoDay30?itemCode=10007&ymd={end}&areaCode=031&tDate={start}&monthDay=30\".format(end = end,start=start)"
      ],
      "execution_count": 321,
      "outputs": [
        {
          "output_type": "execute_result",
          "data": {
            "text/plain": [
              "['2019-1-30',\n",
              " '2019-2-30',\n",
              " '2019-3-30',\n",
              " '2019-4-30',\n",
              " '2019-5-30',\n",
              " '2019-6-30',\n",
              " '2019-7-30',\n",
              " '2019-8-30',\n",
              " '2019-9-30',\n",
              " '2019-10-30',\n",
              " '2019-11-30',\n",
              " '2019-12-30']"
            ]
          },
          "metadata": {
            "tags": []
          },
          "execution_count": 321
        }
      ]
    },
    {
      "cell_type": "markdown",
      "metadata": {
        "id": "hc3lukxrCRZQ",
        "colab_type": "text"
      },
      "source": [
        "## one page crawling 함수 만들기"
      ]
    },
    {
      "cell_type": "code",
      "metadata": {
        "id": "U9-eX1cXCtUX",
        "colab_type": "code",
        "colab": {}
      },
      "source": [
        "def one_page_crawling(end, start):\n",
        "  url = \"https://www.airkorea.or.kr/web/sidoAirInfo/sidoAirInfoDay30?itemCode=10007&ymd={end}&areaCode=031&tDate={start}&monthDay=30\".format(end = end,start=start)\n",
        "  if (pd.read_html(url)):\n",
        "    src = pd.read_html(url)[0]\n",
        "    src_df = pd.DataFrame(src)\n",
        "    location = src_df.set_index('지점')\n",
        "    global gwacheon\n",
        "    gwacheon = location.loc[['[경기 과천시] 과천동'],:]\n",
        "\n",
        "  else:\n",
        "    print('error: ', url)\n",
        "\n",
        "  \n",
        "  return gwacheon\n",
        "\n",
        "#url 불러와서, pd.read_html로 데이터를 받고, 그 데이터를 DataFrame에 담아서, '지점'에서 '과천시 과천동' 데이터만 불러온 것"
      ],
      "execution_count": 322,
      "outputs": []
    },
    {
      "cell_type": "code",
      "metadata": {
        "id": "hhBfd0lN6eMd",
        "colab_type": "code",
        "colab": {
          "base_uri": "https://localhost:8080/",
          "height": 278
        },
        "outputId": "7e420b01-6e6f-4742-f66e-d6d1fce974ea"
      },
      "source": [
        "tw_july = one_page_crawling('2020-07-31', '2020-07-01')\n",
        "tw_july"
      ],
      "execution_count": 323,
      "outputs": [
        {
          "output_type": "execute_result",
          "data": {
            "text/html": [
              "<div>\n",
              "<style scoped>\n",
              "    .dataframe tbody tr th:only-of-type {\n",
              "        vertical-align: middle;\n",
              "    }\n",
              "\n",
              "    .dataframe tbody tr th {\n",
              "        vertical-align: top;\n",
              "    }\n",
              "\n",
              "    .dataframe thead th {\n",
              "        text-align: right;\n",
              "    }\n",
              "</style>\n",
              "<table border=\"1\" class=\"dataframe\">\n",
              "  <thead>\n",
              "    <tr style=\"text-align: right;\">\n",
              "      <th></th>\n",
              "      <th>2020-07-01</th>\n",
              "      <th>2020-07-02</th>\n",
              "      <th>2020-07-03</th>\n",
              "      <th>2020-07-04</th>\n",
              "      <th>2020-07-05</th>\n",
              "      <th>2020-07-06</th>\n",
              "      <th>2020-07-07</th>\n",
              "      <th>2020-07-08</th>\n",
              "      <th>2020-07-09</th>\n",
              "      <th>2020-07-10</th>\n",
              "      <th>2020-07-11</th>\n",
              "      <th>2020-07-12</th>\n",
              "      <th>2020-07-13</th>\n",
              "      <th>2020-07-14</th>\n",
              "      <th>2020-07-15</th>\n",
              "      <th>2020-07-16</th>\n",
              "      <th>2020-07-17</th>\n",
              "      <th>2020-07-18</th>\n",
              "      <th>2020-07-19</th>\n",
              "      <th>2020-07-20</th>\n",
              "      <th>2020-07-21</th>\n",
              "      <th>2020-07-22</th>\n",
              "      <th>2020-07-23</th>\n",
              "      <th>2020-07-24</th>\n",
              "      <th>2020-07-25</th>\n",
              "      <th>2020-07-26</th>\n",
              "      <th>2020-07-27</th>\n",
              "      <th>2020-07-28</th>\n",
              "      <th>2020-07-29</th>\n",
              "      <th>2020-07-30</th>\n",
              "      <th>2020-07-31</th>\n",
              "    </tr>\n",
              "    <tr>\n",
              "      <th>지점</th>\n",
              "      <th></th>\n",
              "      <th></th>\n",
              "      <th></th>\n",
              "      <th></th>\n",
              "      <th></th>\n",
              "      <th></th>\n",
              "      <th></th>\n",
              "      <th></th>\n",
              "      <th></th>\n",
              "      <th></th>\n",
              "      <th></th>\n",
              "      <th></th>\n",
              "      <th></th>\n",
              "      <th></th>\n",
              "      <th></th>\n",
              "      <th></th>\n",
              "      <th></th>\n",
              "      <th></th>\n",
              "      <th></th>\n",
              "      <th></th>\n",
              "      <th></th>\n",
              "      <th></th>\n",
              "      <th></th>\n",
              "      <th></th>\n",
              "      <th></th>\n",
              "      <th></th>\n",
              "      <th></th>\n",
              "      <th></th>\n",
              "      <th></th>\n",
              "      <th></th>\n",
              "      <th></th>\n",
              "    </tr>\n",
              "  </thead>\n",
              "  <tbody>\n",
              "    <tr>\n",
              "      <th>[경기 과천시] 과천동</th>\n",
              "      <td>24</td>\n",
              "      <td>60</td>\n",
              "      <td>36</td>\n",
              "      <td>26</td>\n",
              "      <td>30</td>\n",
              "      <td>30</td>\n",
              "      <td>19</td>\n",
              "      <td>35</td>\n",
              "      <td>35</td>\n",
              "      <td>20</td>\n",
              "      <td>12</td>\n",
              "      <td>14</td>\n",
              "      <td>6</td>\n",
              "      <td>10</td>\n",
              "      <td>13</td>\n",
              "      <td>31</td>\n",
              "      <td>44</td>\n",
              "      <td>45</td>\n",
              "      <td>26</td>\n",
              "      <td>20</td>\n",
              "      <td>35</td>\n",
              "      <td>28</td>\n",
              "      <td>18</td>\n",
              "      <td>8</td>\n",
              "      <td>9</td>\n",
              "      <td>13</td>\n",
              "      <td>28</td>\n",
              "      <td>18</td>\n",
              "      <td>17</td>\n",
              "      <td>26</td>\n",
              "      <td>31</td>\n",
              "    </tr>\n",
              "  </tbody>\n",
              "</table>\n",
              "</div>"
            ],
            "text/plain": [
              "             2020-07-01 2020-07-02 2020-07-03  ... 2020-07-29 2020-07-30 2020-07-31\n",
              "지점                                             ...                                 \n",
              "[경기 과천시] 과천동         24         60         36  ...         17         26         31\n",
              "\n",
              "[1 rows x 31 columns]"
            ]
          },
          "metadata": {
            "tags": []
          },
          "execution_count": 323
        }
      ]
    },
    {
      "cell_type": "code",
      "metadata": {
        "id": "acam_Dc38QYG",
        "colab_type": "code",
        "colab": {
          "base_uri": "https://localhost:8080/",
          "height": 278
        },
        "outputId": "3b20473b-ba97-46a6-bf8f-44b9228eed9e"
      },
      "source": [
        "five_aug = one_page_crawling('2006-02-31','2006-02-01') ; five_aug\n",
        "#과천시 과천동 미세먼지 데이터는 2005년 08월 01일부터 있음!"
      ],
      "execution_count": 324,
      "outputs": [
        {
          "output_type": "execute_result",
          "data": {
            "text/html": [
              "<div>\n",
              "<style scoped>\n",
              "    .dataframe tbody tr th:only-of-type {\n",
              "        vertical-align: middle;\n",
              "    }\n",
              "\n",
              "    .dataframe tbody tr th {\n",
              "        vertical-align: top;\n",
              "    }\n",
              "\n",
              "    .dataframe thead th {\n",
              "        text-align: right;\n",
              "    }\n",
              "</style>\n",
              "<table border=\"1\" class=\"dataframe\">\n",
              "  <thead>\n",
              "    <tr style=\"text-align: right;\">\n",
              "      <th></th>\n",
              "      <th>2006-02-01</th>\n",
              "      <th>2006-02-02</th>\n",
              "      <th>2006-02-03</th>\n",
              "      <th>2006-02-04</th>\n",
              "      <th>2006-02-05</th>\n",
              "      <th>2006-02-06</th>\n",
              "      <th>2006-02-07</th>\n",
              "      <th>2006-02-08</th>\n",
              "      <th>2006-02-09</th>\n",
              "      <th>2006-02-10</th>\n",
              "      <th>2006-02-11</th>\n",
              "      <th>2006-02-12</th>\n",
              "      <th>2006-02-13</th>\n",
              "      <th>2006-02-14</th>\n",
              "      <th>2006-02-15</th>\n",
              "      <th>2006-02-16</th>\n",
              "      <th>2006-02-17</th>\n",
              "      <th>2006-02-18</th>\n",
              "      <th>2006-02-19</th>\n",
              "      <th>2006-02-20</th>\n",
              "      <th>2006-02-21</th>\n",
              "      <th>2006-02-22</th>\n",
              "      <th>2006-02-23</th>\n",
              "      <th>2006-02-24</th>\n",
              "      <th>2006-02-25</th>\n",
              "      <th>2006-02-26</th>\n",
              "      <th>2006-02-27</th>\n",
              "      <th>2006-02-28</th>\n",
              "      <th>Unnamed: 29</th>\n",
              "      <th>Unnamed: 30</th>\n",
              "      <th>Unnamed: 31</th>\n",
              "    </tr>\n",
              "    <tr>\n",
              "      <th>지점</th>\n",
              "      <th></th>\n",
              "      <th></th>\n",
              "      <th></th>\n",
              "      <th></th>\n",
              "      <th></th>\n",
              "      <th></th>\n",
              "      <th></th>\n",
              "      <th></th>\n",
              "      <th></th>\n",
              "      <th></th>\n",
              "      <th></th>\n",
              "      <th></th>\n",
              "      <th></th>\n",
              "      <th></th>\n",
              "      <th></th>\n",
              "      <th></th>\n",
              "      <th></th>\n",
              "      <th></th>\n",
              "      <th></th>\n",
              "      <th></th>\n",
              "      <th></th>\n",
              "      <th></th>\n",
              "      <th></th>\n",
              "      <th></th>\n",
              "      <th></th>\n",
              "      <th></th>\n",
              "      <th></th>\n",
              "      <th></th>\n",
              "      <th></th>\n",
              "      <th></th>\n",
              "      <th></th>\n",
              "    </tr>\n",
              "  </thead>\n",
              "  <tbody>\n",
              "    <tr>\n",
              "      <th>[경기 과천시] 과천동</th>\n",
              "      <td>26</td>\n",
              "      <td>42</td>\n",
              "      <td>42</td>\n",
              "      <td>22</td>\n",
              "      <td>29</td>\n",
              "      <td>40</td>\n",
              "      <td>50</td>\n",
              "      <td>50</td>\n",
              "      <td>31</td>\n",
              "      <td>74</td>\n",
              "      <td>94</td>\n",
              "      <td>28</td>\n",
              "      <td>40</td>\n",
              "      <td>83</td>\n",
              "      <td>143</td>\n",
              "      <td>64</td>\n",
              "      <td>24</td>\n",
              "      <td>53</td>\n",
              "      <td>85</td>\n",
              "      <td>106</td>\n",
              "      <td>132</td>\n",
              "      <td>70</td>\n",
              "      <td>40</td>\n",
              "      <td>61</td>\n",
              "      <td>66</td>\n",
              "      <td>44</td>\n",
              "      <td>31</td>\n",
              "      <td>33</td>\n",
              "      <td>-</td>\n",
              "      <td>-</td>\n",
              "      <td>-</td>\n",
              "    </tr>\n",
              "  </tbody>\n",
              "</table>\n",
              "</div>"
            ],
            "text/plain": [
              "             2006-02-01 2006-02-02  ... Unnamed: 30 Unnamed: 31\n",
              "지점                                  ...                        \n",
              "[경기 과천시] 과천동         26         42  ...           -           -\n",
              "\n",
              "[1 rows x 31 columns]"
            ]
          },
          "metadata": {
            "tags": []
          },
          "execution_count": 324
        }
      ]
    },
    {
      "cell_type": "markdown",
      "metadata": {
        "id": "e2lmH1eGHodT",
        "colab_type": "text"
      },
      "source": [
        "- ymd 데이터를 어떻게 iterate하게 만들 수 있을까?"
      ]
    },
    {
      "cell_type": "code",
      "metadata": {
        "id": "bSQy6FF03C5t",
        "colab_type": "code",
        "colab": {
          "base_uri": "https://localhost:8080/",
          "height": 158
        },
        "outputId": "7c08032a-6238-414a-ddfb-7a598de11fcd"
      },
      "source": [
        "five_aug = one_page_crawling(end_date[8],start_date[8])\n",
        "five_aug.columns"
      ],
      "execution_count": 325,
      "outputs": [
        {
          "output_type": "execute_result",
          "data": {
            "text/plain": [
              "Index(['2005-09-01', '2005-09-02', '2005-09-03', '2005-09-04', '2005-09-05',\n",
              "       '2005-09-06', '2005-09-07', '2005-09-08', '2005-09-09', '2005-09-10',\n",
              "       '2005-09-11', '2005-09-12', '2005-09-13', '2005-09-14', '2005-09-15',\n",
              "       '2005-09-16', '2005-09-17', '2005-09-18', '2005-09-19', '2005-09-20',\n",
              "       '2005-09-21', '2005-09-22', '2005-09-23', '2005-09-24', '2005-09-25',\n",
              "       '2005-09-26', '2005-09-27', '2005-09-28', '2005-09-29', '2005-09-30',\n",
              "       'Unnamed: 31'],\n",
              "      dtype='object')"
            ]
          },
          "metadata": {
            "tags": []
          },
          "execution_count": 325
        }
      ]
    },
    {
      "cell_type": "markdown",
      "metadata": {
        "id": "5xymQkerhHXx",
        "colab_type": "text"
      },
      "source": [
        "### start date 만들기 - 월별로"
      ]
    },
    {
      "cell_type": "code",
      "metadata": {
        "id": "xIxd68H_urLD",
        "colab_type": "code",
        "colab": {
          "base_uri": "https://localhost:8080/",
          "height": 281
        },
        "outputId": "dee2eb17-d4c1-47ae-fa77-e4297f765972"
      },
      "source": [
        "year = []\n",
        "for i in range(15):\n",
        "  y = 2005+i \n",
        "  year.append(y)\n",
        "\n",
        "year"
      ],
      "execution_count": 326,
      "outputs": [
        {
          "output_type": "execute_result",
          "data": {
            "text/plain": [
              "[2005,\n",
              " 2006,\n",
              " 2007,\n",
              " 2008,\n",
              " 2009,\n",
              " 2010,\n",
              " 2011,\n",
              " 2012,\n",
              " 2013,\n",
              " 2014,\n",
              " 2015,\n",
              " 2016,\n",
              " 2017,\n",
              " 2018,\n",
              " 2019]"
            ]
          },
          "metadata": {
            "tags": []
          },
          "execution_count": 326
        }
      ]
    },
    {
      "cell_type": "code",
      "metadata": {
        "id": "3oqaE75tH5Qd",
        "colab_type": "code",
        "colab": {
          "base_uri": "https://localhost:8080/",
          "height": 90
        },
        "outputId": "342df085-b40a-4ec0-ba46-a3735aee9659"
      },
      "source": [
        "import datetime\n",
        "from datetime import date\n",
        "\n",
        "\n",
        "start_date = []\n",
        "\n",
        "for p in range(len(year)):\n",
        "  d = date(year[p],2,28)\n",
        "  changed_year = d.strftime('%Y') #d에서 year값만 빼오기\n",
        "  changed_year_int = int(changed_year) \n",
        "\n",
        "  for i in range(12):\n",
        "    d = date(changed_year_int, 1+i, 1)\n",
        "    start_date.append(str(d))\n",
        "  \n",
        "print(type(start_date[1]))\n",
        "print(start_date[1])\n",
        "print(start_date)"
      ],
      "execution_count": 327,
      "outputs": [
        {
          "output_type": "stream",
          "text": [
            "<class 'str'>\n",
            "2005-02-01\n",
            "['2005-01-01', '2005-02-01', '2005-03-01', '2005-04-01', '2005-05-01', '2005-06-01', '2005-07-01', '2005-08-01', '2005-09-01', '2005-10-01', '2005-11-01', '2005-12-01', '2006-01-01', '2006-02-01', '2006-03-01', '2006-04-01', '2006-05-01', '2006-06-01', '2006-07-01', '2006-08-01', '2006-09-01', '2006-10-01', '2006-11-01', '2006-12-01', '2007-01-01', '2007-02-01', '2007-03-01', '2007-04-01', '2007-05-01', '2007-06-01', '2007-07-01', '2007-08-01', '2007-09-01', '2007-10-01', '2007-11-01', '2007-12-01', '2008-01-01', '2008-02-01', '2008-03-01', '2008-04-01', '2008-05-01', '2008-06-01', '2008-07-01', '2008-08-01', '2008-09-01', '2008-10-01', '2008-11-01', '2008-12-01', '2009-01-01', '2009-02-01', '2009-03-01', '2009-04-01', '2009-05-01', '2009-06-01', '2009-07-01', '2009-08-01', '2009-09-01', '2009-10-01', '2009-11-01', '2009-12-01', '2010-01-01', '2010-02-01', '2010-03-01', '2010-04-01', '2010-05-01', '2010-06-01', '2010-07-01', '2010-08-01', '2010-09-01', '2010-10-01', '2010-11-01', '2010-12-01', '2011-01-01', '2011-02-01', '2011-03-01', '2011-04-01', '2011-05-01', '2011-06-01', '2011-07-01', '2011-08-01', '2011-09-01', '2011-10-01', '2011-11-01', '2011-12-01', '2012-01-01', '2012-02-01', '2012-03-01', '2012-04-01', '2012-05-01', '2012-06-01', '2012-07-01', '2012-08-01', '2012-09-01', '2012-10-01', '2012-11-01', '2012-12-01', '2013-01-01', '2013-02-01', '2013-03-01', '2013-04-01', '2013-05-01', '2013-06-01', '2013-07-01', '2013-08-01', '2013-09-01', '2013-10-01', '2013-11-01', '2013-12-01', '2014-01-01', '2014-02-01', '2014-03-01', '2014-04-01', '2014-05-01', '2014-06-01', '2014-07-01', '2014-08-01', '2014-09-01', '2014-10-01', '2014-11-01', '2014-12-01', '2015-01-01', '2015-02-01', '2015-03-01', '2015-04-01', '2015-05-01', '2015-06-01', '2015-07-01', '2015-08-01', '2015-09-01', '2015-10-01', '2015-11-01', '2015-12-01', '2016-01-01', '2016-02-01', '2016-03-01', '2016-04-01', '2016-05-01', '2016-06-01', '2016-07-01', '2016-08-01', '2016-09-01', '2016-10-01', '2016-11-01', '2016-12-01', '2017-01-01', '2017-02-01', '2017-03-01', '2017-04-01', '2017-05-01', '2017-06-01', '2017-07-01', '2017-08-01', '2017-09-01', '2017-10-01', '2017-11-01', '2017-12-01', '2018-01-01', '2018-02-01', '2018-03-01', '2018-04-01', '2018-05-01', '2018-06-01', '2018-07-01', '2018-08-01', '2018-09-01', '2018-10-01', '2018-11-01', '2018-12-01', '2019-01-01', '2019-02-01', '2019-03-01', '2019-04-01', '2019-05-01', '2019-06-01', '2019-07-01', '2019-08-01', '2019-09-01', '2019-10-01', '2019-11-01', '2019-12-01']\n"
          ],
          "name": "stdout"
        }
      ]
    },
    {
      "cell_type": "markdown",
      "metadata": {
        "id": "h2P0LkZNhfeM",
        "colab_type": "text"
      },
      "source": [
        "### end_date 만들기"
      ]
    },
    {
      "cell_type": "code",
      "metadata": {
        "id": "3gNBxhfh7gnB",
        "colab_type": "code",
        "colab": {
          "base_uri": "https://localhost:8080/",
          "height": 34
        },
        "outputId": "bcb6d49a-391f-4b3d-b137-bfd6b8da33f3"
      },
      "source": [
        "import calendar\n",
        "\n",
        "type(calendar.monthrange(2006,2)[1])"
      ],
      "execution_count": 328,
      "outputs": [
        {
          "output_type": "execute_result",
          "data": {
            "text/plain": [
              "int"
            ]
          },
          "metadata": {
            "tags": []
          },
          "execution_count": 328
        }
      ]
    },
    {
      "cell_type": "code",
      "metadata": {
        "id": "YNaRO1EnuQUH",
        "colab_type": "code",
        "colab": {
          "base_uri": "https://localhost:8080/",
          "height": 54
        },
        "outputId": "c5a0c8db-3448-4584-ea50-67a4ed19cf50"
      },
      "source": [
        "end_date = []\n",
        "\n",
        "for p in range(len(year)):\n",
        "  d = date(year[p],1,31)\n",
        "  changed_year = d.strftime('%Y')\n",
        "  changed_year_int = int(changed_year) #year값 추출\n",
        "\n",
        "  for i in range(12):\n",
        "    p = date(changed_year_int,1+i,28)\n",
        "    a = p.replace(day=(calendar.monthrange(changed_year_int, 1+i)[1])) #calendar.monthrange: 특정 연도, 월의 마지막 날을 알아내는 라이브러리 \n",
        "    end_date.append(str(a))\n",
        "\n",
        "print(end_date)\n",
        "\n",
        "    # elif 1+i == (1 and 3 and 5 and 7 and 8 and 10 and 12):\n",
        "    # b = d.replace(day=31)\n",
        "    #  end_date.append(b)\n",
        "    # else:\n",
        "    #  if changed_year_int%4 == 0:\n",
        "    #   c = d.replace(day=29)\n",
        "    #   end_date.append(c)\n",
        "    # else:\n",
        "    #   e = d.replace(day=28)\n",
        "    #     end_date.append(e)\n",
        "      \n",
        "\n",
        "    # end_date.append(str(d)) #이 모든건 필요가 없었다......"
      ],
      "execution_count": 329,
      "outputs": [
        {
          "output_type": "stream",
          "text": [
            "['2005-01-31', '2005-02-28', '2005-03-31', '2005-04-30', '2005-05-31', '2005-06-30', '2005-07-31', '2005-08-31', '2005-09-30', '2005-10-31', '2005-11-30', '2005-12-31', '2006-01-31', '2006-02-28', '2006-03-31', '2006-04-30', '2006-05-31', '2006-06-30', '2006-07-31', '2006-08-31', '2006-09-30', '2006-10-31', '2006-11-30', '2006-12-31', '2007-01-31', '2007-02-28', '2007-03-31', '2007-04-30', '2007-05-31', '2007-06-30', '2007-07-31', '2007-08-31', '2007-09-30', '2007-10-31', '2007-11-30', '2007-12-31', '2008-01-31', '2008-02-29', '2008-03-31', '2008-04-30', '2008-05-31', '2008-06-30', '2008-07-31', '2008-08-31', '2008-09-30', '2008-10-31', '2008-11-30', '2008-12-31', '2009-01-31', '2009-02-28', '2009-03-31', '2009-04-30', '2009-05-31', '2009-06-30', '2009-07-31', '2009-08-31', '2009-09-30', '2009-10-31', '2009-11-30', '2009-12-31', '2010-01-31', '2010-02-28', '2010-03-31', '2010-04-30', '2010-05-31', '2010-06-30', '2010-07-31', '2010-08-31', '2010-09-30', '2010-10-31', '2010-11-30', '2010-12-31', '2011-01-31', '2011-02-28', '2011-03-31', '2011-04-30', '2011-05-31', '2011-06-30', '2011-07-31', '2011-08-31', '2011-09-30', '2011-10-31', '2011-11-30', '2011-12-31', '2012-01-31', '2012-02-29', '2012-03-31', '2012-04-30', '2012-05-31', '2012-06-30', '2012-07-31', '2012-08-31', '2012-09-30', '2012-10-31', '2012-11-30', '2012-12-31', '2013-01-31', '2013-02-28', '2013-03-31', '2013-04-30', '2013-05-31', '2013-06-30', '2013-07-31', '2013-08-31', '2013-09-30', '2013-10-31', '2013-11-30', '2013-12-31', '2014-01-31', '2014-02-28', '2014-03-31', '2014-04-30', '2014-05-31', '2014-06-30', '2014-07-31', '2014-08-31', '2014-09-30', '2014-10-31', '2014-11-30', '2014-12-31', '2015-01-31', '2015-02-28', '2015-03-31', '2015-04-30', '2015-05-31', '2015-06-30', '2015-07-31', '2015-08-31', '2015-09-30', '2015-10-31', '2015-11-30', '2015-12-31', '2016-01-31', '2016-02-29', '2016-03-31', '2016-04-30', '2016-05-31', '2016-06-30', '2016-07-31', '2016-08-31', '2016-09-30', '2016-10-31', '2016-11-30', '2016-12-31', '2017-01-31', '2017-02-28', '2017-03-31', '2017-04-30', '2017-05-31', '2017-06-30', '2017-07-31', '2017-08-31', '2017-09-30', '2017-10-31', '2017-11-30', '2017-12-31', '2018-01-31', '2018-02-28', '2018-03-31', '2018-04-30', '2018-05-31', '2018-06-30', '2018-07-31', '2018-08-31', '2018-09-30', '2018-10-31', '2018-11-30', '2018-12-31', '2019-01-31', '2019-02-28', '2019-03-31', '2019-04-30', '2019-05-31', '2019-06-30', '2019-07-31', '2019-08-31', '2019-09-30', '2019-10-31', '2019-11-30', '2019-12-31']\n"
          ],
          "name": "stdout"
        }
      ]
    },
    {
      "cell_type": "code",
      "metadata": {
        "id": "d168JTst2e3X",
        "colab_type": "code",
        "colab": {
          "base_uri": "https://localhost:8080/",
          "height": 278
        },
        "outputId": "e3019824-ffce-4521-dc9e-dfc491a6e1e2"
      },
      "source": [
        "test = one_page_crawling(end_date[10], start_date[10])\n",
        "test\n",
        "#start_date와 end_date를 잘 추출했다는 것을 확인해볼 수 있다."
      ],
      "execution_count": 330,
      "outputs": [
        {
          "output_type": "execute_result",
          "data": {
            "text/html": [
              "<div>\n",
              "<style scoped>\n",
              "    .dataframe tbody tr th:only-of-type {\n",
              "        vertical-align: middle;\n",
              "    }\n",
              "\n",
              "    .dataframe tbody tr th {\n",
              "        vertical-align: top;\n",
              "    }\n",
              "\n",
              "    .dataframe thead th {\n",
              "        text-align: right;\n",
              "    }\n",
              "</style>\n",
              "<table border=\"1\" class=\"dataframe\">\n",
              "  <thead>\n",
              "    <tr style=\"text-align: right;\">\n",
              "      <th></th>\n",
              "      <th>2005-11-01</th>\n",
              "      <th>2005-11-02</th>\n",
              "      <th>2005-11-03</th>\n",
              "      <th>2005-11-04</th>\n",
              "      <th>2005-11-05</th>\n",
              "      <th>2005-11-06</th>\n",
              "      <th>2005-11-07</th>\n",
              "      <th>2005-11-08</th>\n",
              "      <th>2005-11-09</th>\n",
              "      <th>2005-11-10</th>\n",
              "      <th>2005-11-11</th>\n",
              "      <th>2005-11-12</th>\n",
              "      <th>2005-11-13</th>\n",
              "      <th>2005-11-14</th>\n",
              "      <th>2005-11-15</th>\n",
              "      <th>2005-11-16</th>\n",
              "      <th>2005-11-17</th>\n",
              "      <th>2005-11-18</th>\n",
              "      <th>2005-11-19</th>\n",
              "      <th>2005-11-20</th>\n",
              "      <th>2005-11-21</th>\n",
              "      <th>2005-11-22</th>\n",
              "      <th>2005-11-23</th>\n",
              "      <th>2005-11-24</th>\n",
              "      <th>2005-11-25</th>\n",
              "      <th>2005-11-26</th>\n",
              "      <th>2005-11-27</th>\n",
              "      <th>2005-11-28</th>\n",
              "      <th>2005-11-29</th>\n",
              "      <th>2005-11-30</th>\n",
              "      <th>Unnamed: 31</th>\n",
              "    </tr>\n",
              "    <tr>\n",
              "      <th>지점</th>\n",
              "      <th></th>\n",
              "      <th></th>\n",
              "      <th></th>\n",
              "      <th></th>\n",
              "      <th></th>\n",
              "      <th></th>\n",
              "      <th></th>\n",
              "      <th></th>\n",
              "      <th></th>\n",
              "      <th></th>\n",
              "      <th></th>\n",
              "      <th></th>\n",
              "      <th></th>\n",
              "      <th></th>\n",
              "      <th></th>\n",
              "      <th></th>\n",
              "      <th></th>\n",
              "      <th></th>\n",
              "      <th></th>\n",
              "      <th></th>\n",
              "      <th></th>\n",
              "      <th></th>\n",
              "      <th></th>\n",
              "      <th></th>\n",
              "      <th></th>\n",
              "      <th></th>\n",
              "      <th></th>\n",
              "      <th></th>\n",
              "      <th></th>\n",
              "      <th></th>\n",
              "      <th></th>\n",
              "    </tr>\n",
              "  </thead>\n",
              "  <tbody>\n",
              "    <tr>\n",
              "      <th>[경기 과천시] 과천동</th>\n",
              "      <td>67</td>\n",
              "      <td>92</td>\n",
              "      <td>74</td>\n",
              "      <td>69</td>\n",
              "      <td>76</td>\n",
              "      <td>95</td>\n",
              "      <td>74</td>\n",
              "      <td>33</td>\n",
              "      <td>40</td>\n",
              "      <td>64</td>\n",
              "      <td>101</td>\n",
              "      <td>42</td>\n",
              "      <td>45</td>\n",
              "      <td>48</td>\n",
              "      <td>23</td>\n",
              "      <td>37</td>\n",
              "      <td>30</td>\n",
              "      <td>25</td>\n",
              "      <td>36</td>\n",
              "      <td>49</td>\n",
              "      <td>46</td>\n",
              "      <td>33</td>\n",
              "      <td>45</td>\n",
              "      <td>82</td>\n",
              "      <td>98</td>\n",
              "      <td>110</td>\n",
              "      <td>94</td>\n",
              "      <td>71</td>\n",
              "      <td>36</td>\n",
              "      <td>61</td>\n",
              "      <td>-</td>\n",
              "    </tr>\n",
              "  </tbody>\n",
              "</table>\n",
              "</div>"
            ],
            "text/plain": [
              "             2005-11-01 2005-11-02 2005-11-03  ... 2005-11-29 2005-11-30 Unnamed: 31\n",
              "지점                                             ...                                  \n",
              "[경기 과천시] 과천동         67         92         74  ...         36         61           -\n",
              "\n",
              "[1 rows x 31 columns]"
            ]
          },
          "metadata": {
            "tags": []
          },
          "execution_count": 330
        }
      ]
    },
    {
      "cell_type": "markdown",
      "metadata": {
        "id": "FOqjDbE5CEM0",
        "colab_type": "text"
      },
      "source": [
        "## 여러페이지 \"크롤링하는 함수 만들기"
      ]
    },
    {
      "cell_type": "code",
      "metadata": {
        "id": "a-AtoHcY_LqB",
        "colab_type": "code",
        "colab": {
          "base_uri": "https://localhost:8080/",
          "height": 52
        },
        "outputId": "93996878-9f5f-4b6a-8a61-75a981cea9c2"
      },
      "source": [
        "print(type(end_date[179]))\n",
        "print(start_date[179])"
      ],
      "execution_count": 331,
      "outputs": [
        {
          "output_type": "stream",
          "text": [
            "<class 'str'>\n",
            "2019-12-01\n"
          ],
          "name": "stdout"
        }
      ]
    },
    {
      "cell_type": "code",
      "metadata": {
        "id": "6Y6jr5KAHChQ",
        "colab_type": "code",
        "colab": {
          "base_uri": "https://localhost:8080/",
          "height": 34
        },
        "outputId": "73fc7f9b-f35f-4969-ffa7-ab3e82da9133"
      },
      "source": [
        "end_date.index('2005-10-31')"
      ],
      "execution_count": 332,
      "outputs": [
        {
          "output_type": "execute_result",
          "data": {
            "text/plain": [
              "9"
            ]
          },
          "metadata": {
            "tags": []
          },
          "execution_count": 332
        }
      ]
    },
    {
      "cell_type": "code",
      "metadata": {
        "id": "boQEsHbiHY04",
        "colab_type": "code",
        "colab": {
          "base_uri": "https://localhost:8080/",
          "height": 34
        },
        "outputId": "c70113c4-c700-438c-c62f-c686922cf84d"
      },
      "source": [
        "len(start_date)"
      ],
      "execution_count": 333,
      "outputs": [
        {
          "output_type": "execute_result",
          "data": {
            "text/plain": [
              "180"
            ]
          },
          "metadata": {
            "tags": []
          },
          "execution_count": 333
        }
      ]
    },
    {
      "cell_type": "code",
      "metadata": {
        "id": "iDhCJ6pLIzB7",
        "colab_type": "code",
        "colab": {
          "base_uri": "https://localhost:8080/",
          "height": 52
        },
        "outputId": "0f613465-aa14-4753-8a58-6ea704c634ec"
      },
      "source": [
        "print(len(start_date))\n",
        "print(len(end_date))"
      ],
      "execution_count": 334,
      "outputs": [
        {
          "output_type": "stream",
          "text": [
            "180\n",
            "180\n"
          ],
          "name": "stdout"
        }
      ]
    },
    {
      "cell_type": "code",
      "metadata": {
        "id": "2EF-svCfzgcU",
        "colab_type": "code",
        "colab": {}
      },
      "source": [
        "#one_page_crawling 함수 코드\n",
        "\n",
        "def several_page_crawling(start):\n",
        "  url = \"https://www.airkorea.or.kr/web/sidoAirInfo/sidoAirInfoDay30?itemCode=10007&ymd={end}&areaCode=031&tDate={start}&monthDay=30\".format(end = start ,start=start)\n",
        "  df = pd.DataFrame()\n",
        "  new_df = several_page_crawling(start)\n",
        "  df = pd.concat([df,new_df], axis=1)\n",
        "\n",
        "\n",
        "  return df"
      ],
      "execution_count": 373,
      "outputs": []
    },
    {
      "cell_type": "markdown",
      "metadata": {
        "id": "ffDKmrOa6OCA",
        "colab_type": "text"
      },
      "source": [
        "### 원영님"
      ]
    },
    {
      "cell_type": "code",
      "metadata": {
        "id": "LpKzZ0cE6QAX",
        "colab_type": "code",
        "colab": {}
      },
      "source": [
        "#one_page_crawling 함수 코드 변형\n",
        "\n",
        "def another_page_crawling(ym):\n",
        "  url = \"https://www.airkorea.or.kr/web/sidoAirInfo/sidoAirInfoDay30?itemCode=10007&ymd={end}&areaCode=031&tDate={start}&monthDay=30\".format(end = ym,start=ym)\n",
        "  if (pd.read_html(url)):\n",
        "    src = pd.read_html(url)[0]\n",
        "    src_df = pd.DataFrame(src)\n",
        "    location = src_df.set_index('지점')\n",
        "    global gwacheon\n",
        "    gwacheon = location.loc[['[경기 과천시] 과천동'],:]\n",
        "\n",
        "  else:\n",
        "    print('error: ', url)\n",
        "\n",
        "  \n",
        "  return gwacheon"
      ],
      "execution_count": null,
      "outputs": []
    },
    {
      "cell_type": "code",
      "metadata": {
        "id": "xRlg9WB26f0e",
        "colab_type": "code",
        "colab": {
          "base_uri": "https://localhost:8080/",
          "height": 386
        },
        "outputId": "3324d79d-c54a-422c-eda2-8387bb035f71"
      },
      "source": [
        "\n",
        "df = several_page_crawling(start_date[10])\n",
        "df"
      ],
      "execution_count": 376,
      "outputs": [
        {
          "output_type": "error",
          "ename": "RecursionError",
          "evalue": "ignored",
          "traceback": [
            "\u001b[0;31m---------------------------------------------------------------------------\u001b[0m",
            "\u001b[0;31mRecursionError\u001b[0m                            Traceback (most recent call last)",
            "\u001b[0;32m<ipython-input-376-810268fe5cd3>\u001b[0m in \u001b[0;36m<module>\u001b[0;34m()\u001b[0m\n\u001b[1;32m      1\u001b[0m \u001b[0;34m\u001b[0m\u001b[0m\n\u001b[0;32m----> 2\u001b[0;31m \u001b[0mdf\u001b[0m \u001b[0;34m=\u001b[0m \u001b[0mseveral_page_crawling\u001b[0m\u001b[0;34m(\u001b[0m\u001b[0mstart_date\u001b[0m\u001b[0;34m[\u001b[0m\u001b[0;36m10\u001b[0m\u001b[0;34m]\u001b[0m\u001b[0;34m)\u001b[0m\u001b[0;34m\u001b[0m\u001b[0;34m\u001b[0m\u001b[0m\n\u001b[0m\u001b[1;32m      3\u001b[0m \u001b[0mdf\u001b[0m\u001b[0;34m\u001b[0m\u001b[0;34m\u001b[0m\u001b[0m\n",
            "\u001b[0;32m<ipython-input-373-417dcd6e11e5>\u001b[0m in \u001b[0;36mseveral_page_crawling\u001b[0;34m(start)\u001b[0m\n\u001b[1;32m      4\u001b[0m   \u001b[0murl\u001b[0m \u001b[0;34m=\u001b[0m \u001b[0;34m\"https://www.airkorea.or.kr/web/sidoAirInfo/sidoAirInfoDay30?itemCode=10007&ymd={end}&areaCode=031&tDate={start}&monthDay=30\"\u001b[0m\u001b[0;34m.\u001b[0m\u001b[0mformat\u001b[0m\u001b[0;34m(\u001b[0m\u001b[0mend\u001b[0m \u001b[0;34m=\u001b[0m \u001b[0mstart\u001b[0m \u001b[0;34m,\u001b[0m\u001b[0mstart\u001b[0m\u001b[0;34m=\u001b[0m\u001b[0mstart\u001b[0m\u001b[0;34m)\u001b[0m\u001b[0;34m\u001b[0m\u001b[0;34m\u001b[0m\u001b[0m\n\u001b[1;32m      5\u001b[0m   \u001b[0mdf\u001b[0m \u001b[0;34m=\u001b[0m \u001b[0mpd\u001b[0m\u001b[0;34m.\u001b[0m\u001b[0mDataFrame\u001b[0m\u001b[0;34m(\u001b[0m\u001b[0;34m)\u001b[0m\u001b[0;34m\u001b[0m\u001b[0;34m\u001b[0m\u001b[0m\n\u001b[0;32m----> 6\u001b[0;31m   \u001b[0mnew_df\u001b[0m \u001b[0;34m=\u001b[0m \u001b[0mseveral_page_crawling\u001b[0m\u001b[0;34m(\u001b[0m\u001b[0mstart\u001b[0m\u001b[0;34m)\u001b[0m\u001b[0;34m\u001b[0m\u001b[0;34m\u001b[0m\u001b[0m\n\u001b[0m\u001b[1;32m      7\u001b[0m   \u001b[0mdf\u001b[0m \u001b[0;34m=\u001b[0m \u001b[0mpd\u001b[0m\u001b[0;34m.\u001b[0m\u001b[0mconcat\u001b[0m\u001b[0;34m(\u001b[0m\u001b[0;34m[\u001b[0m\u001b[0mdf\u001b[0m\u001b[0;34m,\u001b[0m\u001b[0mnew_df\u001b[0m\u001b[0;34m]\u001b[0m\u001b[0;34m,\u001b[0m \u001b[0maxis\u001b[0m\u001b[0;34m=\u001b[0m\u001b[0;36m1\u001b[0m\u001b[0;34m)\u001b[0m\u001b[0;34m\u001b[0m\u001b[0;34m\u001b[0m\u001b[0m\n\u001b[1;32m      8\u001b[0m \u001b[0;34m\u001b[0m\u001b[0m\n",
            "... last 1 frames repeated, from the frame below ...\n",
            "\u001b[0;32m<ipython-input-373-417dcd6e11e5>\u001b[0m in \u001b[0;36mseveral_page_crawling\u001b[0;34m(start)\u001b[0m\n\u001b[1;32m      4\u001b[0m   \u001b[0murl\u001b[0m \u001b[0;34m=\u001b[0m \u001b[0;34m\"https://www.airkorea.or.kr/web/sidoAirInfo/sidoAirInfoDay30?itemCode=10007&ymd={end}&areaCode=031&tDate={start}&monthDay=30\"\u001b[0m\u001b[0;34m.\u001b[0m\u001b[0mformat\u001b[0m\u001b[0;34m(\u001b[0m\u001b[0mend\u001b[0m \u001b[0;34m=\u001b[0m \u001b[0mstart\u001b[0m \u001b[0;34m,\u001b[0m\u001b[0mstart\u001b[0m\u001b[0;34m=\u001b[0m\u001b[0mstart\u001b[0m\u001b[0;34m)\u001b[0m\u001b[0;34m\u001b[0m\u001b[0;34m\u001b[0m\u001b[0m\n\u001b[1;32m      5\u001b[0m   \u001b[0mdf\u001b[0m \u001b[0;34m=\u001b[0m \u001b[0mpd\u001b[0m\u001b[0;34m.\u001b[0m\u001b[0mDataFrame\u001b[0m\u001b[0;34m(\u001b[0m\u001b[0;34m)\u001b[0m\u001b[0;34m\u001b[0m\u001b[0;34m\u001b[0m\u001b[0m\n\u001b[0;32m----> 6\u001b[0;31m   \u001b[0mnew_df\u001b[0m \u001b[0;34m=\u001b[0m \u001b[0mseveral_page_crawling\u001b[0m\u001b[0;34m(\u001b[0m\u001b[0mstart\u001b[0m\u001b[0;34m)\u001b[0m\u001b[0;34m\u001b[0m\u001b[0;34m\u001b[0m\u001b[0m\n\u001b[0m\u001b[1;32m      7\u001b[0m   \u001b[0mdf\u001b[0m \u001b[0;34m=\u001b[0m \u001b[0mpd\u001b[0m\u001b[0;34m.\u001b[0m\u001b[0mconcat\u001b[0m\u001b[0;34m(\u001b[0m\u001b[0;34m[\u001b[0m\u001b[0mdf\u001b[0m\u001b[0;34m,\u001b[0m\u001b[0mnew_df\u001b[0m\u001b[0;34m]\u001b[0m\u001b[0;34m,\u001b[0m \u001b[0maxis\u001b[0m\u001b[0;34m=\u001b[0m\u001b[0;36m1\u001b[0m\u001b[0;34m)\u001b[0m\u001b[0;34m\u001b[0m\u001b[0;34m\u001b[0m\u001b[0m\n\u001b[1;32m      8\u001b[0m \u001b[0;34m\u001b[0m\u001b[0m\n",
            "\u001b[0;31mRecursionError\u001b[0m: maximum recursion depth exceeded in comparison"
          ]
        }
      ]
    },
    {
      "cell_type": "code",
      "metadata": {
        "id": "sNk2L-8c6rfo",
        "colab_type": "code",
        "colab": {
          "base_uri": "https://localhost:8080/",
          "height": 158
        },
        "outputId": "6abd67b3-85b3-4e1c-ee0d-66d9d53e5efc"
      },
      "source": [
        "a.columns"
      ],
      "execution_count": 341,
      "outputs": [
        {
          "output_type": "execute_result",
          "data": {
            "text/plain": [
              "Index(['2005-05-01', '2005-05-02', '2005-05-03', '2005-05-04', '2005-05-05',\n",
              "       '2005-05-06', '2005-05-07', '2005-05-08', '2005-05-09', '2005-05-10',\n",
              "       '2005-05-11', '2005-05-12', '2005-05-13', '2005-05-14', '2005-05-15',\n",
              "       '2005-05-16', '2005-05-17', '2005-05-18', '2005-05-19', '2005-05-20',\n",
              "       '2005-05-21', '2005-05-22', '2005-05-23', '2005-05-24', '2005-05-25',\n",
              "       '2005-05-26', '2005-05-27', '2005-05-28', '2005-05-29', '2005-05-30',\n",
              "       '2005-05-31'],\n",
              "      dtype='object')"
            ]
          },
          "metadata": {
            "tags": []
          },
          "execution_count": 341
        }
      ]
    },
    {
      "cell_type": "code",
      "metadata": {
        "id": "QTHLdtRQ_cyy",
        "colab_type": "code",
        "colab": {}
      },
      "source": [
        ""
      ],
      "execution_count": null,
      "outputs": []
    }
  ]
}