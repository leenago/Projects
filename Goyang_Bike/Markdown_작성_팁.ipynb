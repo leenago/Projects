{
  "nbformat": 4,
  "nbformat_minor": 0,
  "metadata": {
    "kernelspec": {
      "display_name": "Python 3",
      "language": "python",
      "name": "python3"
    },
    "language_info": {
      "codemirror_mode": {
        "name": "ipython",
        "version": 3
      },
      "file_extension": ".py",
      "mimetype": "text/x-python",
      "name": "python",
      "nbconvert_exporter": "python",
      "pygments_lexer": "ipython3",
      "version": "3.7.6"
    },
    "colab": {
      "name": "Markdown_작성_팁.ipynb",
      "provenance": [],
      "include_colab_link": true
    }
  },
  "cells": [
    {
      "cell_type": "markdown",
      "metadata": {
        "id": "view-in-github",
        "colab_type": "text"
      },
      "source": [
        "<a href=\"https://colab.research.google.com/github/leenago/Goyang_bike/blob/master/Markdown_%EC%9E%91%EC%84%B1_%ED%8C%81.ipynb\" target=\"_parent\"><img src=\"https://colab.research.google.com/assets/colab-badge.svg\" alt=\"Open In Colab\"/></a>"
      ]
    },
    {
      "cell_type": "markdown",
      "metadata": {
        "id": "SvIfMxYgPv3G",
        "colab_type": "text"
      },
      "source": [
        "### 1. 타이틀\n",
        "타이틀은 '#'을 붙여 크기를 조절해 작성할 수 있습니다.   \n",
        "최대 5개까지 붙일 수 있으며, '#' 개수가 적을수록 더욱 크게 작성됩니다."
      ]
    },
    {
      "cell_type": "code",
      "metadata": {
        "id": "LkMRuYVlPv3I",
        "colab_type": "code",
        "colab": {}
      },
      "source": [
        "# 1 단계\n",
        "## 2 단계\n",
        "### 3 단계\n",
        "#### 4 단계\n",
        "##### 5 단계"
      ],
      "execution_count": null,
      "outputs": []
    },
    {
      "cell_type": "markdown",
      "metadata": {
        "id": "l0MplEMsPv3Q",
        "colab_type": "text"
      },
      "source": [
        "# 1 단계\n",
        "## 2 단계\n",
        "### 3 단계\n",
        "#### 4 단계\n",
        "##### 5 단계"
      ]
    },
    {
      "cell_type": "markdown",
      "metadata": {
        "id": "uUqZhqa0Pv3R",
        "colab_type": "text"
      },
      "source": [
        "### 2. 특정 문구 강조\n",
        "내용 중의 특정 문구들을 강조하는 방법입니다.   \n",
        "대표적으로 글씨를 굵게 하거나, 글씨를 기울이거나, 문구에 취소선을 긋는 방법 등이 있습니다.\n",
        "\n",
        "예시를 들자면,"
      ]
    },
    {
      "cell_type": "code",
      "metadata": {
        "id": "m67efCDhPv3T",
        "colab_type": "code",
        "colab": {}
      },
      "source": [
        "**굵은 글씨체**로 작성하는 방법입니다.\n",
        "특정 문구에 _기울기_를 사용할 수 있습니다.\n",
        "물결표를 넣어 특정 문구에 ~~취소선~~을 그을 수 있습니다."
      ],
      "execution_count": null,
      "outputs": []
    },
    {
      "cell_type": "markdown",
      "metadata": {
        "id": "Ll2KV-wwPv3X",
        "colab_type": "text"
      },
      "source": [
        "**굵은 글씨체**로 작성하는 방법입니다.   \n",
        "특정 문구에 _기울기_를 사용할 수 있습니다.   \n",
        "물결표를 넣어 특정 문구에 ~~취소선~~을 그을 수 있습니다.   \n",
        "   \n",
        "   위와 같이 표시됩니다."
      ]
    },
    {
      "cell_type": "markdown",
      "metadata": {
        "id": "uMpE8MTKPv3Y",
        "colab_type": "text"
      },
      "source": [
        "### 3. 블럭 인용 문자"
      ]
    },
    {
      "cell_type": "markdown",
      "metadata": {
        "id": "xBxozJvcPv3Z",
        "colab_type": "text"
      },
      "source": [
        "'>' 문구를 사용하여 Markdown 내에서 블럭을 넣어 작성할 수 있습니다.    \n",
        "또한 블럭 내에서도 다른 Markdown 기능들을 사용할 수 있습니다.\n",
        "\n",
        "다음은 Markdown에서\n",
        "\n",
        "```python\n",
        "> 블럭에서도 \n",
        "> *다른 Markdown 요소**를 \n",
        "> _포함_ 할 수 있습니다.\n",
        "```\n",
        "를 입력하였을 때 결과입니다."
      ]
    },
    {
      "cell_type": "markdown",
      "metadata": {
        "id": "EPwZcPuYPv3a",
        "colab_type": "text"
      },
      "source": [
        "> 블럭에서도   \n",
        "> **다른 Markdown 요소**를   \n",
        "> _포함_ 할 수 있습니다."
      ]
    },
    {
      "cell_type": "markdown",
      "metadata": {
        "id": "o7QVmeMTPv3a",
        "colab_type": "text"
      },
      "source": [
        "### 4. 구분선 "
      ]
    },
    {
      "cell_type": "code",
      "metadata": {
        "id": "Pokei9tXPv3b",
        "colab_type": "code",
        "colab": {}
      },
      "source": [
        "---"
      ],
      "execution_count": null,
      "outputs": []
    },
    {
      "cell_type": "markdown",
      "metadata": {
        "id": "X27v-3g7Pv3f",
        "colab_type": "text"
      },
      "source": [
        "위와 같은 간단한 명령어로 구분선을 표시할 수 있습니다.   \n",
        "아래와 같이 희미한 실선이 표시됩니다.\n",
        "\n",
        "---"
      ]
    },
    {
      "cell_type": "markdown",
      "metadata": {
        "id": "TND7Yu3cPv3f",
        "colab_type": "text"
      },
      "source": [
        "### 5. 목차   \n",
        "목차는 '-'를 입력하면 목차 아이콘으로 변환해줍니다.   \n",
        "보기 편한 목차 아이콘으로 빠르게 입력하고자 할 때 유용합니다."
      ]
    },
    {
      "cell_type": "code",
      "metadata": {
        "id": "UDW1RPzEPv3g",
        "colab_type": "code",
        "colab": {}
      },
      "source": [
        "- 가\n",
        "- 나\n",
        "- 다   "
      ],
      "execution_count": null,
      "outputs": []
    },
    {
      "cell_type": "markdown",
      "metadata": {
        "id": "aHL06LrTPv3j",
        "colab_type": "text"
      },
      "source": [
        "- 가\n",
        "- 나\n",
        "- 다"
      ]
    },
    {
      "cell_type": "markdown",
      "metadata": {
        "id": "iAaIcpQFPv3k",
        "colab_type": "text"
      },
      "source": [
        "### 6. 코드 스크립트\n",
        " Markdown 내에 코드 스크립트를 표시할 수 있습니다.   \n",
        " 단순히 타이핑을 하는 것과는 다르게 코드 스크립트와 동일한 가독성을 부여할 수 있습니다.   "
      ]
    },
    {
      "cell_type": "code",
      "metadata": {
        "id": "RpDNaJM8Pv3l",
        "colab_type": "code",
        "colab": {}
      },
      "source": [
        "```python\n",
        "import pandas as pd\n",
        "import numpy as np\n",
        "```"
      ],
      "execution_count": null,
      "outputs": []
    },
    {
      "cell_type": "markdown",
      "metadata": {
        "id": "NvVb0B8LPv3o",
        "colab_type": "text"
      },
      "source": [
        "위와 같이 작성하면 Markdown에서도 다음과 같이 표시됩니다.\n",
        "\n",
        "```python\n",
        "import pandas as pd\n",
        "import numpy as np\n",
        "```\n"
      ]
    },
    {
      "cell_type": "markdown",
      "metadata": {
        "id": "QLSBWmjAPv3p",
        "colab_type": "text"
      },
      "source": [
        "\n",
        "### 7. 테이블 생성   \n",
        "다소 번거롭긴하지만 Markdown에서도 표를 작성할 수 있습니다.   \n",
        "Shift + \\ 를 입력하면 나오는 '|'을 이용하여 셀을 구분합니다.   \n",
        "구분선은 앞서 언급한 '---'를 사용합니다.   \n",
        "   \n",
        "예를 들자면,"
      ]
    },
    {
      "cell_type": "code",
      "metadata": {
        "id": "bLCUbkHePv3q",
        "colab_type": "code",
        "colab": {}
      },
      "source": [
        "Index | 변수1 | 변수2 | 변수3\n",
        "---|---|---|---\n",
        "1 | v1 | v2 | v3\n",
        "2 | v4 | v5 | v6"
      ],
      "execution_count": null,
      "outputs": []
    },
    {
      "cell_type": "markdown",
      "metadata": {
        "id": "SX2BMCYLPv3t",
        "colab_type": "text"
      },
      "source": [
        "이렇게 입력하였을 때 다음과 같은 표가 작성됩니다."
      ]
    },
    {
      "cell_type": "markdown",
      "metadata": {
        "id": "WMMIuvU1Pv3t",
        "colab_type": "text"
      },
      "source": [
        "Index | 변수1 | 변수2 | 변수3\n",
        "---|---|---|---\n",
        "1 | v1 | v2 | v3\n",
        "2 | v4 | v5 | v6"
      ]
    },
    {
      "cell_type": "markdown",
      "metadata": {
        "id": "GfIEcyj5Pv3u",
        "colab_type": "text"
      },
      "source": [
        "### 8. 수식  \n",
        "복잡한 수식도 Markdown에서 표현이 가능합니다.   \n",
        "다만 이 경우 각각의 수학기호에 맞는 표현을 정확히 입력하여야 합니다."
      ]
    },
    {
      "cell_type": "markdown",
      "metadata": {
        "id": "cUhP9dvJPv3u",
        "colab_type": "text"
      },
      "source": [
        "간단한 예로,"
      ]
    },
    {
      "cell_type": "code",
      "metadata": {
        "id": "SYudFgHgPv3v",
        "colab_type": "code",
        "colab": {}
      },
      "source": [
        "$$F(x)=\\sqrt {\\sum_{i} (Y_{i} - \\hat Y_{i})^2}$$"
      ],
      "execution_count": null,
      "outputs": []
    },
    {
      "cell_type": "markdown",
      "metadata": {
        "id": "33M3VXXJPv3x",
        "colab_type": "text"
      },
      "source": [
        "$$F(x)=\\sqrt {\\sum_{i} (Y_{i} - \\hat Y_{i})^2}$$"
      ]
    },
    {
      "cell_type": "markdown",
      "metadata": {
        "id": "A_bHVQPGPv3y",
        "colab_type": "text"
      },
      "source": [
        "위의 같은 수식으로 표현되어집니다."
      ]
    }
  ]
}