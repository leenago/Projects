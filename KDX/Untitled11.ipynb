{
  "nbformat": 4,
  "nbformat_minor": 0,
  "metadata": {
    "colab": {
      "name": "Untitled11.ipynb",
      "provenance": [],
      "authorship_tag": "ABX9TyO99nCvhe5AxAZqKEGR/PR1",
      "include_colab_link": true
    },
    "kernelspec": {
      "name": "python3",
      "display_name": "Python 3"
    }
  },
  "cells": [
    {
      "cell_type": "markdown",
      "metadata": {
        "id": "view-in-github",
        "colab_type": "text"
      },
      "source": [
        "<a href=\"https://colab.research.google.com/github/leenago/Projects/blob/master/KDX/Untitled11.ipynb\" target=\"_parent\"><img src=\"https://colab.research.google.com/assets/colab-badge.svg\" alt=\"Open In Colab\"/></a>"
      ]
    },
    {
      "cell_type": "code",
      "metadata": {
        "id": "Rr8t5mjoftH3",
        "outputId": "5011ec77-64b9-43cd-ecbe-e3cdf2263f21",
        "colab": {
          "base_uri": "https://localhost:8080/",
          "height": 34
        }
      },
      "source": [
        "from google.colab import drive\n",
        "drive.mount('/content/gdrive')"
      ],
      "execution_count": 1,
      "outputs": [
        {
          "output_type": "stream",
          "text": [
            "Mounted at /content/gdrive\n"
          ],
          "name": "stdout"
        }
      ]
    },
    {
      "cell_type": "code",
      "metadata": {
        "id": "hbibKviZf-ML",
        "outputId": "08e0e651-ed88-4881-bc10-e014b20c4373",
        "colab": {
          "base_uri": "https://localhost:8080/",
          "height": 34
        }
      },
      "source": [
        "%cd /content/gdrive/My Drive/bigdata/아경"
      ],
      "execution_count": 7,
      "outputs": [
        {
          "output_type": "stream",
          "text": [
            "/content/gdrive/My Drive/bigdata/아경\n"
          ],
          "name": "stdout"
        }
      ]
    },
    {
      "cell_type": "code",
      "metadata": {
        "id": "xMdF_o3mgUPG"
      },
      "source": [
        "import pandas as pd"
      ],
      "execution_count": 5,
      "outputs": []
    },
    {
      "cell_type": "code",
      "metadata": {
        "id": "1VRQFDb3gOaU"
      },
      "source": [
        "df = pd.read_csv('mcorp_edit.csv')\n",
        "os = df.copy()"
      ],
      "execution_count": 13,
      "outputs": []
    },
    {
      "cell_type": "code",
      "metadata": {
        "id": "SugU7ad4gTOF",
        "outputId": "153c392a-24a8-4d77-ed68-a8fe177be9ee",
        "colab": {
          "base_uri": "https://localhost:8080/",
          "height": 195
        }
      },
      "source": [
        "new_os = os.replace({'IOS':'Mobile','안드로이드':'Mobile','WINDOWS':'PC'})\n",
        "new_os.tail()"
      ],
      "execution_count": 20,
      "outputs": [
        {
          "output_type": "execute_result",
          "data": {
            "text/html": [
              "<div>\n",
              "<style scoped>\n",
              "    .dataframe tbody tr th:only-of-type {\n",
              "        vertical-align: middle;\n",
              "    }\n",
              "\n",
              "    .dataframe tbody tr th {\n",
              "        vertical-align: top;\n",
              "    }\n",
              "\n",
              "    .dataframe thead th {\n",
              "        text-align: right;\n",
              "    }\n",
              "</style>\n",
              "<table border=\"1\" class=\"dataframe\">\n",
              "  <thead>\n",
              "    <tr style=\"text-align: right;\">\n",
              "      <th></th>\n",
              "      <th>소비일자</th>\n",
              "      <th>소비업종</th>\n",
              "      <th>성별</th>\n",
              "      <th>연령대</th>\n",
              "      <th>OS유형</th>\n",
              "      <th>소비금액</th>\n",
              "      <th>소비건수</th>\n",
              "    </tr>\n",
              "  </thead>\n",
              "  <tbody>\n",
              "    <tr>\n",
              "      <th>1146150</th>\n",
              "      <td>20200630</td>\n",
              "      <td>휴대폰악세서리</td>\n",
              "      <td>M</td>\n",
              "      <td>70</td>\n",
              "      <td>PC</td>\n",
              "      <td>243920</td>\n",
              "      <td>8</td>\n",
              "    </tr>\n",
              "    <tr>\n",
              "      <th>1146151</th>\n",
              "      <td>20200630</td>\n",
              "      <td>휴대폰악세서리</td>\n",
              "      <td>M</td>\n",
              "      <td>70</td>\n",
              "      <td>Mobile</td>\n",
              "      <td>241320</td>\n",
              "      <td>11</td>\n",
              "    </tr>\n",
              "    <tr>\n",
              "      <th>1146152</th>\n",
              "      <td>20200630</td>\n",
              "      <td>휴대폰악세서리</td>\n",
              "      <td>M</td>\n",
              "      <td>70</td>\n",
              "      <td>Mobile</td>\n",
              "      <td>139800</td>\n",
              "      <td>1</td>\n",
              "    </tr>\n",
              "    <tr>\n",
              "      <th>1146153</th>\n",
              "      <td>20200630</td>\n",
              "      <td>휴대폰악세서리</td>\n",
              "      <td>M</td>\n",
              "      <td>70</td>\n",
              "      <td>PC</td>\n",
              "      <td>1392071</td>\n",
              "      <td>4</td>\n",
              "    </tr>\n",
              "    <tr>\n",
              "      <th>1146154</th>\n",
              "      <td>20200630</td>\n",
              "      <td>휴대폰악세서리</td>\n",
              "      <td>M</td>\n",
              "      <td>70</td>\n",
              "      <td>Mobile</td>\n",
              "      <td>31380</td>\n",
              "      <td>2</td>\n",
              "    </tr>\n",
              "  </tbody>\n",
              "</table>\n",
              "</div>"
            ],
            "text/plain": [
              "             소비일자     소비업종 성별  연령대    OS유형     소비금액  소비건수\n",
              "1146150  20200630  휴대폰악세서리  M   70      PC   243920     8\n",
              "1146151  20200630  휴대폰악세서리  M   70  Mobile   241320    11\n",
              "1146152  20200630  휴대폰악세서리  M   70  Mobile   139800     1\n",
              "1146153  20200630  휴대폰악세서리  M   70      PC  1392071     4\n",
              "1146154  20200630  휴대폰악세서리  M   70  Mobile    31380     2"
            ]
          },
          "metadata": {
            "tags": []
          },
          "execution_count": 20
        }
      ]
    },
    {
      "cell_type": "code",
      "metadata": {
        "id": "NOYIaG2xhsvB",
        "outputId": "c980c664-f116-48c4-ba2f-43988eceddd6",
        "colab": {
          "base_uri": "https://localhost:8080/",
          "height": 402
        }
      },
      "source": [
        "os_pc = new_os[new_os.OS유형 == 'PC'].reset_index()\n",
        "os_pc"
      ],
      "execution_count": 35,
      "outputs": [
        {
          "output_type": "execute_result",
          "data": {
            "text/html": [
              "<div>\n",
              "<style scoped>\n",
              "    .dataframe tbody tr th:only-of-type {\n",
              "        vertical-align: middle;\n",
              "    }\n",
              "\n",
              "    .dataframe tbody tr th {\n",
              "        vertical-align: top;\n",
              "    }\n",
              "\n",
              "    .dataframe thead th {\n",
              "        text-align: right;\n",
              "    }\n",
              "</style>\n",
              "<table border=\"1\" class=\"dataframe\">\n",
              "  <thead>\n",
              "    <tr style=\"text-align: right;\">\n",
              "      <th></th>\n",
              "      <th>index</th>\n",
              "      <th>소비일자</th>\n",
              "      <th>소비업종</th>\n",
              "      <th>성별</th>\n",
              "      <th>연령대</th>\n",
              "      <th>OS유형</th>\n",
              "      <th>소비금액</th>\n",
              "      <th>소비건수</th>\n",
              "    </tr>\n",
              "  </thead>\n",
              "  <tbody>\n",
              "    <tr>\n",
              "      <th>0</th>\n",
              "      <td>1</td>\n",
              "      <td>20190101</td>\n",
              "      <td>PC사무기기</td>\n",
              "      <td>F</td>\n",
              "      <td>10</td>\n",
              "      <td>PC</td>\n",
              "      <td>84000</td>\n",
              "      <td>1</td>\n",
              "    </tr>\n",
              "    <tr>\n",
              "      <th>1</th>\n",
              "      <td>5</td>\n",
              "      <td>20190101</td>\n",
              "      <td>PC사무기기</td>\n",
              "      <td>F</td>\n",
              "      <td>20</td>\n",
              "      <td>PC</td>\n",
              "      <td>11414514</td>\n",
              "      <td>60</td>\n",
              "    </tr>\n",
              "    <tr>\n",
              "      <th>2</th>\n",
              "      <td>9</td>\n",
              "      <td>20190101</td>\n",
              "      <td>PC사무기기</td>\n",
              "      <td>F</td>\n",
              "      <td>30</td>\n",
              "      <td>PC</td>\n",
              "      <td>19714978</td>\n",
              "      <td>75</td>\n",
              "    </tr>\n",
              "    <tr>\n",
              "      <th>3</th>\n",
              "      <td>13</td>\n",
              "      <td>20190101</td>\n",
              "      <td>PC사무기기</td>\n",
              "      <td>F</td>\n",
              "      <td>40</td>\n",
              "      <td>PC</td>\n",
              "      <td>32746965</td>\n",
              "      <td>110</td>\n",
              "    </tr>\n",
              "    <tr>\n",
              "      <th>4</th>\n",
              "      <td>17</td>\n",
              "      <td>20190101</td>\n",
              "      <td>PC사무기기</td>\n",
              "      <td>F</td>\n",
              "      <td>50</td>\n",
              "      <td>PC</td>\n",
              "      <td>29928081</td>\n",
              "      <td>83</td>\n",
              "    </tr>\n",
              "    <tr>\n",
              "      <th>...</th>\n",
              "      <td>...</td>\n",
              "      <td>...</td>\n",
              "      <td>...</td>\n",
              "      <td>...</td>\n",
              "      <td>...</td>\n",
              "      <td>...</td>\n",
              "      <td>...</td>\n",
              "      <td>...</td>\n",
              "    </tr>\n",
              "    <tr>\n",
              "      <th>323245</th>\n",
              "      <td>1146139</td>\n",
              "      <td>20200630</td>\n",
              "      <td>휴대폰악세서리</td>\n",
              "      <td>M</td>\n",
              "      <td>40</td>\n",
              "      <td>PC</td>\n",
              "      <td>53565063</td>\n",
              "      <td>424</td>\n",
              "    </tr>\n",
              "    <tr>\n",
              "      <th>323246</th>\n",
              "      <td>1146143</td>\n",
              "      <td>20200630</td>\n",
              "      <td>휴대폰악세서리</td>\n",
              "      <td>M</td>\n",
              "      <td>50</td>\n",
              "      <td>PC</td>\n",
              "      <td>19067696</td>\n",
              "      <td>252</td>\n",
              "    </tr>\n",
              "    <tr>\n",
              "      <th>323247</th>\n",
              "      <td>1146147</td>\n",
              "      <td>20200630</td>\n",
              "      <td>휴대폰악세서리</td>\n",
              "      <td>M</td>\n",
              "      <td>60</td>\n",
              "      <td>PC</td>\n",
              "      <td>8144467</td>\n",
              "      <td>92</td>\n",
              "    </tr>\n",
              "    <tr>\n",
              "      <th>323248</th>\n",
              "      <td>1146150</td>\n",
              "      <td>20200630</td>\n",
              "      <td>휴대폰악세서리</td>\n",
              "      <td>M</td>\n",
              "      <td>70</td>\n",
              "      <td>PC</td>\n",
              "      <td>243920</td>\n",
              "      <td>8</td>\n",
              "    </tr>\n",
              "    <tr>\n",
              "      <th>323249</th>\n",
              "      <td>1146153</td>\n",
              "      <td>20200630</td>\n",
              "      <td>휴대폰악세서리</td>\n",
              "      <td>M</td>\n",
              "      <td>70</td>\n",
              "      <td>PC</td>\n",
              "      <td>1392071</td>\n",
              "      <td>4</td>\n",
              "    </tr>\n",
              "  </tbody>\n",
              "</table>\n",
              "<p>323250 rows × 8 columns</p>\n",
              "</div>"
            ],
            "text/plain": [
              "          index      소비일자     소비업종 성별  연령대 OS유형      소비금액  소비건수\n",
              "0             1  20190101   PC사무기기  F   10   PC     84000     1\n",
              "1             5  20190101   PC사무기기  F   20   PC  11414514    60\n",
              "2             9  20190101   PC사무기기  F   30   PC  19714978    75\n",
              "3            13  20190101   PC사무기기  F   40   PC  32746965   110\n",
              "4            17  20190101   PC사무기기  F   50   PC  29928081    83\n",
              "...         ...       ...      ... ..  ...  ...       ...   ...\n",
              "323245  1146139  20200630  휴대폰악세서리  M   40   PC  53565063   424\n",
              "323246  1146143  20200630  휴대폰악세서리  M   50   PC  19067696   252\n",
              "323247  1146147  20200630  휴대폰악세서리  M   60   PC   8144467    92\n",
              "323248  1146150  20200630  휴대폰악세서리  M   70   PC    243920     8\n",
              "323249  1146153  20200630  휴대폰악세서리  M   70   PC   1392071     4\n",
              "\n",
              "[323250 rows x 8 columns]"
            ]
          },
          "metadata": {
            "tags": []
          },
          "execution_count": 35
        }
      ]
    },
    {
      "cell_type": "code",
      "metadata": {
        "id": "J5zs7juhiTul",
        "outputId": "568140bd-f7b1-4b06-b6c0-4576f80fa750",
        "colab": {
          "base_uri": "https://localhost:8080/",
          "height": 402
        }
      },
      "source": [
        "os_mobile = new_os[new_os.OS유형 == 'Mobile'].reset_index()\n",
        "os_mobile"
      ],
      "execution_count": 34,
      "outputs": [
        {
          "output_type": "execute_result",
          "data": {
            "text/html": [
              "<div>\n",
              "<style scoped>\n",
              "    .dataframe tbody tr th:only-of-type {\n",
              "        vertical-align: middle;\n",
              "    }\n",
              "\n",
              "    .dataframe tbody tr th {\n",
              "        vertical-align: top;\n",
              "    }\n",
              "\n",
              "    .dataframe thead th {\n",
              "        text-align: right;\n",
              "    }\n",
              "</style>\n",
              "<table border=\"1\" class=\"dataframe\">\n",
              "  <thead>\n",
              "    <tr style=\"text-align: right;\">\n",
              "      <th></th>\n",
              "      <th>index</th>\n",
              "      <th>소비일자</th>\n",
              "      <th>소비업종</th>\n",
              "      <th>성별</th>\n",
              "      <th>연령대</th>\n",
              "      <th>OS유형</th>\n",
              "      <th>소비금액</th>\n",
              "      <th>소비건수</th>\n",
              "    </tr>\n",
              "  </thead>\n",
              "  <tbody>\n",
              "    <tr>\n",
              "      <th>0</th>\n",
              "      <td>0</td>\n",
              "      <td>20190101</td>\n",
              "      <td>PC사무기기</td>\n",
              "      <td>F</td>\n",
              "      <td>10</td>\n",
              "      <td>Mobile</td>\n",
              "      <td>352443</td>\n",
              "      <td>13</td>\n",
              "    </tr>\n",
              "    <tr>\n",
              "      <th>1</th>\n",
              "      <td>2</td>\n",
              "      <td>20190101</td>\n",
              "      <td>PC사무기기</td>\n",
              "      <td>F</td>\n",
              "      <td>10</td>\n",
              "      <td>Mobile</td>\n",
              "      <td>80870</td>\n",
              "      <td>8</td>\n",
              "    </tr>\n",
              "    <tr>\n",
              "      <th>2</th>\n",
              "      <td>4</td>\n",
              "      <td>20190101</td>\n",
              "      <td>PC사무기기</td>\n",
              "      <td>F</td>\n",
              "      <td>20</td>\n",
              "      <td>Mobile</td>\n",
              "      <td>27714776</td>\n",
              "      <td>381</td>\n",
              "    </tr>\n",
              "    <tr>\n",
              "      <th>3</th>\n",
              "      <td>6</td>\n",
              "      <td>20190101</td>\n",
              "      <td>PC사무기기</td>\n",
              "      <td>F</td>\n",
              "      <td>20</td>\n",
              "      <td>Mobile</td>\n",
              "      <td>21223319</td>\n",
              "      <td>252</td>\n",
              "    </tr>\n",
              "    <tr>\n",
              "      <th>4</th>\n",
              "      <td>8</td>\n",
              "      <td>20190101</td>\n",
              "      <td>PC사무기기</td>\n",
              "      <td>F</td>\n",
              "      <td>30</td>\n",
              "      <td>Mobile</td>\n",
              "      <td>44723699</td>\n",
              "      <td>240</td>\n",
              "    </tr>\n",
              "    <tr>\n",
              "      <th>...</th>\n",
              "      <td>...</td>\n",
              "      <td>...</td>\n",
              "      <td>...</td>\n",
              "      <td>...</td>\n",
              "      <td>...</td>\n",
              "      <td>...</td>\n",
              "      <td>...</td>\n",
              "      <td>...</td>\n",
              "    </tr>\n",
              "    <tr>\n",
              "      <th>624846</th>\n",
              "      <td>1146148</td>\n",
              "      <td>20200630</td>\n",
              "      <td>휴대폰악세서리</td>\n",
              "      <td>M</td>\n",
              "      <td>60</td>\n",
              "      <td>Mobile</td>\n",
              "      <td>3703646</td>\n",
              "      <td>67</td>\n",
              "    </tr>\n",
              "    <tr>\n",
              "      <th>624847</th>\n",
              "      <td>1146149</td>\n",
              "      <td>20200630</td>\n",
              "      <td>휴대폰악세서리</td>\n",
              "      <td>M</td>\n",
              "      <td>70</td>\n",
              "      <td>Mobile</td>\n",
              "      <td>8780</td>\n",
              "      <td>1</td>\n",
              "    </tr>\n",
              "    <tr>\n",
              "      <th>624848</th>\n",
              "      <td>1146151</td>\n",
              "      <td>20200630</td>\n",
              "      <td>휴대폰악세서리</td>\n",
              "      <td>M</td>\n",
              "      <td>70</td>\n",
              "      <td>Mobile</td>\n",
              "      <td>241320</td>\n",
              "      <td>11</td>\n",
              "    </tr>\n",
              "    <tr>\n",
              "      <th>624849</th>\n",
              "      <td>1146152</td>\n",
              "      <td>20200630</td>\n",
              "      <td>휴대폰악세서리</td>\n",
              "      <td>M</td>\n",
              "      <td>70</td>\n",
              "      <td>Mobile</td>\n",
              "      <td>139800</td>\n",
              "      <td>1</td>\n",
              "    </tr>\n",
              "    <tr>\n",
              "      <th>624850</th>\n",
              "      <td>1146154</td>\n",
              "      <td>20200630</td>\n",
              "      <td>휴대폰악세서리</td>\n",
              "      <td>M</td>\n",
              "      <td>70</td>\n",
              "      <td>Mobile</td>\n",
              "      <td>31380</td>\n",
              "      <td>2</td>\n",
              "    </tr>\n",
              "  </tbody>\n",
              "</table>\n",
              "<p>624851 rows × 8 columns</p>\n",
              "</div>"
            ],
            "text/plain": [
              "          index      소비일자     소비업종 성별  연령대    OS유형      소비금액  소비건수\n",
              "0             0  20190101   PC사무기기  F   10  Mobile    352443    13\n",
              "1             2  20190101   PC사무기기  F   10  Mobile     80870     8\n",
              "2             4  20190101   PC사무기기  F   20  Mobile  27714776   381\n",
              "3             6  20190101   PC사무기기  F   20  Mobile  21223319   252\n",
              "4             8  20190101   PC사무기기  F   30  Mobile  44723699   240\n",
              "...         ...       ...      ... ..  ...     ...       ...   ...\n",
              "624846  1146148  20200630  휴대폰악세서리  M   60  Mobile   3703646    67\n",
              "624847  1146149  20200630  휴대폰악세서리  M   70  Mobile      8780     1\n",
              "624848  1146151  20200630  휴대폰악세서리  M   70  Mobile    241320    11\n",
              "624849  1146152  20200630  휴대폰악세서리  M   70  Mobile    139800     1\n",
              "624850  1146154  20200630  휴대폰악세서리  M   70  Mobile     31380     2\n",
              "\n",
              "[624851 rows x 8 columns]"
            ]
          },
          "metadata": {
            "tags": []
          },
          "execution_count": 34
        }
      ]
    },
    {
      "cell_type": "code",
      "metadata": {
        "id": "3q6VZ1U9jAEL",
        "outputId": "d713a6fa-67f6-495f-c374-08ec1aff2a79",
        "colab": {
          "base_uri": "https://localhost:8080/",
          "height": 34
        }
      },
      "source": [
        "os_pc['소비건수'].sum()"
      ],
      "execution_count": 36,
      "outputs": [
        {
          "output_type": "execute_result",
          "data": {
            "text/plain": [
              "40031889"
            ]
          },
          "metadata": {
            "tags": []
          },
          "execution_count": 36
        }
      ]
    },
    {
      "cell_type": "code",
      "metadata": {
        "id": "wYuGRYTfjENa",
        "outputId": "69e96b2d-2d0e-4f6d-cc17-3652931613c6",
        "colab": {
          "base_uri": "https://localhost:8080/",
          "height": 34
        }
      },
      "source": [
        "os_mobile['소비건수'].sum()"
      ],
      "execution_count": 38,
      "outputs": [
        {
          "output_type": "execute_result",
          "data": {
            "text/plain": [
              "269816356"
            ]
          },
          "metadata": {
            "tags": []
          },
          "execution_count": 38
        }
      ]
    },
    {
      "cell_type": "code",
      "metadata": {
        "id": "1VXMt60HjIBu"
      },
      "source": [
        "os_mobile_2019 = os_mobile[os_mobile.]"
      ],
      "execution_count": null,
      "outputs": []
    }
  ]
}