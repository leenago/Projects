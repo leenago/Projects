{
  "nbformat": 4,
  "nbformat_minor": 0,
  "metadata": {
    "colab": {
      "name": "MBN 뉴스데이터_ 현경.ipynb",
      "provenance": [],
      "collapsed_sections": [],
      "include_colab_link": true
    },
    "kernelspec": {
      "name": "python3",
      "display_name": "Python 3"
    }
  },
  "cells": [
    {
      "cell_type": "markdown",
      "metadata": {
        "id": "view-in-github",
        "colab_type": "text"
      },
      "source": [
        "<a href=\"https://colab.research.google.com/github/leenago/Projects/blob/master/KDX/MBN_%EB%89%B4%EC%8A%A4%EB%8D%B0%EC%9D%B4%ED%84%B0__%ED%98%84%EA%B2%BD.ipynb\" target=\"_parent\"><img src=\"https://colab.research.google.com/assets/colab-badge.svg\" alt=\"Open In Colab\"/></a>"
      ]
    },
    {
      "cell_type": "code",
      "metadata": {
        "id": "BkWdlQh-YFCq",
        "outputId": "5bd2b25b-3c7d-48c8-cad8-d269a5b89b15",
        "colab": {
          "base_uri": "https://localhost:8080/",
          "height": 34
        }
      },
      "source": [
        "from google.colab import drive\n",
        "drive.mount('/content/gdrive')"
      ],
      "execution_count": null,
      "outputs": [
        {
          "output_type": "stream",
          "text": [
            "Mounted at /content/gdrive\n"
          ],
          "name": "stdout"
        }
      ]
    },
    {
      "cell_type": "code",
      "metadata": {
        "id": "cU77-gcvYzkK",
        "outputId": "e1974eb3-0a07-4bab-d014-983f08418718",
        "colab": {
          "base_uri": "https://localhost:8080/",
          "height": 34
        }
      },
      "source": [
        "%cd /content/gdrive/Shared drives/청년취업아카데미_KDX한국데이터거래소/Data/MBN 뉴스 데이터"
      ],
      "execution_count": null,
      "outputs": [
        {
          "output_type": "stream",
          "text": [
            "/content/gdrive/Shared drives/청년취업아카데미_KDX한국데이터거래소/Data/MBN 뉴스 데이터\n"
          ],
          "name": "stdout"
        }
      ]
    },
    {
      "cell_type": "code",
      "metadata": {
        "id": "PED7lq-AX2mT"
      },
      "source": [
        "import numpy as np\n",
        "import pandas as pd\n",
        "import tensorflow as tf\n",
        "import matplotlib as mpl\n",
        "import matplotlib.pyplot as plt\n",
        "from bs4 import BeautifulSoup as bs"
      ],
      "execution_count": null,
      "outputs": []
    },
    {
      "cell_type": "code",
      "metadata": {
        "id": "QhD3t_Ywqpww"
      },
      "source": [
        "pd.options.mode.chained_assignment = None"
      ],
      "execution_count": null,
      "outputs": []
    },
    {
      "cell_type": "code",
      "metadata": {
        "id": "ZUzad15IYGYn",
        "outputId": "d1221c58-b3b4-4dc6-b8eb-f041d82a8b82",
        "colab": {
          "base_uri": "https://localhost:8080/",
          "height": 687
        }
      },
      "source": [
        "!pip install konlpy"
      ],
      "execution_count": null,
      "outputs": [
        {
          "output_type": "stream",
          "text": [
            "Collecting konlpy\n",
            "\u001b[?25l  Downloading https://files.pythonhosted.org/packages/85/0e/f385566fec837c0b83f216b2da65db9997b35dd675e107752005b7d392b1/konlpy-0.5.2-py2.py3-none-any.whl (19.4MB)\n",
            "\u001b[K     |████████████████████████████████| 19.4MB 1.2MB/s \n",
            "\u001b[?25hCollecting tweepy>=3.7.0\n",
            "  Downloading https://files.pythonhosted.org/packages/bb/7c/99d51f80f3b77b107ebae2634108717362c059a41384a1810d13e2429a81/tweepy-3.9.0-py2.py3-none-any.whl\n",
            "Collecting JPype1>=0.7.0\n",
            "\u001b[?25l  Downloading https://files.pythonhosted.org/packages/8b/f7/a368401e630f0e390dd0e62c39fb928e5b23741b53c2360ee7d376660927/JPype1-1.0.2-cp36-cp36m-manylinux2010_x86_64.whl (3.8MB)\n",
            "\u001b[K     |████████████████████████████████| 3.8MB 58.8MB/s \n",
            "\u001b[?25hRequirement already satisfied: numpy>=1.6 in /usr/local/lib/python3.6/dist-packages (from konlpy) (1.18.5)\n",
            "Collecting colorama\n",
            "  Downloading https://files.pythonhosted.org/packages/c9/dc/45cdef1b4d119eb96316b3117e6d5708a08029992b2fee2c143c7a0a5cc5/colorama-0.4.3-py2.py3-none-any.whl\n",
            "Collecting beautifulsoup4==4.6.0\n",
            "\u001b[?25l  Downloading https://files.pythonhosted.org/packages/9e/d4/10f46e5cfac773e22707237bfcd51bbffeaf0a576b0a847ec7ab15bd7ace/beautifulsoup4-4.6.0-py3-none-any.whl (86kB)\n",
            "\u001b[K     |████████████████████████████████| 92kB 10.5MB/s \n",
            "\u001b[?25hRequirement already satisfied: lxml>=4.1.0 in /usr/local/lib/python3.6/dist-packages (from konlpy) (4.2.6)\n",
            "Requirement already satisfied: six>=1.10.0 in /usr/local/lib/python3.6/dist-packages (from tweepy>=3.7.0->konlpy) (1.15.0)\n",
            "Requirement already satisfied: requests-oauthlib>=0.7.0 in /usr/local/lib/python3.6/dist-packages (from tweepy>=3.7.0->konlpy) (1.3.0)\n",
            "Requirement already satisfied: requests[socks]>=2.11.1 in /usr/local/lib/python3.6/dist-packages (from tweepy>=3.7.0->konlpy) (2.23.0)\n",
            "Requirement already satisfied: typing-extensions; python_version < \"3.8\" in /usr/local/lib/python3.6/dist-packages (from JPype1>=0.7.0->konlpy) (3.7.4.3)\n",
            "Requirement already satisfied: oauthlib>=3.0.0 in /usr/local/lib/python3.6/dist-packages (from requests-oauthlib>=0.7.0->tweepy>=3.7.0->konlpy) (3.1.0)\n",
            "Requirement already satisfied: certifi>=2017.4.17 in /usr/local/lib/python3.6/dist-packages (from requests[socks]>=2.11.1->tweepy>=3.7.0->konlpy) (2020.6.20)\n",
            "Requirement already satisfied: urllib3!=1.25.0,!=1.25.1,<1.26,>=1.21.1 in /usr/local/lib/python3.6/dist-packages (from requests[socks]>=2.11.1->tweepy>=3.7.0->konlpy) (1.24.3)\n",
            "Requirement already satisfied: idna<3,>=2.5 in /usr/local/lib/python3.6/dist-packages (from requests[socks]>=2.11.1->tweepy>=3.7.0->konlpy) (2.10)\n",
            "Requirement already satisfied: chardet<4,>=3.0.2 in /usr/local/lib/python3.6/dist-packages (from requests[socks]>=2.11.1->tweepy>=3.7.0->konlpy) (3.0.4)\n",
            "Requirement already satisfied: PySocks!=1.5.7,>=1.5.6; extra == \"socks\" in /usr/local/lib/python3.6/dist-packages (from requests[socks]>=2.11.1->tweepy>=3.7.0->konlpy) (1.7.1)\n",
            "Installing collected packages: tweepy, JPype1, colorama, beautifulsoup4, konlpy\n",
            "  Found existing installation: tweepy 3.6.0\n",
            "    Uninstalling tweepy-3.6.0:\n",
            "      Successfully uninstalled tweepy-3.6.0\n",
            "  Found existing installation: beautifulsoup4 4.6.3\n",
            "    Uninstalling beautifulsoup4-4.6.3:\n",
            "      Successfully uninstalled beautifulsoup4-4.6.3\n",
            "Successfully installed JPype1-1.0.2 beautifulsoup4-4.6.0 colorama-0.4.3 konlpy-0.5.2 tweepy-3.9.0\n"
          ],
          "name": "stdout"
        },
        {
          "output_type": "display_data",
          "data": {
            "application/vnd.colab-display-data+json": {
              "pip_warning": {
                "packages": [
                  "bs4"
                ]
              }
            }
          },
          "metadata": {
            "tags": []
          }
        }
      ]
    },
    {
      "cell_type": "markdown",
      "metadata": {
        "id": "SijYMMXs_dEj"
      },
      "source": [
        "#### 구글 드라이브 마운트"
      ]
    },
    {
      "cell_type": "markdown",
      "metadata": {
        "id": "IunvY7q41gxp"
      },
      "source": [
        "![뉴스데이터.jpg](data:image/jpeg;base64,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)"
      ]
    },
    {
      "cell_type": "code",
      "metadata": {
        "id": "lsJJaEjOZHZk",
        "outputId": "a2ffee25-04cb-4fe3-e914-912c584728fc",
        "colab": {
          "base_uri": "https://localhost:8080/",
          "height": 402
        }
      },
      "source": [
        "mk_news = pd.read_excel('mk_news_201901_202006.xlsx')\n",
        "mk_news"
      ],
      "execution_count": null,
      "outputs": [
        {
          "output_type": "execute_result",
          "data": {
            "text/html": [
              "<div>\n",
              "<style scoped>\n",
              "    .dataframe tbody tr th:only-of-type {\n",
              "        vertical-align: middle;\n",
              "    }\n",
              "\n",
              "    .dataframe tbody tr th {\n",
              "        vertical-align: top;\n",
              "    }\n",
              "\n",
              "    .dataframe thead th {\n",
              "        text-align: right;\n",
              "    }\n",
              "</style>\n",
              "<table border=\"1\" class=\"dataframe\">\n",
              "  <thead>\n",
              "    <tr style=\"text-align: right;\">\n",
              "      <th></th>\n",
              "      <th>no</th>\n",
              "      <th>pubdate</th>\n",
              "      <th>pubtime</th>\n",
              "      <th>title1</th>\n",
              "      <th>body</th>\n",
              "      <th>keywords</th>\n",
              "    </tr>\n",
              "  </thead>\n",
              "  <tbody>\n",
              "    <tr>\n",
              "      <th>0</th>\n",
              "      <td>2304119</td>\n",
              "      <td>20200312</td>\n",
              "      <td>0.0</td>\n",
              "      <td>사회일반</td>\n",
              "      <td>NaN</td>\n",
              "      <td>NaN</td>\n",
              "    </tr>\n",
              "    <tr>\n",
              "      <th>1</th>\n",
              "      <td>3937779</td>\n",
              "      <td>20190112</td>\n",
              "      <td>0.0</td>\n",
              "      <td>출판/도서</td>\n",
              "      <td>&lt;!--[[--image0--]]//--&gt; ◆ 야바위 게임 / 마이클 슈월비 지음...</td>\n",
              "      <td>신간,소개</td>\n",
              "    </tr>\n",
              "    <tr>\n",
              "      <th>2</th>\n",
              "      <td>3953320</td>\n",
              "      <td>20190101</td>\n",
              "      <td>0.0</td>\n",
              "      <td>테마기획</td>\n",
              "      <td>◆ 2019 경제기상도 / 부동산 ◆ \\n &lt;!--[[--image0--]]//--...</td>\n",
              "      <td>ㅈ,ㅈ</td>\n",
              "    </tr>\n",
              "    <tr>\n",
              "      <th>3</th>\n",
              "      <td>3953321</td>\n",
              "      <td>20190101</td>\n",
              "      <td>0.0</td>\n",
              "      <td>테마기획</td>\n",
              "      <td>◆ 2019 경제기상도 / 금리 ◆ \\n &lt;!--[[--image0--]]//--&gt;...</td>\n",
              "      <td>금리,경제기상도</td>\n",
              "    </tr>\n",
              "    <tr>\n",
              "      <th>4</th>\n",
              "      <td>3953324</td>\n",
              "      <td>20190101</td>\n",
              "      <td>0.0</td>\n",
              "      <td>테마기획</td>\n",
              "      <td>&lt;!--[[--image0--]]//--&gt; '황금돼지해'인 2019년 기해년(己亥...</td>\n",
              "      <td>경제,성장,경제기상도</td>\n",
              "    </tr>\n",
              "    <tr>\n",
              "      <th>...</th>\n",
              "      <td>...</td>\n",
              "      <td>...</td>\n",
              "      <td>...</td>\n",
              "      <td>...</td>\n",
              "      <td>...</td>\n",
              "      <td>...</td>\n",
              "    </tr>\n",
              "    <tr>\n",
              "      <th>316819</th>\n",
              "      <td>4541564</td>\n",
              "      <td>20200630</td>\n",
              "      <td>225757.0</td>\n",
              "      <td>방송/TV</td>\n",
              "      <td>&lt;!--[[--image0--]]//--&gt; \\n[ 매일경제 스타투데이 서지경 객원...</td>\n",
              "      <td>NaN</td>\n",
              "    </tr>\n",
              "    <tr>\n",
              "      <th>316820</th>\n",
              "      <td>4541571</td>\n",
              "      <td>20200630</td>\n",
              "      <td>230932.0</td>\n",
              "      <td>방송/TV</td>\n",
              "      <td>&lt;!--[[--image0--]]//--&gt; \\n[ 매일경제 스타투데이 서지경 객원...</td>\n",
              "      <td>NaN</td>\n",
              "    </tr>\n",
              "    <tr>\n",
              "      <th>316821</th>\n",
              "      <td>4541579</td>\n",
              "      <td>20200630</td>\n",
              "      <td>231823.0</td>\n",
              "      <td>방송/TV</td>\n",
              "      <td>&lt;!--[[--image0--]]//--&gt; [매일경제 스타투데이 허은경 객원기자]...</td>\n",
              "      <td>NaN</td>\n",
              "    </tr>\n",
              "    <tr>\n",
              "      <th>316822</th>\n",
              "      <td>4541586</td>\n",
              "      <td>20200630</td>\n",
              "      <td>232907.0</td>\n",
              "      <td>방송/TV</td>\n",
              "      <td>&lt;!--[[--image0--]]//--&gt; \\n[ 매일경제 스타투데이 서지경 객원...</td>\n",
              "      <td>NaN</td>\n",
              "    </tr>\n",
              "    <tr>\n",
              "      <th>316823</th>\n",
              "      <td>4541587</td>\n",
              "      <td>20200630</td>\n",
              "      <td>233418.0</td>\n",
              "      <td>방송/TV</td>\n",
              "      <td>&lt;!--[[--image0--]]//--&gt; [매일경제 스타투데이 허은경 객원기자]...</td>\n",
              "      <td>NaN</td>\n",
              "    </tr>\n",
              "  </tbody>\n",
              "</table>\n",
              "<p>316824 rows × 6 columns</p>\n",
              "</div>"
            ],
            "text/plain": [
              "             no  ...     keywords\n",
              "0       2304119  ...          NaN\n",
              "1       3937779  ...        신간,소개\n",
              "2       3953320  ...          ㅈ,ㅈ\n",
              "3       3953321  ...     금리,경제기상도\n",
              "4       3953324  ...  경제,성장,경제기상도\n",
              "...         ...  ...          ...\n",
              "316819  4541564  ...          NaN\n",
              "316820  4541571  ...          NaN\n",
              "316821  4541579  ...          NaN\n",
              "316822  4541586  ...          NaN\n",
              "316823  4541587  ...          NaN\n",
              "\n",
              "[316824 rows x 6 columns]"
            ]
          },
          "metadata": {
            "tags": []
          },
          "execution_count": 6
        }
      ]
    },
    {
      "cell_type": "code",
      "metadata": {
        "id": "lOzpL6iZZ8p8",
        "outputId": "65796e48-6a20-432e-8b2a-3f047aadbf0c",
        "colab": {
          "base_uri": "https://localhost:8080/",
          "height": 34
        }
      },
      "source": [
        "mk = mk_news.copy()\n",
        "\n",
        "mk.columns"
      ],
      "execution_count": null,
      "outputs": [
        {
          "output_type": "execute_result",
          "data": {
            "text/plain": [
              "Index(['no', 'pubdate', 'pubtime', 'title1', 'body', 'keywords'], dtype='object')"
            ]
          },
          "metadata": {
            "tags": []
          },
          "execution_count": 7
        }
      ]
    },
    {
      "cell_type": "code",
      "metadata": {
        "id": "57R4IxoVa78M",
        "outputId": "1d6db765-2e3f-48d5-95fa-f9b446e5c427",
        "colab": {
          "base_uri": "https://localhost:8080/",
          "height": 34
        }
      },
      "source": [
        "#내용 중복 제거\n",
        "new_mk = mk.drop_duplicates(['title1','body'], keep='first', ignore_index = True)\n",
        "len(new_mk)"
      ],
      "execution_count": null,
      "outputs": [
        {
          "output_type": "execute_result",
          "data": {
            "text/plain": [
              "297623"
            ]
          },
          "metadata": {
            "tags": []
          },
          "execution_count": 8
        }
      ]
    },
    {
      "cell_type": "code",
      "metadata": {
        "id": "rfuMZ136xRYV",
        "outputId": "83c14ce0-1a19-428e-8842-c62ba90d08eb",
        "colab": {
          "base_uri": "https://localhost:8080/",
          "height": 474
        }
      },
      "source": [
        "#title1에 있는 카테고리는 총 174개\n",
        "new_mk['title1'].unique()"
      ],
      "execution_count": null,
      "outputs": [
        {
          "output_type": "execute_result",
          "data": {
            "text/plain": [
              "array(['사회일반', '출판/도서', '테마기획', '의약/건강', '중견/중소기업', '증권계동향', '노동/노사',\n",
              "       '경제일반', '문화산업', '공연/전시/음악', '신문/방송', '바둑', '기자24시', '매경칼럼', '사외칼럼',\n",
              "       '인물/인터뷰', '인사', '사설', '아파트/분양', '신도시/토지', '유통·섬유·음식료', '외환·환율',\n",
              "       '금융정책·일반', '카드·캐피털', '과학기술/특허', '사고/알림', '경기/지표', '정치일반', '해외증시',\n",
              "       '채권/펀드', '국제금융', '국제경제', '국제산업', '국제정치', '항공·해운', '자동차', '기업 경영',\n",
              "       '축구', '골프', '레저/관광', '기업정보', '남북관계', '외교·국방', '시세/시황', '법원·검찰·경찰',\n",
              "       '교통/환경/날씨', '카툰', '핫이슈', '방송/TV', '가요', '사건·사고', '기타', '야구',\n",
              "       '컴퓨터/정보통신', '무역/통상', nan, '세금', '국제사회', '전기·전자·통신', '국제사건/사고',\n",
              "       'Economy', '헬스저널', '기업일반·재계동향', '교육', '건설업계 동향', '보건/복지', 'Seoul',\n",
              "       '스포츠(기타)', '중공업·기계·금속', '지역경제', '부음', '행정·지자체', '취업/채용', '공시',\n",
              "       '은행', '상가/오피스텔', '보험', '시황', '칼럼', '창업', 'Asia', 'Market',\n",
              "       'CONSUMER JOURNAL', '저축은행·기타', '포토', 'Biz', '세제/정책', '화학·에너지',\n",
              "       'Cover Story', 'Review&Observation', 'Photos', '벤쳐/벤쳐캐피탈',\n",
              "       '재개발/재건축', '증권정책', '당좌거래 정지', '영화', 'THE BIZ TIMES',\n",
              "       'Money & Riches', '문화/연예', 'People', '정책', '연예', '인터넷/게임', '선물/옵션',\n",
              "       '비즈니스', '집중기획', '재테크', 'Special Report', 'Money', '여행+',\n",
              "       'Car & Life', '신설법인', 'CEO 라운지', 'Life', 'Global 경제·경영',\n",
              "       'Bio&Tech', 'Business Strategy', '중소기업 Mart', 'Column',\n",
              "       'Company&Marketing', '자원·원자재', '국제경영', 'Style', 'Global',\n",
              "       '종교·학술·학회', 'U-World (IT)', '공연', '증시지표', '신문사-포토', '라이프',\n",
              "       '부동산 기획', '전시', '동정', '기자 스페셜', '패션', 'Teen 매일경제', '기획/분석',\n",
              "       'k-wave', '소비생활', '스페셜 리포트', '의류/섬유', '국회', '생활경제', '제약/바이오',\n",
              "       '의료/건강', '식품/음식료', '백화점/마트', '패션/뷰티', '통신', '정당', '인공지능', '소프트웨어',\n",
              "       '빅데이터', '쇼핑', '유럽', '과학일반', '아시아/호주', '청와대', '모바일', '미국/중남미',\n",
              "       'e커머스', '호텔', '게임', '인터넷/SNS', '스타트업', '데이터산업', '중동/아프리카', '특허',\n",
              "       '국제기구', '보안/해킹', '건강', '여행', '자원/원자재', '요약뉴스'], dtype=object)"
            ]
          },
          "metadata": {
            "tags": []
          },
          "execution_count": 9
        }
      ]
    },
    {
      "cell_type": "code",
      "metadata": {
        "id": "LDrWTJxCxW9g",
        "outputId": "fcf7ea3b-2668-497a-9ceb-ae4e20fb665c",
        "colab": {
          "base_uri": "https://localhost:8080/",
          "height": 140
        }
      },
      "source": [
        "new_mk.isnull().sum()"
      ],
      "execution_count": null,
      "outputs": [
        {
          "output_type": "execute_result",
          "data": {
            "text/plain": [
              "no               0\n",
              "pubdate          0\n",
              "pubtime          1\n",
              "title1        9541\n",
              "body             2\n",
              "keywords    141268\n",
              "dtype: int64"
            ]
          },
          "metadata": {
            "tags": []
          },
          "execution_count": 10
        }
      ]
    },
    {
      "cell_type": "markdown",
      "metadata": {
        "id": "qtSVEdFkg-Uj"
      },
      "source": [
        "### 데이터 정제"
      ]
    },
    {
      "cell_type": "code",
      "metadata": {
        "id": "HqyxWpFAeBWI",
        "outputId": "ebd5dd48-178a-453a-e5bd-65c602e288b2",
        "colab": {
          "base_uri": "https://localhost:8080/",
          "height": 34
        }
      },
      "source": [
        "#body의 1번째에 해당하는 값을 300자까지 출력\n",
        "example = new_mk['body'][1][:300]\n",
        "type(example)"
      ],
      "execution_count": null,
      "outputs": [
        {
          "output_type": "execute_result",
          "data": {
            "text/plain": [
              "str"
            ]
          },
          "metadata": {
            "tags": []
          },
          "execution_count": 11
        }
      ]
    },
    {
      "cell_type": "code",
      "metadata": {
        "id": "9IJKO48cfFg4",
        "outputId": "706d3068-29b8-4921-d577-b5ad1fefbd6d",
        "colab": {
          "base_uri": "https://localhost:8080/",
          "height": 70
        }
      },
      "source": [
        "import re\n",
        "example1 = re.sub('[^ㄱ-힣A-Z]',' ',example )\n",
        "example1"
      ],
      "execution_count": null,
      "outputs": [
        {
          "output_type": "execute_result",
          "data": {
            "application/vnd.google.colaboratory.intrinsic+json": {
              "type": "string"
            },
            "text/plain": [
              "'                           야바위 게임   마이클 슈월비 지음   노정태 옮김    만    원  도덕의 문제로 불평등의 심각함을 말할 수 있다고 주장하는 책  슈월비는 불평등 구조를 유지하며 도덕과 부의 문제를 일으키는  있는 자 들의  가지 기본 법칙을 소개한다  문예출판사 펴냄    직장인의 바른 습관   문성후 지음    만    원 주   시간 근무제라는 새로운 업무 환경에 직면한 직장인들의 일과 삶에 꼭 필요한 습관을 담은 직장 생활 지침서다  이지퍼블리싱 펴냄    마취의 시대   로랑 드 쉬테르 '"
            ]
          },
          "metadata": {
            "tags": []
          },
          "execution_count": 12
        }
      ]
    },
    {
      "cell_type": "code",
      "metadata": {
        "id": "tRVaH9QlhNFV"
      },
      "source": [
        "#모든 body에 대해 정규화 진행\n",
        "news_sub = []\n",
        "\n",
        "for i in range(len(new_mk)):\n",
        "  news_sub.append(re.sub('[^ㄱ-힣A-Z]',' ', str(new_mk['body'][i])))\n",
        "\n",
        "new_mk['정규화'] = news_sub"
      ],
      "execution_count": null,
      "outputs": []
    },
    {
      "cell_type": "code",
      "metadata": {
        "id": "zimDt6qdpcOo",
        "outputId": "46d0dfdf-835a-4f5f-91c4-71db59e42868",
        "colab": {
          "base_uri": "https://localhost:8080/",
          "height": 178
        }
      },
      "source": [
        "new_mk['정규화'][10]"
      ],
      "execution_count": null,
      "outputs": [
        {
          "output_type": "execute_result",
          "data": {
            "application/vnd.google.colaboratory.intrinsic+json": {
              "type": "string"
            },
            "text/plain": [
              "'       경제기상도                              올해 유통업계 키워드는 온라인이다  백화점과 대형마트 등 성장을 주도해왔던 오프라인 업체들이 부진해 소매시장 성장률은 크게 둔화될 것으로 보인다  이경희 이마트 유통산업연구소 팀장은  소매구조가 온라인과 소형 포맷 중심으로 빠르게 재편돼 올해 소매시장 성장률 둔화가 예상된다 며      년 소매시장은      성장한 반면  올해에는      성장이 전망된다 고 밝혔다  오프라인 매장 대신 온라인으로 구매하는 온라인 쇼핑이 대세로 자리 잡으면서 온라인 선점 경쟁에는 불이 붙는다   지난해 소셜커머스 쿠팡이 소프트뱅크에서  조원의 추가 투자를 유치하고  오픈마켓   번가가 국민연금 등에서     억원의 자금을 끌어오면서 시작된 투자 경쟁이 올해 실전에서 본격화된다  투자를 등에 업은 업체들이 공격적인 마케팅을 펼치고  물류 창고 등을 신설해 배송 서비스를 혁신하면 온라인 쇼핑 경쟁이 더 치열해질 전망이다  롯데쇼핑은  조원 투자를 예고했고  신세계는  조원을 투자받아 오는  월 이커머스 신설 법인을 출범한다  정연승 단국대 경영학부 교수에 따르면     년 기준으로 이미  커머스 시장 매출액   조    억원 이 대형마트 매출액   조    억원 에 육박한다  정 교수는  인공지능 등 첨단기술을 집약한 플랫폼을 기반으로 검색 결제 배송을 하나의 플랫폼에서 해결하는 커머스    시대로 접어들 것 으로 내다봤다   오프라인 매장 중에서는 편의점 등 집에서 가까워 손쉽게 들르는  스몰 포맷  매장이 경쟁력을 유지할 가능성이 높다  대한상공회의소가 발간한      유통산업 통계집에 따르면     년 기준 편의점        다음으로 무점포 소매       의 판매액 증가율이 높았고 슈퍼마켓      과 백화점         대형마트      는 부진했다  다만 최저임금 인상 여파로 편의점 출점 속도는 작년에 이미 크게 둔화됐다  최저임금 인상분이 상품 가격에 반영되면 물가 상승폭도 다소 커질 수 있다  편의점 업계 관계자는  편의점 자체브랜드 PB  상품 대다수가 중기 납품 상품이라 인건비 상승을 제품 가격에 반영하게 되면 가격이 오를 수밖에 없다 고 말했다     이유진 기자 '"
            ]
          },
          "metadata": {
            "tags": []
          },
          "execution_count": 14
        }
      ]
    },
    {
      "cell_type": "markdown",
      "metadata": {
        "id": "QldyJDK7pc5T"
      },
      "source": [
        "## 한가지만 실습 - Business_strategy"
      ]
    },
    {
      "cell_type": "code",
      "metadata": {
        "id": "qA5pRyR3P-qz",
        "outputId": "681c48de-cea5-4eb4-9959-eb9bd60f0535",
        "colab": {
          "base_uri": "https://localhost:8080/",
          "height": 570
        }
      },
      "source": [
        "Business_strategy = new_mk[new_mk.title1=='Business Strategy']\n",
        "Business_strategy.reset_index(inplace=True)\n",
        "Business_strategy"
      ],
      "execution_count": null,
      "outputs": [
        {
          "output_type": "execute_result",
          "data": {
            "text/html": [
              "<div>\n",
              "<style scoped>\n",
              "    .dataframe tbody tr th:only-of-type {\n",
              "        vertical-align: middle;\n",
              "    }\n",
              "\n",
              "    .dataframe tbody tr th {\n",
              "        vertical-align: top;\n",
              "    }\n",
              "\n",
              "    .dataframe thead th {\n",
              "        text-align: right;\n",
              "    }\n",
              "</style>\n",
              "<table border=\"1\" class=\"dataframe\">\n",
              "  <thead>\n",
              "    <tr style=\"text-align: right;\">\n",
              "      <th></th>\n",
              "      <th>index</th>\n",
              "      <th>no</th>\n",
              "      <th>pubdate</th>\n",
              "      <th>pubtime</th>\n",
              "      <th>title1</th>\n",
              "      <th>body</th>\n",
              "      <th>keywords</th>\n",
              "      <th>정규화</th>\n",
              "    </tr>\n",
              "  </thead>\n",
              "  <tbody>\n",
              "    <tr>\n",
              "      <th>0</th>\n",
              "      <td>3287</td>\n",
              "      <td>3961020</td>\n",
              "      <td>20190107</td>\n",
              "      <td>161524.0</td>\n",
              "      <td>Business Strategy</td>\n",
              "      <td>사티아 나델라(51) 최고경영자(CEO)가 마이크로소프트로 취임한지 5년 만에 이...</td>\n",
              "      <td>NaN</td>\n",
              "      <td>사티아 나델라     최고경영자 CEO 가 마이크로소프트로 취임한지  년 만에 이...</td>\n",
              "    </tr>\n",
              "    <tr>\n",
              "      <th>1</th>\n",
              "      <td>3327</td>\n",
              "      <td>3961106</td>\n",
              "      <td>20190107</td>\n",
              "      <td>164646.0</td>\n",
              "      <td>Business Strategy</td>\n",
              "      <td>12월 1일, 대한민국이 ‘미래’를 쏘아 올렸다. SK텔레콤·KT·LG유플러스 이...</td>\n",
              "      <td>NaN</td>\n",
              "      <td>월  일  대한민국이  미래 를 쏘아 올렸다  SK텔레콤 KT LG유플러스 이...</td>\n",
              "    </tr>\n",
              "    <tr>\n",
              "      <th>2</th>\n",
              "      <td>3845</td>\n",
              "      <td>3962005</td>\n",
              "      <td>20190108</td>\n",
              "      <td>140808.0</td>\n",
              "      <td>Business Strategy</td>\n",
              "      <td>한국 조선업은 2018년 연간 수주 실적에서 중국을 제치고 세계 1위를 달성한 것...</td>\n",
              "      <td>NaN</td>\n",
              "      <td>한국 조선업은     년 연간 수주 실적에서 중국을 제치고 세계  위를 달성한 것...</td>\n",
              "    </tr>\n",
              "    <tr>\n",
              "      <th>3</th>\n",
              "      <td>4036</td>\n",
              "      <td>3962331</td>\n",
              "      <td>20190108</td>\n",
              "      <td>171552.0</td>\n",
              "      <td>Business Strategy</td>\n",
              "      <td>주 52시간 근로제의 본격적 의무 시행이 눈앞으로 다가왔다. 물론 주 52시간 근...</td>\n",
              "      <td>NaN</td>\n",
              "      <td>주   시간 근로제의 본격적 의무 시행이 눈앞으로 다가왔다  물론 주   시간 근...</td>\n",
              "    </tr>\n",
              "    <tr>\n",
              "      <th>4</th>\n",
              "      <td>18829</td>\n",
              "      <td>3991071</td>\n",
              "      <td>20190208</td>\n",
              "      <td>142605.0</td>\n",
              "      <td>Business Strategy</td>\n",
              "      <td>TV는 언제나 집안의 중심을 차지해왔다. 기술 발전으로 잠시 관심에서 멀어진 듯한...</td>\n",
              "      <td>NaN</td>\n",
              "      <td>TV는 언제나 집안의 중심을 차지해왔다  기술 발전으로 잠시 관심에서 멀어진 듯한...</td>\n",
              "    </tr>\n",
              "    <tr>\n",
              "      <th>...</th>\n",
              "      <td>...</td>\n",
              "      <td>...</td>\n",
              "      <td>...</td>\n",
              "      <td>...</td>\n",
              "      <td>...</td>\n",
              "      <td>...</td>\n",
              "      <td>...</td>\n",
              "      <td>...</td>\n",
              "    </tr>\n",
              "    <tr>\n",
              "      <th>99</th>\n",
              "      <td>278475</td>\n",
              "      <td>4505509</td>\n",
              "      <td>20200529</td>\n",
              "      <td>144352.0</td>\n",
              "      <td>Business Strategy</td>\n",
              "      <td>코로나19 장기화로 ‘비대면 사회’가 가속화하는 가운데 온라인 쇼핑이 ‘포스트 코로...</td>\n",
              "      <td>NaN</td>\n",
              "      <td>코로나   장기화로  비대면 사회 가 가속화하는 가운데 온라인 쇼핑이  포스트 코로...</td>\n",
              "    </tr>\n",
              "    <tr>\n",
              "      <th>100</th>\n",
              "      <td>278537</td>\n",
              "      <td>4505614</td>\n",
              "      <td>20200529</td>\n",
              "      <td>154334.0</td>\n",
              "      <td>Business Strategy</td>\n",
              "      <td>‘동영상 시대’가 왔다. 미취학 아동부터 7080 노인까지 저마다 즐겨 찾는 영상 ...</td>\n",
              "      <td>NaN</td>\n",
              "      <td>동영상 시대 가 왔다  미취학 아동부터      노인까지 저마다 즐겨 찾는 영상 ...</td>\n",
              "    </tr>\n",
              "    <tr>\n",
              "      <th>101</th>\n",
              "      <td>278559</td>\n",
              "      <td>4505656</td>\n",
              "      <td>20200529</td>\n",
              "      <td>161124.0</td>\n",
              "      <td>Business Strategy</td>\n",
              "      <td>유통업계의 온라인화가 가속화하면서 오프라인 매장은 단순히 제품을 판매하는 것 이상의...</td>\n",
              "      <td>NaN</td>\n",
              "      <td>유통업계의 온라인화가 가속화하면서 오프라인 매장은 단순히 제품을 판매하는 것 이상의...</td>\n",
              "    </tr>\n",
              "    <tr>\n",
              "      <th>102</th>\n",
              "      <td>282478</td>\n",
              "      <td>4513059</td>\n",
              "      <td>20200605</td>\n",
              "      <td>103855.0</td>\n",
              "      <td>Business Strategy</td>\n",
              "      <td>▶“심장박동처럼 울리는 배기음, 날카로운 코너링의\\n박진감, 드라이빙의 짜릿함과 스...</td>\n",
              "      <td>NaN</td>\n",
              "      <td>심장박동처럼 울리는 배기음  날카로운 코너링의 박진감  드라이빙의 짜릿함과 스릴...</td>\n",
              "    </tr>\n",
              "    <tr>\n",
              "      <th>103</th>\n",
              "      <td>282497</td>\n",
              "      <td>4513094</td>\n",
              "      <td>20200605</td>\n",
              "      <td>105946.0</td>\n",
              "      <td>Business Strategy</td>\n",
              "      <td>“시스템반도체, 바이오헬스, 미래차 등 3대 신성장 산업을 더욱 강력히 육성하여 미...</td>\n",
              "      <td>NaN</td>\n",
              "      <td>시스템반도체  바이오헬스  미래차 등  대 신성장 산업을 더욱 강력히 육성하여 미...</td>\n",
              "    </tr>\n",
              "  </tbody>\n",
              "</table>\n",
              "<p>104 rows × 8 columns</p>\n",
              "</div>"
            ],
            "text/plain": [
              "      index  ...                                                정규화\n",
              "0      3287  ...   사티아 나델라     최고경영자 CEO 가 마이크로소프트로 취임한지  년 만에 이...\n",
              "1      3327  ...     월  일  대한민국이  미래 를 쏘아 올렸다  SK텔레콤 KT LG유플러스 이...\n",
              "2      3845  ...   한국 조선업은     년 연간 수주 실적에서 중국을 제치고 세계  위를 달성한 것...\n",
              "3      4036  ...   주   시간 근로제의 본격적 의무 시행이 눈앞으로 다가왔다  물론 주   시간 근...\n",
              "4     18829  ...   TV는 언제나 집안의 중심을 차지해왔다  기술 발전으로 잠시 관심에서 멀어진 듯한...\n",
              "..      ...  ...                                                ...\n",
              "99   278475  ...  코로나   장기화로  비대면 사회 가 가속화하는 가운데 온라인 쇼핑이  포스트 코로...\n",
              "100  278537  ...   동영상 시대 가 왔다  미취학 아동부터      노인까지 저마다 즐겨 찾는 영상 ...\n",
              "101  278559  ...  유통업계의 온라인화가 가속화하면서 오프라인 매장은 단순히 제품을 판매하는 것 이상의...\n",
              "102  282478  ...    심장박동처럼 울리는 배기음  날카로운 코너링의 박진감  드라이빙의 짜릿함과 스릴...\n",
              "103  282497  ...   시스템반도체  바이오헬스  미래차 등  대 신성장 산업을 더욱 강력히 육성하여 미...\n",
              "\n",
              "[104 rows x 8 columns]"
            ]
          },
          "metadata": {
            "tags": []
          },
          "execution_count": 15
        }
      ]
    },
    {
      "cell_type": "code",
      "metadata": {
        "id": "U8yWtG0tS3uV",
        "outputId": "97bff4b4-7456-49b2-f223-9d0bf04a14b4",
        "colab": {
          "base_uri": "https://localhost:8080/",
          "height": 178
        }
      },
      "source": [
        "Business_strategy['정규화'][1]"
      ],
      "execution_count": null,
      "outputs": [
        {
          "output_type": "execute_result",
          "data": {
            "application/vnd.google.colaboratory.intrinsic+json": {
              "type": "string"
            },
            "text/plain": [
              "'   월  일  대한민국이  미래 를 쏘아 올렸다  SK텔레콤 KT LG유플러스 이동통신  사가 이날   세대 이통통신  G   전파를 첫 송출한 날이기 때문이다  전 세계 주요 이동통신사  장비사  단말제조사들은 글로벌 표준의 NSA규격을 기반으로     년  G 상용화를 아직 준비하고 있는 상태이기에 한국은 최초의  G 사용국가로 이름을 올릴 수 있었다  한국의 이동통신  사는 세계최초 전파 송출을 준비하며 글로벌 기술 표준화 과정에 적극 목소리를 냈고  각종 장비와 부품 등 관련 산업에서도 비교우위를 확보했다  이는 미국과 중국  일본 등 경쟁국에 비해  개월 이상 빠른 것이다  비록 뜻하지 않았던 KT 아현 화재 사태가 일어나면서 아쉬움을 남기긴 했지만  G는 이미 우리 곁으로 다가왔다                             자연스럽게  G가 무엇인지에 대한 관심도 높아지고 있다  언론에서는  G에 관련된 기사가 물밀듯이 쏟아지는 중이고   G 시대를 예고하는 이동통신사들의 광고 또한 쉽게 만나볼 수 있다  그런데 아직은  G라는 단어 자체가 우리의 귀에 그리 익숙하게 들리지 않는 것이 사실이다  그래서 준비했다  과연  G는 무엇이고  우리의 삶을 어떻게 바꿔줄지 미리 알아보는 시간이다      G란 무엇인가      우선  G의 정의부터 알아보자   G는  세대 이동통신이라는 뜻으로  G는 세대를 뜻하는 제너레이션 G          의 앞자를 따온 것이다   G는 최초 이동통신을 가능하게 만들어준 기술이다  국내의  G는     년 SK텔레콤의 전신인 한국이동통신서비스주식회사가 처음 차량에 탑재하는 이동통신 단말기를 출시하며 시작됐다  이는 아날로그 음성신호를 디지털로 변환해 전송하는 기술이 가능해지며 음성통화 일변도에서 문자 메시지와 이메일이 추가된  G로 진화했다  이후 비음성 데이터의 이동이 가능해진  G 시대에 이르러 스마트폰이라는 개념이 등장했고   G부터는 혁신적인 새 기술의 등장보다는 속도 자체가 빨라지는 데 중점을 뒀다  이제 새롭게 등장하는  G는 현재 널리 쓰이고 있는  G LTE보다 더 빠른 네트워크로   G의 전송속도가  G   일 때  G는   G   에 달하니  G보다   배 빠르다고 볼 수 있고 초고속     배 이상 빠른 반응 초저지연 을 보여주며    배 더 많은 사람과 기기의 접속 초연결 이 가능하다   누군가는 정보처리 속도가 더 빨라지는 것이 더 이상 어떤 의미가 있느냐고  영화 한 편에 그 정도도 못 기다리느냐고 말할 수도 있다  일각에서는 기술적으로 혁신적인 진화 없이 속도만으로 세대를 나눈  G와  G는 마케팅 수단에 불과하다는 비판이 나오기도 한다  하지만 단순히 속도가 빨라진다는 수준에서만  G를 바라보면 큰 오산이다  이제 속도가 빠른 것은 기본이고  얼마나 지연 시간이 적은지  또 얼마나 많은 기기가 한꺼번에 연결될 수 있는지 여부까지 살펴봐야 한다  유영민 과학기술정보통신부 장관은  통신혁명은  G LTE 에서 끝났다   G는 지금까지 없었던 새로운 혁명의 시작 이라며   G는 평범한 통신기술이 아니라 빅데이터와 결합해 모든 산업을 고부가가치 산업으로 진화시키고 국민들의 일상을 송두리째 바꿀 혁신적인 패러다임 이라고 말하기도 했다                             우선 초고속은 말 그대로 속도가 빠르다는 뜻이기에 대용량 데이터도 빠르게 보낼 수 있다는 것을 의미한다  아무리 먼 거리에 있어도  찰나 의 지연조차 없이 실시간으로 대용량 데이터를 주고받을 수 있다  지금까지  GB 용량의 영화 한 편을 다운로드하는 데   초가 걸렸다면  G에서는    초 만에 다운되는 셈이다  이는 초저지연과 연결된다  단순히 네트워크 처리 용량이나 빠르기만 향상되는 것이 아니라 단말기와 기지국  서버가 많은 신호를 주고받는 시간을 단축시켜 지연을 없애는 것  즉 실시간에 가까운 개념이 초저지연의 핵심이다  이를 보여주는 대표적인 예시는 자율주행차량이다   고속도로에서 시속    ㎞로 주행하고 있는 자율주행차량 앞에 장애물을 발견하고 정지신호를 보내는 상황을 가정하자   G 기준으로는           를 움직인 뒤에 멈추지만  G에서는 그 거리가    ㎝로 줄어든다  물론 도로와 차량 제동거리 등 다양한 변수는 여전히 존재하지만 발견 인지 반응까지 걸리는 시간이 크게 줄어든다는 점에서 커다란 차이가 생긴다   G 수준에서는 사고가 될 수 있는 일이  G에서는 안전한 운전으로 바뀔 수 있다  마지막으로 초연결 역시 수준이 다르다   ㎢ 이내에 사물인터넷과 스마트 기기를 동시에 연결할 수 있는 양도   만 개에서    만 개로 늘어난다  다시 말해  G로 도시 내 모든 차량 사용자 기기가 연결되는 스마트 시티가 현실화되는 등  G시대에는 사람과 사물  정보와 기술  산업과 산업 등 모든 것이 이어진다  앞서 언급된 자율주행차량은 물론 건설 기계업과 연동해 스마트 공장과 스마트 도시를 구축하며  병원 시스템을 진화시켜 디지털 헬스케어 산업을 창출한다  자율주행차가 달릴 도로  모든 것이 디지털로 연결되는 새로운 도시  생체데이터가 자유롭게 연동되는 디지털 헬스케어 시스템 등 새로운 서비스를 적용시킬 테스트베드도 다양하게 만들어질 전망이다  이미 국내는 물론 해외 곳곳에서 자동차  의료  에너지  공장 등의 산업 군에서 융합을 추진하기 위한 테스트베드를 구축하고 있다  우리 과기정통부도 오는     년까지    억원을 투입해 자율주행차 스마트공장 스마트시티 재난 안전 미디어 등  대 분야에서  G 융합서비스 실증사업을 추진하고 있다   자연스럽게 경제성장과 일자리 창출에 대한 장밋빛 전망도 쏟아지고 있다  에릭슨에 따르면     년  G 관련시장은     조     조원에 달할 전망이다   G 단말과 장비시장이 약    조원  통신서비스는    조원  나머지는 새롭게 창출되는  G 관련 융합서비스 시장이다  ETRI는 같은 해 국내  G 시장규모를 약   조    억원 플러스 알파로 전망했다    IHS마켓은     년이면  G 기술이   조    억달러 규모의 산업을 창출할 것으로 전망했다  이는 미국 총 소비 금액과 비슷하며 중국  일본  독일  영국  프랑스의     년 총 소비 금액보다 큰 금액이다  IHS마켓은 글로벌  G의 직접 가치사슬로 보면     년 기준  조    억달러의 가치와     만 개의 일자리를 창출할 것이라고 전망했다  이는     년 포춘지가 선정한     대 기업에 이름을 올린 월마트  스테이트 그리드 S     G      CNPC C     N        P         C             로열더치  엑손모빌  폭스바겐  애플  버크셔 헤서웨이  삼성 등   개의 상위 기업의 수익을 합한 금액과 비슷하다   이 모든 것들이 너무 먼 미래처럼 보이고  당장  G의 효용을 누리지 못할 것 같다고 해도 걱정할 필요는 없다  일반 소비자들은 우선 데이터 사용료가 획기적으로 줄어드는 것에서  G 시대를 체감할 수 있을 전망이다  전문가들은  G 네트워크에서  GB데이터 전송 비용이 현재보다       까지 줄어들 것으로 보고 있다                                시장 선점 경쟁  치열       현재 이통  사는 첫 전파 송출을 시작한 뒤 본격적인 서비스 실행을 앞두고 분주한 모습이다  KT 아현지사 화재 때문에 당초 준비했던 대대적인 시연회들은 취소됐지만  사 모두  G 전파 송출은 예정대로 진행했다   사는 이번 사태를 교훈삼아  G 시대 통신망 보안과 네트워크망 관리에 더욱 만전을 기하겠다고 밝힌 상태다  다만 아직 일반 소비자들이  G를 직접 느껴보기까지 인내의 시간이 더 필요하다   G를 느낄 수 있는 가장 간편한 방법인  G 스마트폰은 올  월 정도가 되어야 출시될 예정이기 때문이다   삼성전자와 LG전자 등 스마트폰 제조사들은 새해  월 스페인 바르셀로나에서 열리는 모바일월드콩그레스 MWC      에서  G 스마트폰을 선보일 계획이다  일단 이통  사는 서울과 수도권 등 일부 지역을 시작으로 전국망을 구축하기 위해 노력하는 중이고  우선 기업고객 대상 모바일 라우터 네트워크 중계장치 동글 를 활용한 B B 서비스를 선보이는 중이다  커넥티드 카와 가상현실 VR  경기장 등 다양한  G 응용서비스를 선보였던 SK텔레콤은   스페이스 라는 플랫폼을 통해 모든 콘텐츠를 연결하는 모델을 선보인다  삼성전자와 긴밀히 협의해 모빌리티 증진기술  커버리지 확대 솔루션 개발 등에도 적극 나선다  SK텔레콤은 명동을 비롯해 을지로 본사와 종로를 아우르는 스마트 오피스를 만들고 이를  세계  G 일번지 로 발전시키겠다는 계획을 밝히기도 했다    SK의  호 고객은 안산 반월공단의 명화공업이다  명화공업은 지난  일   G AI 머신 비전  솔루션을 가동했다  자동차 부품이 컨베이어 벨트를 지나가는 동안     만 화소 카메라로 다각도에서 사진   장을 찍은 뒤 이를  G로 클라우드 서버에 전송하고 AI가 불량 여부를 곧바로 체크하는 방식이다   지난  월 평창동계올림픽에서  G 시범서비스로 기술력을 과시한 KT는 최근 조직개편에서   G 올인 이라는 목표를 재확인했다   G플랫폼개발단을 신설하고  G기반 스마트시티  스마트팩토리  커넥티드카  미디어  클라우드 등  개 영역을 중심으로 기업용 B B  사업에 적극 나서기로 한 것이다  KT는 특히 남북경제협력 분야에서  G 네트워크를 활용하는 것은 물론 글로벌 시장 진출 전략도 고심하고 있다    KT는 우선 사람이 아닌 로봇으로  G 서비스 첫 발을 내디뎠다  롯데월드타워에서 AI 안내와  G 체험을 제공하는 로봇 로타가 바로 그 주인공이다  KT는  G  호 가입자로  로타 를 선정한 것은 단순한 이동통신 세대의 교체가 아닌 생활과 산업 전반을 혁신하는 플랫폼이 될 것이라는 의미를 담았다고 설명했다    G LTE  도입 당시  개월이라는 최단기간에 전국망을 구축했던 LG유플러스는 그간의 노하우를 활용해  G로 국내 이동통신 시장 판도를 바꾼다는 각오다  네트워크 품질보장을 위해 프랑스 전파 설계 프로그램 전문회사 포스크와 제휴했고  경쟁사와 차별되는 다양한 콘텐츠 개발에 공을 들이고 있다  LG유플러스의  G 주요 공략지점은 서울을 비롯한 수도권  일부 광역시를 중심으로 빠르게 확산될 전망이다   LG유플러스는 산업기계 및 첨단부품 전문 기업인 LS엠트론을  호 고객으로 선정했는데  이 기업은 LG유플러스와 함께  G 원격제어 트랙터를 국내 최초로 개발했다  이 트랙터는 무인 경작 방식으로 관제 시스템 지도에 이동 경로만 설정하면 움직인다  운전자가 필요 없고 관제센터에서 모니터를 보는 관리자만 있으면 된다   이처럼 이동통신사들만 경쟁을 한 것은 아니다  삼성전자  노키아  에릭슨  화웨이 등 글로벌 네트워크 장비  사의 장외경쟁도 치열했다  통신망은 안정적 공급이 생명이기 때문에 모든 이통사들이 기본적으로    개 장비회사를 파트너로 삼는다   SK텔레콤과 KT가 기존 LTE망 파트너였던 삼성전자  노키아  에릭슨을 선택했고 LG유플러스만  사와 함께 화웨이를 선택했다  화웨이는 품질과 가성비를 무기로  사를 적극 공략했지만 글로벌 보안이슈의 벽을 넘지 못한 것으로 보인다  그러나 이통  사 모두 추후에 화웨이 도입 가능성을 열어둬 장비  사의 품질 경쟁은     년에도 계속 이어질 예정이다                             진짜 경쟁은 이제부터다   차적으로는 통신  사 중 누가 가장 안정적인 서비스를 공급해 소비자 마음을 잡느냐가 관건이다      년  분기부터  G 스마트폰이 출시되고 전국에 네트워크망이 깔리고 나면 차원이 다른 경쟁이 시작된다  한 가지 국제 표준을 사용하기 때문에 글로벌 시장이 열리는 것은 물론 다른 나라 통신사업자들과의 제휴 및 협력도 필수다  국내 중소기업과 소프트웨어 산업  콘텐츠 산업의 강화를 위한 정부 혹은 통신사 차원의 국제 협력이 필요한 이유다   세대까지의 이동통신에서는 콘텐츠 C          플랫폼 P          네트워크 N         디바이스 D       등 CPND 생태계 조성이 중요했다   G 생태계는 이와는 비교할 수 없을 만큼 광범위하게 확장된다   그동안 인류의 역사는 인쇄기  인터넷  전기  증기기관 등 새로운 혁신과 발명을 통해 변해왔다   G 역시 활용 방법에 따라 단순히 진화된 통신기술이 아니라 산업과 경제 전반을 변화시키는 범용기술로 발전할 수 있다는 것이 전문가들의 견해다    이용익 모바일부 기자    본 기사는 매일경제 L      제   호      년  월  기사입니다 '"
            ]
          },
          "metadata": {
            "tags": []
          },
          "execution_count": 16
        }
      ]
    },
    {
      "cell_type": "code",
      "metadata": {
        "id": "2RvZsxXG_YA3"
      },
      "source": [
        "from konlpy.tag import Okt\n",
        "okt = Okt()"
      ],
      "execution_count": null,
      "outputs": []
    },
    {
      "cell_type": "code",
      "metadata": {
        "id": "IxNCRv-iSl99"
      },
      "source": [
        "#토큰화\n",
        "news_sub2 = []\n",
        "\n",
        "for i in range(len(Business_strategy)):\n",
        "  news_sub2.append(okt.morphs(Business_strategy['정규화'][i]))\n",
        "\n",
        "Business_strategy['토큰화'] = news_sub2"
      ],
      "execution_count": null,
      "outputs": []
    },
    {
      "cell_type": "code",
      "metadata": {
        "id": "QNnKL6dhtB06",
        "outputId": "d62a9836-21f1-4894-8d0a-1eceeb1e17b4",
        "colab": {
          "base_uri": "https://localhost:8080/",
          "height": 570
        }
      },
      "source": [
        "Business_strategy.drop(columns='keywords')"
      ],
      "execution_count": null,
      "outputs": [
        {
          "output_type": "execute_result",
          "data": {
            "text/html": [
              "<div>\n",
              "<style scoped>\n",
              "    .dataframe tbody tr th:only-of-type {\n",
              "        vertical-align: middle;\n",
              "    }\n",
              "\n",
              "    .dataframe tbody tr th {\n",
              "        vertical-align: top;\n",
              "    }\n",
              "\n",
              "    .dataframe thead th {\n",
              "        text-align: right;\n",
              "    }\n",
              "</style>\n",
              "<table border=\"1\" class=\"dataframe\">\n",
              "  <thead>\n",
              "    <tr style=\"text-align: right;\">\n",
              "      <th></th>\n",
              "      <th>index</th>\n",
              "      <th>no</th>\n",
              "      <th>pubdate</th>\n",
              "      <th>pubtime</th>\n",
              "      <th>title1</th>\n",
              "      <th>body</th>\n",
              "      <th>정규화</th>\n",
              "      <th>토큰화</th>\n",
              "    </tr>\n",
              "  </thead>\n",
              "  <tbody>\n",
              "    <tr>\n",
              "      <th>0</th>\n",
              "      <td>3287</td>\n",
              "      <td>3961020</td>\n",
              "      <td>20190107</td>\n",
              "      <td>161524.0</td>\n",
              "      <td>Business Strategy</td>\n",
              "      <td>사티아 나델라(51) 최고경영자(CEO)가 마이크로소프트로 취임한지 5년 만에 이...</td>\n",
              "      <td>사티아 나델라     최고경영자 CEO 가 마이크로소프트로 취임한지  년 만에 이...</td>\n",
              "      <td>[사티, 아, 나델, 라, 최고경영자, CEO, 가, 마이크로소프트, 로, 취임, ...</td>\n",
              "    </tr>\n",
              "    <tr>\n",
              "      <th>1</th>\n",
              "      <td>3327</td>\n",
              "      <td>3961106</td>\n",
              "      <td>20190107</td>\n",
              "      <td>164646.0</td>\n",
              "      <td>Business Strategy</td>\n",
              "      <td>12월 1일, 대한민국이 ‘미래’를 쏘아 올렸다. SK텔레콤·KT·LG유플러스 이...</td>\n",
              "      <td>월  일  대한민국이  미래 를 쏘아 올렸다  SK텔레콤 KT LG유플러스 이...</td>\n",
              "      <td>[월, 일, 대한민국, 이, 미래, 를, 쏘아, 올렸다, SK, 텔레콤, KT, L...</td>\n",
              "    </tr>\n",
              "    <tr>\n",
              "      <th>2</th>\n",
              "      <td>3845</td>\n",
              "      <td>3962005</td>\n",
              "      <td>20190108</td>\n",
              "      <td>140808.0</td>\n",
              "      <td>Business Strategy</td>\n",
              "      <td>한국 조선업은 2018년 연간 수주 실적에서 중국을 제치고 세계 1위를 달성한 것...</td>\n",
              "      <td>한국 조선업은     년 연간 수주 실적에서 중국을 제치고 세계  위를 달성한 것...</td>\n",
              "      <td>[한국, 조선업, 은, 년, 연간, 수주, 실적, 에서, 중국, 을, 제, 치고, ...</td>\n",
              "    </tr>\n",
              "    <tr>\n",
              "      <th>3</th>\n",
              "      <td>4036</td>\n",
              "      <td>3962331</td>\n",
              "      <td>20190108</td>\n",
              "      <td>171552.0</td>\n",
              "      <td>Business Strategy</td>\n",
              "      <td>주 52시간 근로제의 본격적 의무 시행이 눈앞으로 다가왔다. 물론 주 52시간 근...</td>\n",
              "      <td>주   시간 근로제의 본격적 의무 시행이 눈앞으로 다가왔다  물론 주   시간 근...</td>\n",
              "      <td>[주, 시간, 근로, 제의, 본격, 적, 의무, 시행, 이, 눈앞, 으로, 다가왔다...</td>\n",
              "    </tr>\n",
              "    <tr>\n",
              "      <th>4</th>\n",
              "      <td>18829</td>\n",
              "      <td>3991071</td>\n",
              "      <td>20190208</td>\n",
              "      <td>142605.0</td>\n",
              "      <td>Business Strategy</td>\n",
              "      <td>TV는 언제나 집안의 중심을 차지해왔다. 기술 발전으로 잠시 관심에서 멀어진 듯한...</td>\n",
              "      <td>TV는 언제나 집안의 중심을 차지해왔다  기술 발전으로 잠시 관심에서 멀어진 듯한...</td>\n",
              "      <td>[TV, 는, 언제나, 집안, 의, 중심, 을, 차지, 해왔다, 기술, 발전, 으로...</td>\n",
              "    </tr>\n",
              "    <tr>\n",
              "      <th>...</th>\n",
              "      <td>...</td>\n",
              "      <td>...</td>\n",
              "      <td>...</td>\n",
              "      <td>...</td>\n",
              "      <td>...</td>\n",
              "      <td>...</td>\n",
              "      <td>...</td>\n",
              "      <td>...</td>\n",
              "    </tr>\n",
              "    <tr>\n",
              "      <th>99</th>\n",
              "      <td>278475</td>\n",
              "      <td>4505509</td>\n",
              "      <td>20200529</td>\n",
              "      <td>144352.0</td>\n",
              "      <td>Business Strategy</td>\n",
              "      <td>코로나19 장기화로 ‘비대면 사회’가 가속화하는 가운데 온라인 쇼핑이 ‘포스트 코로...</td>\n",
              "      <td>코로나   장기화로  비대면 사회 가 가속화하는 가운데 온라인 쇼핑이  포스트 코로...</td>\n",
              "      <td>[코로나, 장기, 화로, 비대, 면, 사회, 가, 가속, 화하는, 가운데, 온라인,...</td>\n",
              "    </tr>\n",
              "    <tr>\n",
              "      <th>100</th>\n",
              "      <td>278537</td>\n",
              "      <td>4505614</td>\n",
              "      <td>20200529</td>\n",
              "      <td>154334.0</td>\n",
              "      <td>Business Strategy</td>\n",
              "      <td>‘동영상 시대’가 왔다. 미취학 아동부터 7080 노인까지 저마다 즐겨 찾는 영상 ...</td>\n",
              "      <td>동영상 시대 가 왔다  미취학 아동부터      노인까지 저마다 즐겨 찾는 영상 ...</td>\n",
              "      <td>[동영상, 시대, 가, 왔다, 미취, 학, 아동, 부터, 노인, 까지, 저, 마다,...</td>\n",
              "    </tr>\n",
              "    <tr>\n",
              "      <th>101</th>\n",
              "      <td>278559</td>\n",
              "      <td>4505656</td>\n",
              "      <td>20200529</td>\n",
              "      <td>161124.0</td>\n",
              "      <td>Business Strategy</td>\n",
              "      <td>유통업계의 온라인화가 가속화하면서 오프라인 매장은 단순히 제품을 판매하는 것 이상의...</td>\n",
              "      <td>유통업계의 온라인화가 가속화하면서 오프라인 매장은 단순히 제품을 판매하는 것 이상의...</td>\n",
              "      <td>[유통업, 계, 의, 온라인, 화가, 가속, 화하면서, 오프라인, 매장, 은, 단순...</td>\n",
              "    </tr>\n",
              "    <tr>\n",
              "      <th>102</th>\n",
              "      <td>282478</td>\n",
              "      <td>4513059</td>\n",
              "      <td>20200605</td>\n",
              "      <td>103855.0</td>\n",
              "      <td>Business Strategy</td>\n",
              "      <td>▶“심장박동처럼 울리는 배기음, 날카로운 코너링의\\n박진감, 드라이빙의 짜릿함과 스...</td>\n",
              "      <td>심장박동처럼 울리는 배기음  날카로운 코너링의 박진감  드라이빙의 짜릿함과 스릴...</td>\n",
              "      <td>[심장, 박동, 처럼, 울리는, 배기음, 날카로운, 코너링, 의, 박진, 감, 드라...</td>\n",
              "    </tr>\n",
              "    <tr>\n",
              "      <th>103</th>\n",
              "      <td>282497</td>\n",
              "      <td>4513094</td>\n",
              "      <td>20200605</td>\n",
              "      <td>105946.0</td>\n",
              "      <td>Business Strategy</td>\n",
              "      <td>“시스템반도체, 바이오헬스, 미래차 등 3대 신성장 산업을 더욱 강력히 육성하여 미...</td>\n",
              "      <td>시스템반도체  바이오헬스  미래차 등  대 신성장 산업을 더욱 강력히 육성하여 미...</td>\n",
              "      <td>[시스템, 반도체, 바이오, 헬스, 미래, 차, 등, 대, 신, 성장, 산업, 을,...</td>\n",
              "    </tr>\n",
              "  </tbody>\n",
              "</table>\n",
              "<p>104 rows × 8 columns</p>\n",
              "</div>"
            ],
            "text/plain": [
              "      index  ...                                                토큰화\n",
              "0      3287  ...  [사티, 아, 나델, 라, 최고경영자, CEO, 가, 마이크로소프트, 로, 취임, ...\n",
              "1      3327  ...  [월, 일, 대한민국, 이, 미래, 를, 쏘아, 올렸다, SK, 텔레콤, KT, L...\n",
              "2      3845  ...  [한국, 조선업, 은, 년, 연간, 수주, 실적, 에서, 중국, 을, 제, 치고, ...\n",
              "3      4036  ...  [주, 시간, 근로, 제의, 본격, 적, 의무, 시행, 이, 눈앞, 으로, 다가왔다...\n",
              "4     18829  ...  [TV, 는, 언제나, 집안, 의, 중심, 을, 차지, 해왔다, 기술, 발전, 으로...\n",
              "..      ...  ...                                                ...\n",
              "99   278475  ...  [코로나, 장기, 화로, 비대, 면, 사회, 가, 가속, 화하는, 가운데, 온라인,...\n",
              "100  278537  ...  [동영상, 시대, 가, 왔다, 미취, 학, 아동, 부터, 노인, 까지, 저, 마다,...\n",
              "101  278559  ...  [유통업, 계, 의, 온라인, 화가, 가속, 화하면서, 오프라인, 매장, 은, 단순...\n",
              "102  282478  ...  [심장, 박동, 처럼, 울리는, 배기음, 날카로운, 코너링, 의, 박진, 감, 드라...\n",
              "103  282497  ...  [시스템, 반도체, 바이오, 헬스, 미래, 차, 등, 대, 신, 성장, 산업, 을,...\n",
              "\n",
              "[104 rows x 8 columns]"
            ]
          },
          "metadata": {
            "tags": []
          },
          "execution_count": 19
        }
      ]
    },
    {
      "cell_type": "code",
      "metadata": {
        "id": "RKIT6DsIr29G"
      },
      "source": [
        "oktTag = []\n",
        "\n",
        "for i in range(len(Business_strategy['정규화'])):\n",
        "  oktTag.append(okt.pos(Business_strategy['정규화'][i]))\n",
        "\n",
        "Business_strategy['postagging'] = oktTag"
      ],
      "execution_count": null,
      "outputs": []
    },
    {
      "cell_type": "code",
      "metadata": {
        "id": "73IGQntRoGCv",
        "outputId": "16493b1b-a0bb-4b22-cf4b-57c1e28b8757",
        "colab": {
          "base_uri": "https://localhost:8080/",
          "height": 363
        }
      },
      "source": [
        "Business_strategy.head()"
      ],
      "execution_count": null,
      "outputs": [
        {
          "output_type": "execute_result",
          "data": {
            "text/html": [
              "<div>\n",
              "<style scoped>\n",
              "    .dataframe tbody tr th:only-of-type {\n",
              "        vertical-align: middle;\n",
              "    }\n",
              "\n",
              "    .dataframe tbody tr th {\n",
              "        vertical-align: top;\n",
              "    }\n",
              "\n",
              "    .dataframe thead th {\n",
              "        text-align: right;\n",
              "    }\n",
              "</style>\n",
              "<table border=\"1\" class=\"dataframe\">\n",
              "  <thead>\n",
              "    <tr style=\"text-align: right;\">\n",
              "      <th></th>\n",
              "      <th>index</th>\n",
              "      <th>no</th>\n",
              "      <th>pubdate</th>\n",
              "      <th>pubtime</th>\n",
              "      <th>title1</th>\n",
              "      <th>body</th>\n",
              "      <th>keywords</th>\n",
              "      <th>정규화</th>\n",
              "      <th>토큰화</th>\n",
              "      <th>postagging</th>\n",
              "    </tr>\n",
              "  </thead>\n",
              "  <tbody>\n",
              "    <tr>\n",
              "      <th>0</th>\n",
              "      <td>3287</td>\n",
              "      <td>3961020</td>\n",
              "      <td>20190107</td>\n",
              "      <td>161524.0</td>\n",
              "      <td>Business Strategy</td>\n",
              "      <td>사티아 나델라(51) 최고경영자(CEO)가 마이크로소프트로 취임한지 5년 만에 이...</td>\n",
              "      <td>NaN</td>\n",
              "      <td>사티아 나델라     최고경영자 CEO 가 마이크로소프트로 취임한지  년 만에 이...</td>\n",
              "      <td>[사티, 아, 나델, 라, 최고경영자, CEO, 가, 마이크로소프트, 로, 취임, ...</td>\n",
              "      <td>[(사티, Noun), (아, Josa), (나델, Noun), (라, Josa),...</td>\n",
              "    </tr>\n",
              "    <tr>\n",
              "      <th>1</th>\n",
              "      <td>3327</td>\n",
              "      <td>3961106</td>\n",
              "      <td>20190107</td>\n",
              "      <td>164646.0</td>\n",
              "      <td>Business Strategy</td>\n",
              "      <td>12월 1일, 대한민국이 ‘미래’를 쏘아 올렸다. SK텔레콤·KT·LG유플러스 이...</td>\n",
              "      <td>NaN</td>\n",
              "      <td>월  일  대한민국이  미래 를 쏘아 올렸다  SK텔레콤 KT LG유플러스 이...</td>\n",
              "      <td>[월, 일, 대한민국, 이, 미래, 를, 쏘아, 올렸다, SK, 텔레콤, KT, L...</td>\n",
              "      <td>[(월, Noun), (일, Noun), (대한민국, Noun), (이, Josa)...</td>\n",
              "    </tr>\n",
              "    <tr>\n",
              "      <th>2</th>\n",
              "      <td>3845</td>\n",
              "      <td>3962005</td>\n",
              "      <td>20190108</td>\n",
              "      <td>140808.0</td>\n",
              "      <td>Business Strategy</td>\n",
              "      <td>한국 조선업은 2018년 연간 수주 실적에서 중국을 제치고 세계 1위를 달성한 것...</td>\n",
              "      <td>NaN</td>\n",
              "      <td>한국 조선업은     년 연간 수주 실적에서 중국을 제치고 세계  위를 달성한 것...</td>\n",
              "      <td>[한국, 조선업, 은, 년, 연간, 수주, 실적, 에서, 중국, 을, 제, 치고, ...</td>\n",
              "      <td>[(한국, Noun), (조선업, Noun), (은, Josa), (년, Noun)...</td>\n",
              "    </tr>\n",
              "    <tr>\n",
              "      <th>3</th>\n",
              "      <td>4036</td>\n",
              "      <td>3962331</td>\n",
              "      <td>20190108</td>\n",
              "      <td>171552.0</td>\n",
              "      <td>Business Strategy</td>\n",
              "      <td>주 52시간 근로제의 본격적 의무 시행이 눈앞으로 다가왔다. 물론 주 52시간 근...</td>\n",
              "      <td>NaN</td>\n",
              "      <td>주   시간 근로제의 본격적 의무 시행이 눈앞으로 다가왔다  물론 주   시간 근...</td>\n",
              "      <td>[주, 시간, 근로, 제의, 본격, 적, 의무, 시행, 이, 눈앞, 으로, 다가왔다...</td>\n",
              "      <td>[(주, Noun), (시간, Noun), (근로, Noun), (제의, Noun)...</td>\n",
              "    </tr>\n",
              "    <tr>\n",
              "      <th>4</th>\n",
              "      <td>18829</td>\n",
              "      <td>3991071</td>\n",
              "      <td>20190208</td>\n",
              "      <td>142605.0</td>\n",
              "      <td>Business Strategy</td>\n",
              "      <td>TV는 언제나 집안의 중심을 차지해왔다. 기술 발전으로 잠시 관심에서 멀어진 듯한...</td>\n",
              "      <td>NaN</td>\n",
              "      <td>TV는 언제나 집안의 중심을 차지해왔다  기술 발전으로 잠시 관심에서 멀어진 듯한...</td>\n",
              "      <td>[TV, 는, 언제나, 집안, 의, 중심, 을, 차지, 해왔다, 기술, 발전, 으로...</td>\n",
              "      <td>[(TV, Alpha), (는, Verb), (언제나, Adverb), (집안, N...</td>\n",
              "    </tr>\n",
              "  </tbody>\n",
              "</table>\n",
              "</div>"
            ],
            "text/plain": [
              "   index  ...                                         postagging\n",
              "0   3287  ...  [(사티, Noun), (아, Josa), (나델, Noun), (라, Josa),...\n",
              "1   3327  ...  [(월, Noun), (일, Noun), (대한민국, Noun), (이, Josa)...\n",
              "2   3845  ...  [(한국, Noun), (조선업, Noun), (은, Josa), (년, Noun)...\n",
              "3   4036  ...  [(주, Noun), (시간, Noun), (근로, Noun), (제의, Noun)...\n",
              "4  18829  ...  [(TV, Alpha), (는, Verb), (언제나, Adverb), (집안, N...\n",
              "\n",
              "[5 rows x 10 columns]"
            ]
          },
          "metadata": {
            "tags": []
          },
          "execution_count": 21
        }
      ]
    },
    {
      "cell_type": "code",
      "metadata": {
        "id": "lstJyffOWql9",
        "outputId": "7b5681d8-16f3-4487-ef39-9c2864476f63",
        "colab": {
          "base_uri": "https://localhost:8080/",
          "height": 169
        }
      },
      "source": [
        "\n",
        "\n",
        "Business_strategy['postagging'] in '월'"
      ],
      "execution_count": null,
      "outputs": [
        {
          "output_type": "error",
          "ename": "TypeError",
          "evalue": "ignored",
          "traceback": [
            "\u001b[0;31m---------------------------------------------------------------------------\u001b[0m",
            "\u001b[0;31mTypeError\u001b[0m                                 Traceback (most recent call last)",
            "\u001b[0;32m<ipython-input-29-e1705013f16e>\u001b[0m in \u001b[0;36m<module>\u001b[0;34m()\u001b[0m\n\u001b[0;32m----> 1\u001b[0;31m \u001b[0mBusiness_strategy\u001b[0m\u001b[0;34m[\u001b[0m\u001b[0;34m'postagging'\u001b[0m\u001b[0;34m]\u001b[0m \u001b[0;32min\u001b[0m \u001b[0;34m'월'\u001b[0m\u001b[0;34m\u001b[0m\u001b[0;34m\u001b[0m\u001b[0m\n\u001b[0m",
            "\u001b[0;31mTypeError\u001b[0m: 'in <string>' requires string as left operand, not Series"
          ]
        }
      ]
    },
    {
      "cell_type": "code",
      "metadata": {
        "id": "j0HZ3e3epmK8"
      },
      "source": [
        "stopword = pd.read_csv('stopword_korean.csv')"
      ],
      "execution_count": null,
      "outputs": []
    },
    {
      "cell_type": "code",
      "metadata": {
        "id": "J5UjsSjgpoKY"
      },
      "source": [
        "new_stopword = stopword.drop(columns='Unnamed: 0')"
      ],
      "execution_count": null,
      "outputs": []
    },
    {
      "cell_type": "code",
      "metadata": {
        "id": "u9UqgltHrPy9",
        "outputId": "fc369433-ab2d-45e7-80e3-a52eb98469b3",
        "colab": {
          "base_uri": "https://localhost:8080/",
          "height": 1000
        }
      },
      "source": [
        "#불용어처리\n",
        "from collections import Counter\n",
        "Counter(Business_strategy['postagging'][0]).most_common()"
      ],
      "execution_count": null,
      "outputs": [
        {
          "output_type": "execute_result",
          "data": {
            "text/plain": [
              "[(('을', 'Josa'), 71),\n",
              " (('의', 'Josa'), 47),\n",
              " (('를', 'Josa'), 47),\n",
              " (('에', 'Josa'), 44),\n",
              " (('마이크로소프트', 'Noun'), 33),\n",
              " (('했다', 'Verb'), 30),\n",
              " (('는', 'Josa'), 30),\n",
              " (('CEO', 'Alpha'), 22),\n",
              " (('이', 'Josa'), 22),\n",
              " (('은', 'Josa'), 20),\n",
              " (('위', 'Noun'), 19),\n",
              " (('로', 'Josa'), 18),\n",
              " (('으로', 'Josa'), 18),\n",
              " (('한', 'Josa'), 17),\n",
              " (('클라우드', 'Noun'), 17),\n",
              " (('기업', 'Noun'), 16),\n",
              " (('등', 'Noun'), 15),\n",
              " (('AI', 'Alpha'), 15),\n",
              " (('년', 'Noun'), 14),\n",
              " (('가', 'Josa'), 14),\n",
              " (('것', 'Noun'), 14),\n",
              " (('는', 'Verb'), 14),\n",
              " (('애플', 'Noun'), 13),\n",
              " (('에서', 'Josa'), 13),\n",
              " (('들', 'Suffix'), 13),\n",
              " (('그', 'Noun'), 13),\n",
              " (('를', 'Noun'), 13),\n",
              " (('나델', 'Noun'), 12),\n",
              " (('월', 'Noun'), 12),\n",
              " (('과', 'Josa'), 12),\n",
              " (('와', 'Josa'), 12),\n",
              " (('라', 'Josa'), 11),\n",
              " (('있다', 'Adjective'), 11),\n",
              " (('적', 'Suffix'), 11),\n",
              " (('수', 'Noun'), 11),\n",
              " (('할', 'Verb'), 11),\n",
              " (('인', 'Josa'), 10),\n",
              " (('이다', 'Josa'), 10),\n",
              " (('해', 'Verb'), 10),\n",
              " (('사업', 'Noun'), 10),\n",
              " (('가', 'Verb'), 9),\n",
              " (('됐다', 'Verb'), 9),\n",
              " (('하고', 'Josa'), 9),\n",
              " (('하는', 'Verb'), 9),\n",
              " (('공감', 'Noun'), 9),\n",
              " (('지난', 'Noun'), 8),\n",
              " (('하면서', 'Verb'), 8),\n",
              " (('직원', 'Noun'), 8),\n",
              " (('기술', 'Noun'), 8),\n",
              " (('구글', 'Noun'), 8),\n",
              " (('취임', 'Noun'), 7),\n",
              " (('회사', 'Noun'), 7),\n",
              " (('미국', 'Noun'), 7),\n",
              " (('달러', 'Noun'), 7),\n",
              " (('이후', 'Noun'), 7),\n",
              " (('MS', 'Alpha'), 7),\n",
              " (('의', 'Noun'), 7),\n",
              " (('윈도', 'Noun'), 7),\n",
              " (('시장', 'Noun'), 7),\n",
              " (('경쟁', 'Noun'), 7),\n",
              " (('시가총액', 'Noun'), 6),\n",
              " (('혁신', 'Noun'), 6),\n",
              " (('주가', 'Noun'), 6),\n",
              " (('대한', 'Noun'), 6),\n",
              " (('고', 'Noun'), 6),\n",
              " (('아마존', 'Noun'), 6),\n",
              " (('변화', 'Noun'), 6),\n",
              " (('오피스', 'Noun'), 6),\n",
              " (('오픈소스', 'Noun'), 6),\n",
              " (('리눅스', 'Noun'), 6),\n",
              " (('이', 'Noun'), 5),\n",
              " (('평가', 'Noun'), 5),\n",
              " (('발표', 'Noun'), 5),\n",
              " (('서비스', 'Noun'), 5),\n",
              " (('도', 'Josa'), 5),\n",
              " (('였다', 'Verb'), 5),\n",
              " (('며', 'Noun'), 5),\n",
              " (('에게', 'Josa'), 5),\n",
              " (('한다', 'Verb'), 5),\n",
              " (('협업', 'Noun'), 5),\n",
              " (('인수', 'Noun'), 5),\n",
              " (('사용', 'Noun'), 5),\n",
              " (('활용', 'Noun'), 5),\n",
              " (('일', 'Noun'), 4),\n",
              " (('된', 'Verb'), 4),\n",
              " (('억', 'Modifier'), 4),\n",
              " (('시', 'Modifier'), 4),\n",
              " (('총', 'Noun'), 4),\n",
              " (('에서도', 'Josa'), 4),\n",
              " (('결국', 'Adverb'), 4),\n",
              " (('성장', 'Noun'), 4),\n",
              " (('인', 'Noun'), 4),\n",
              " (('소프트웨어', 'Noun'), 4),\n",
              " (('시스템', 'Noun'), 4),\n",
              " (('했고', 'Verb'), 4),\n",
              " (('부터', 'Josa'), 4),\n",
              " (('컴퓨터', 'Noun'), 4),\n",
              " (('OS', 'Alpha'), 4),\n",
              " (('중심', 'Noun'), 4),\n",
              " (('된다', 'Verb'), 4),\n",
              " (('조직', 'Noun'), 4),\n",
              " (('선택', 'Noun'), 4),\n",
              " (('노키아', 'Noun'), 4),\n",
              " (('개발', 'Noun'), 4),\n",
              " (('아들', 'Noun'), 4),\n",
              " (('애저', 'Noun'), 4),\n",
              " (('능력', 'Noun'), 4),\n",
              " (('마감', 'Noun'), 3),\n",
              " (('기록', 'Noun'), 3),\n",
              " (('하며', 'Verb'), 3),\n",
              " (('차지', 'Noun'), 3),\n",
              " (('제', 'Noun'), 3),\n",
              " (('유지', 'Noun'), 3),\n",
              " (('더욱', 'Noun'), 3),\n",
              " (('간', 'Suffix'), 3),\n",
              " (('용', 'Noun'), 3),\n",
              " (('하게', 'Verb'), 3),\n",
              " (('운영체제', 'Noun'), 3),\n",
              " (('존중', 'Noun'), 3),\n",
              " (('업계', 'Noun'), 3),\n",
              " (('전', 'Noun'), 3),\n",
              " (('세계', 'Noun'), 3),\n",
              " (('가치', 'Noun'), 3),\n",
              " (('뒤', 'Noun'), 3),\n",
              " (('그', 'Determiner'), 3),\n",
              " (('최대', 'Noun'), 3),\n",
              " (('페이스북', 'Noun'), 3),\n",
              " (('스마트폰', 'Noun'), 3),\n",
              " (('하지', 'Verb'), 3),\n",
              " (('시작', 'Noun'), 3),\n",
              " (('H', 'Alpha'), 3),\n",
              " (('새로', 'Adjective'), 3),\n",
              " (('모든', 'Noun'), 3),\n",
              " (('사람', 'Noun'), 3),\n",
              " (('지원', 'Noun'), 3),\n",
              " (('강조', 'Noun'), 3),\n",
              " (('못', 'VerbPrefix'), 3),\n",
              " (('라고', 'Josa'), 3),\n",
              " (('만', 'Josa'), 3),\n",
              " (('컴퓨팅', 'Noun'), 3),\n",
              " (('분석', 'Noun'), 3),\n",
              " (('AWS', 'Alpha'), 3),\n",
              " (('있다는', 'Adjective'), 3),\n",
              " (('아니라', 'Adjective'), 3),\n",
              " (('인공', 'Noun'), 3),\n",
              " (('지능', 'Noun'), 3),\n",
              " (('있도록', 'Adjective'), 3),\n",
              " (('비즈니스', 'Noun'), 3),\n",
              " (('다', 'Josa'), 3),\n",
              " (('통해', 'Noun'), 3),\n",
              " (('인사', 'Noun'), 3),\n",
              " (('철학', 'Noun'), 3),\n",
              " (('겪는', 'Verb'), 3),\n",
              " (('뇌성마비', 'Noun'), 3),\n",
              " (('해야', 'Verb'), 3),\n",
              " (('환자', 'Noun'), 3),\n",
              " (('사티', 'Noun'), 2),\n",
              " (('아', 'Josa'), 2),\n",
              " (('뉴욕', 'Noun'), 2),\n",
              " (('증시', 'Noun'), 2),\n",
              " (('비유', 'Noun'), 2),\n",
              " (('약', 'Noun'), 2),\n",
              " (('조', 'Noun'), 2),\n",
              " (('억원', 'Noun'), 2),\n",
              " (('이', 'Determiner'), 2),\n",
              " (('날', 'Noun'), 2),\n",
              " (('하락', 'Noun'), 2),\n",
              " (('보다', 'Josa'), 2),\n",
              " (('가량', 'Noun'), 2),\n",
              " (('자리', 'Noun'), 2),\n",
              " (('했지만', 'Verb'), 2),\n",
              " (('이를', 'Verb'), 2),\n",
              " (('받고', 'Verb'), 2),\n",
              " (('이었다', 'Verb'), 2),\n",
              " (('까지', 'Josa'), 2),\n",
              " (('로부터', 'Noun'), 2),\n",
              " (('나', 'Noun'), 2),\n",
              " (('확대', 'Noun'), 2),\n",
              " (('배', 'Noun'), 2),\n",
              " (('정도', 'Noun'), 2),\n",
              " (('시킨', 'Verb'), 2),\n",
              " (('주목', 'Noun'), 2),\n",
              " (('사이트', 'Noun'), 2),\n",
              " (('캄퍼러블리', 'Noun'), 2),\n",
              " (('C', 'Alpha'), 2),\n",
              " (('내', 'Noun'), 2),\n",
              " (('만여', 'Modifier'), 2),\n",
              " (('임', 'Noun'), 2),\n",
              " (('했는데', 'Verb'), 2),\n",
              " (('SW', 'Alpha'), 2),\n",
              " (('엔지니어', 'Noun'), 2),\n",
              " (('합류', 'Noun'), 2),\n",
              " (('부사', 'Noun'), 2),\n",
              " (('라는', 'Josa'), 2),\n",
              " (('구조', 'Noun'), 2),\n",
              " (('과감', 'Noun'), 2),\n",
              " (('전환', 'Noun'), 2),\n",
              " (('특히', 'Adverb'), 2),\n",
              " (('가장', 'Noun'), 2),\n",
              " (('있는', 'Adjective'), 2),\n",
              " (('성과', 'Noun'), 2),\n",
              " (('크', 'Verb'), 2),\n",
              " (('레이', 'Noun'), 2),\n",
              " (('이어', 'Verb'), 2),\n",
              " (('업체', 'Noun'), 2),\n",
              " (('전자상거래', 'Noun'), 2),\n",
              " (('팀', 'Noun'), 2),\n",
              " (('권', 'Suffix'), 2),\n",
              " (('유출', 'Noun'), 2),\n",
              " (('안주', 'Noun'), 2),\n",
              " (('모바일', 'Noun'), 2),\n",
              " (('과거', 'Noun'), 2),\n",
              " (('길이', 'Noun'), 2),\n",
              " (('자서전', 'Noun'), 2),\n",
              " (('고침', 'Verb'), 2),\n",
              " (('당시', 'Noun'), 2),\n",
              " (('추구', 'Noun'), 2),\n",
              " (('냈다', 'Verb'), 2),\n",
              " (('그대로', 'Noun'), 2),\n",
              " (('새로운', 'Adjective'), 2),\n",
              " (('이나', 'Josa'), 2),\n",
              " (('게', 'Josa'), 2),\n",
              " (('점', 'Noun'), 2),\n",
              " (('제시', 'Noun'), 2),\n",
              " (('문화', 'Noun'), 2),\n",
              " (('내부', 'Noun'), 2),\n",
              " (('간', 'Noun'), 2),\n",
              " (('만드는', 'Verb'), 2),\n",
              " (('부서', 'Noun'), 2),\n",
              " (('오히려', 'Noun'), 2),\n",
              " (('부', 'Noun'), 2),\n",
              " (('고객', 'Noun'), 2),\n",
              " (('자', 'Suffix'), 2),\n",
              " (('말', 'Noun'), 2),\n",
              " (('잘', 'VerbPrefix'), 2),\n",
              " (('방향', 'Noun'), 2),\n",
              " (('시너지', 'Noun'), 2),\n",
              " (('아이폰', 'Noun'), 2),\n",
              " (('안드로이드', 'Noun'), 2),\n",
              " (('되는', 'Verb'), 2),\n",
              " (('애플리케이션', 'Noun'), 2),\n",
              " (('폐쇄', 'Noun'), 2),\n",
              " (('포트폴리오', 'Noun'), 2),\n",
              " (('전략', 'Noun'), 2),\n",
              " (('최근', 'Noun'), 2),\n",
              " (('점유', 'Noun'), 2),\n",
              " (('율', 'Noun'), 2),\n",
              " (('탈바꿈', 'Noun'), 2),\n",
              " (('률', 'Noun'), 2),\n",
              " (('매출', 'Noun'), 2),\n",
              " (('공개', 'Noun'), 2),\n",
              " (('에서는', 'Josa'), 2),\n",
              " (('얘기', 'Noun'), 2),\n",
              " (('계약', 'Noun'), 2),\n",
              " (('데이터', 'Noun'), 2),\n",
              " (('개방', 'Noun'), 2),\n",
              " (('잘', 'Verb'), 2),\n",
              " (('선언', 'Noun'), 2),\n",
              " (('지난해', 'Noun'), 2),\n",
              " (('이는', 'Verb'), 2),\n",
              " (('기존', 'Noun'), 2),\n",
              " (('이런', 'Adjective'), 2),\n",
              " (('라이선스', 'Noun'), 2),\n",
              " (('미래', 'Noun'), 2),\n",
              " (('다양한', 'Adjective'), 2),\n",
              " (('센티', 'Noun'), 2),\n",
              " (('브', 'Noun'), 2),\n",
              " (('제도', 'Noun'), 2),\n",
              " (('모두', 'Noun'), 2),\n",
              " (('없이', 'Adverb'), 2),\n",
              " (('삶', 'Noun'), 2),\n",
              " (('협력', 'Noun'), 2),\n",
              " (('무엇', 'Noun'), 2),\n",
              " (('시선', 'Noun'), 2),\n",
              " (('추적', 'Noun'), 2),\n",
              " (('시각', 'Noun'), 2),\n",
              " (('S', 'Alpha'), 2),\n",
              " (('프로젝트', 'Noun'), 2),\n",
              " (('사생활', 'Noun'), 2),\n",
              " (('규제', 'Noun'), 2),\n",
              " (('하기도', 'Verb'), 2),\n",
              " (('보호', 'Noun'), 2),\n",
              " (('인간', 'Noun'), 2),\n",
              " (('돼야', 'Verb'), 2),\n",
              " (('기사', 'Noun'), 2),\n",
              " (('최고경영자', 'Noun'), 1),\n",
              " (('한지', 'Noun'), 1),\n",
              " (('만에', 'Josa'), 1),\n",
              " (('복귀', 'Noun'), 1),\n",
              " (('잠자는', 'Verb'), 1),\n",
              " (('공룡', 'Noun'), 1),\n",
              " (('되던', 'Verb'), 1),\n",
              " (('아이콘', 'Noun'), 1),\n",
              " (('넘어선', 'Verb'), 1),\n",
              " (('주식', 'Noun'), 1),\n",
              " (('주당', 'Verb'), 1),\n",
              " (('했으며', 'Verb'), 1),\n",
              " (('장', 'Noun'), 1),\n",
              " (('되면서', 'Verb'), 1),\n",
              " (('더', 'Noun'), 1),\n",
              " (('높은', 'Adjective'), 1),\n",
              " (('수준', 'Noun'), 1),\n",
              " (('도', 'Noun'), 1),\n",
              " (('내내', 'Noun'), 1),\n",
              " (('치고', 'Josa'), 1),\n",
              " (('되찾고', 'Verb'), 1),\n",
              " (('엎치락뒤치락', 'Noun'), 1),\n",
              " (('계속', 'Noun'), 1),\n",
              " (('하자', 'Verb'), 1),\n",
              " (('가는', 'Verb'), 1),\n",
              " (('놀라', 'Verb'), 1),\n",
              " (('움', 'Noun'), 1),\n",
              " (('금치', 'Noun'), 1),\n",
              " (('못', 'Noun'), 1),\n",
              " (('한때', 'Adverb'), 1),\n",
              " (('선두', 'Noun'), 1),\n",
              " (('이라', 'Josa'), 1),\n",
              " (('하더라도', 'Verb'), 1),\n",
              " (('쇠락', 'Noun'), 1),\n",
              " (('상장폐지', 'Noun'), 1),\n",
              " (('되거나', 'Verb'), 1),\n",
              " (('사라지는', 'Verb'), 1),\n",
              " (('수순', 'Noun'), 1),\n",
              " (('밟는', 'Verb'), 1),\n",
              " (('대부분', 'Noun'), 1),\n",
              " (('이기', 'Noun'), 1),\n",
              " (('재등', 'Noun'), 1),\n",
              " (('극', 'Suffix'), 1),\n",
              " (('역사', 'Noun'), 1),\n",
              " (('이례', 'Noun'), 1),\n",
              " (('사례', 'Noun'), 1),\n",
              " (('들어서도', 'Verb'), 1),\n",
              " (('상승세', 'Noun'), 1),\n",
              " (('대조', 'Noun'), 1),\n",
              " (('자', 'Noun'), 1),\n",
              " (('사주', 'Noun'), 1),\n",
              " (('매입', 'Noun'), 1),\n",
              " (('찬탈', 'Noun'), 1),\n",
              " (('급등', 'Noun'), 1),\n",
              " (('과의', 'Josa'), 1),\n",
              " (('격차', 'Noun'), 1),\n",
              " (('눈길', 'Noun'), 1),\n",
              " (('끌었다', 'Verb'), 1),\n",
              " (('탈환', 'Noun'), 1),\n",
              " (('따라', 'Verb'), 1),\n",
              " (('리더십', 'Noun'), 1),\n",
              " (('뚝심', 'Noun'), 1),\n",
              " (('연말', 'Noun'), 1),\n",
              " (('평판', 'Noun'), 1),\n",
              " (('조회', 'Noun'), 1),\n",
              " (('남긴', 'Verb'), 1),\n",
              " (('평점', 'Noun'), 1),\n",
              " (('바탕', 'Noun'), 1),\n",
              " (('순위', 'Noun'), 1),\n",
              " (('이상', 'Noun'), 1),\n",
              " (('대기업', 'Noun'), 1),\n",
              " (('부문', 'Noun'), 1),\n",
              " (('올랐다', 'Verb'), 1),\n",
              " (('인도', 'Noun'), 1),\n",
              " (('출신', 'Noun'), 1),\n",
              " (('개발자', 'Noun'), 1),\n",
              " (('선', 'Noun'), 1),\n",
              " (('마이크로', 'Noun'), 1),\n",
              " (('하다', 'Verb'), 1),\n",
              " (('담당', 'Noun'), 1),\n",
              " (('장', 'Suffix'), 1),\n",
              " (('거쳐', 'Verb'), 1),\n",
              " (('맡았다', 'Verb'), 1),\n",
              " (('중흥', 'Noun'), 1),\n",
              " (('기를', 'Verb'), 1),\n",
              " (('가져왔다는', 'Verb'), 1),\n",
              " (('받는다', 'Verb'), 1),\n",
              " (('이던', 'Josa'), 1),\n",
              " (('모델', 'Noun'), 1),\n",
              " (('가상', 'Noun'), 1),\n",
              " (('저장', 'Noun'), 1),\n",
              " (('공간', 'Noun'), 1),\n",
              " (('다각', 'Noun'), 1),\n",
              " (('화했다', 'Adjective'), 1),\n",
              " (('겸손하고', 'Adjective'), 1),\n",
              " (('투명한', 'Adjective'), 1),\n",
              " (('의사결정', 'Noun'), 1),\n",
              " (('독려', 'Noun'), 1),\n",
              " (('스타일', 'Noun'), 1),\n",
              " (('알려졌다', 'Verb'), 1),\n",
              " (('제이슨', 'Noun'), 1),\n",
              " (('자르', 'Verb'), 1),\n",
              " (('전만', 'Noun'), 1),\n",
              " (('해도', 'Noun'), 1),\n",
              " (('선망', 'Noun'), 1),\n",
              " (('대상', 'Noun'), 1),\n",
              " (('아니었지만', 'Adjective'), 1),\n",
              " (('지금', 'Noun'), 1),\n",
              " (('됐고', 'Verb'), 1),\n",
              " (('매우', 'Noun'), 1),\n",
              " (('고무', 'Noun'), 1),\n",
              " (('돼', 'Verb'), 1),\n",
              " (('이어서는', 'Verb'), 1),\n",
              " (('생활용품', 'Noun'), 1),\n",
              " (('공구', 'Noun'), 1),\n",
              " (('판매점', 'Noun'), 1),\n",
              " (('홈디포', 'Noun'), 1),\n",
              " (('메네어', 'Verb'), 1),\n",
              " (('순', 'Noun'), 1),\n",
              " (('다르', 'Adjective'), 1),\n",
              " (('피차', 'Noun'), 1),\n",
              " (('이', 'Suffix'), 1),\n",
              " (('파이', 'Noun'), 1),\n",
              " (('낸셜', 'Noun'), 1),\n",
              " (('인투이트', 'Noun'), 1),\n",
              " (('브래드', 'Noun'), 1),\n",
              " (('스미스', 'Noun'), 1),\n",
              " (('허브', 'Noun'), 1),\n",
              " (('스팟', 'Noun'), 1),\n",
              " (('브라이언', 'Noun'), 1),\n",
              " (('핼리', 'Noun'), 1),\n",
              " (('건', 'Noun'), 1),\n",
              " (('각각', 'Noun'), 1),\n",
              " (('랭크됐다', 'Noun'), 1),\n",
              " (('제프', 'Noun'), 1),\n",
              " (('베', 'Noun'), 1),\n",
              " (('조스', 'Noun'), 1),\n",
              " (('그쳤고', 'Verb'), 1),\n",
              " (('쿡', 'Noun'), 1),\n",
              " (('위로', 'Noun'), 1),\n",
              " (('밖', 'Noun'), 1),\n",
              " (('밀려', 'Verb'), 1),\n",
              " (('났다', 'Verb'), 1),\n",
              " (('테슬라', 'Noun'), 1),\n",
              " (('일', 'Modifier'), 1),\n",
              " (('론', 'Noun'), 1),\n",
              " (('머스크', 'Noun'), 1),\n",
              " (('개인정보', 'Noun'), 1),\n",
              " (('스캔들', 'Noun'), 1),\n",
              " (('미', 'Adjective'), 1),\n",
              " (('의회', 'Noun'), 1),\n",
              " (('청문회', 'Noun'), 1),\n",
              " (('곤욕', 'Noun'), 1),\n",
              " (('치른', 'Verb'), 1),\n",
              " (('마크', 'Noun'), 1),\n",
              " (('저커버그', 'Noun'), 1),\n",
              " (('머물렀다', 'Verb'), 1),\n",
              " (('새로고침', 'Noun'), 1),\n",
              " (('판매', 'Noun'), 1),\n",
              " (('시대', 'Noun'), 1),\n",
              " (('대비', 'Noun'), 1),\n",
              " (('않아', 'Verb'), 1),\n",
              " (('주도', 'Noun'), 1),\n",
              " (('놓쳤다', 'Verb'), 1),\n",
              " (('거부', 'Noun'), 1),\n",
              " (('했다가', 'Verb'), 1),\n",
              " (('추락', 'Noun'), 1),\n",
              " (('그때', 'Noun'), 1),\n",
              " (('가파른', 'Noun'), 1),\n",
              " (('내리막', 'Noun'), 1),\n",
              " (('펴낸', 'Verb'), 1),\n",
              " (('히트', 'Noun'), 1),\n",
              " (('리프', 'Noun'), 1),\n",
              " (('레시', 'Noun'), 1),\n",
              " (('R', 'Alpha'), 1),\n",
              " (('회생', 'Noun'), 1),\n",
              " (('비결', 'Noun'), 1),\n",
              " (('이른', 'Verb'), 1),\n",
              " (('바', 'Noun'), 1),\n",
              " (('설명', 'Noun'), 1),\n",
              " (('피로', 'Noun'), 1),\n",
              " (('감', 'Noun'), 1),\n",
              " (('불만', 'Noun'), 1),\n",
              " (('느꼈고', 'Verb'), 1),\n",
              " (('처지는', 'Verb'), 1),\n",
              " (('상황', 'Noun'), 1),\n",
              " (('신물', 'Noun'), 1),\n",
              " (('난', 'Noun'), 1),\n",
              " (('상태', 'Noun'), 1),\n",
              " (('초심', 'Noun'), 1),\n",
              " (('깨우고', 'Verb'), 1),\n",
              " (('다양성', 'Noun'), 1),\n",
              " (('이끌어', 'Verb'), 1),\n",
              " (('썼다', 'Verb'), 1),\n",
              " (('키', 'Noun'), 1),\n",
              " (('보드', 'Noun'), 1),\n",
              " (('F', 'Alpha'), 1),\n",
              " (('버튼', 'Noun'), 1),\n",
              " (('누르면', 'Verb'), 1),\n",
              " (('웹사이트', 'Noun'), 1),\n",
              " (('주요', 'Noun'), 1),\n",
              " (('뼈대', 'Noun'), 1),\n",
              " (('인데', 'Josa'), 1),\n",
              " (('내용', 'Noun'), 1),\n",
              " (('정보', 'Noun'), 1),\n",
              " (('업데이트', 'Noun'), 1),\n",
              " (('즉', 'Noun'), 1),\n",
              " (('본질', 'Noun'), 1),\n",
              " (('살려내겠다는', 'Verb'), 1),\n",
              " (('의지', 'Noun'), 1),\n",
              " (('보낸', 'Verb'), 1),\n",
              " (('이메일', 'Noun'), 1),\n",
              " (('예견', 'Noun'), 1),\n",
              " (('ICT', 'Alpha'), 1),\n",
              " (('기반', 'Noun'), 1),\n",
              " (('한', 'Verb'), 1),\n",
              " (('쉽고', 'Verb'), 1),\n",
              " (('편리하게', 'Adjective'), 1),\n",
              " (('만들어', 'Verb'), 1),\n",
              " (('지구', 'Noun'), 1),\n",
              " (('상의', 'Noun'), 1),\n",
              " (('누리', 'Noun'), 1),\n",
              " (('하고자', 'Verb'), 1),\n",
              " (('지향', 'Noun'), 1),\n",
              " (('문제점', 'Noun'), 1),\n",
              " (('고정관념', 'Noun'), 1),\n",
              " (('자만', 'Noun'), 1),\n",
              " (('심', 'Noun'), 1),\n",
              " (('도전', 'Noun'), 1),\n",
              " (('않는', 'Verb'), 1),\n",
              " (('진단', 'Noun'), 1),\n",
              " (('갈등', 'Noun'), 1),\n",
              " (('첨예하던', 'Adjective'), 1),\n",
              " (('소통', 'Noun'), 1),\n",
              " (('치열한', 'Adjective'), 1),\n",
              " (('움직였다', 'Verb'), 1),\n",
              " (('남다른', 'Adjective'), 1),\n",
              " (('자부심', 'Noun'), 1),\n",
              " (('화합', 'Noun'), 1),\n",
              " (('방해', 'Noun'), 1),\n",
              " (('엔지니어링', 'Noun'), 1),\n",
              " (('영업', 'Noun'), 1),\n",
              " (('구성', 'Noun'), 1),\n",
              " (('관계자', 'Noun'), 1),\n",
              " (('독보', 'Noun'), 1),\n",
              " (('지위', 'Noun'), 1),\n",
              " (('갖게', 'Verb'), 1),\n",
              " (('되면', 'Verb'), 1),\n",
              " (('소리', 'Noun'), 1),\n",
              " (('귀', 'Noun'), 1),\n",
              " (('기울이지', 'Verb'), 1),\n",
              " (('않게', 'Verb'), 1),\n",
              " (('처지', 'Noun'), 1),\n",
              " (('스티브', 'Noun'), 1),\n",
              " (('발머', 'Noun'), 1),\n",
              " (('했던', 'Verb'), 1),\n",
              " (('함', 'Noun'), 1),\n",
              " (('으로써', 'Josa'), 1),\n",
              " (('뒤늦게', 'Adjective'), 1),\n",
              " (('따라간', 'Verb'), 1),\n",
              " (('이었고', 'Verb'), 1),\n",
              " (('그게', 'Noun'), 1),\n",
              " (('독', 'Noun'), 1),\n",
              " (('확신', 'Noun'), 1),\n",
              " (('하면', 'Verb'), 1),\n",
              " (('곧바로', 'Noun'), 1),\n",
              " (('접었다', 'Verb'), 1),\n",
              " (('스카이프', 'Noun'), 1),\n",
              " (('야머', 'Noun'), 1),\n",
              " (('포기', 'Noun'), 1),\n",
              " (('쏟아', 'Verb'), 1),\n",
              " (('부었지만', 'Adjective'), 1),\n",
              " (('전혀', 'Noun'), 1),\n",
              " (('나지', 'Verb'), 1),\n",
              " (('않자', 'Verb'), 1),\n",
              " (('해체', 'Noun'), 1),\n",
              " (('반등', 'Noun'), 1),\n",
              " (('기회', 'Noun'), 1),\n",
              " (('잡았다', 'Verb'), 1),\n",
              " (('무선', 'Noun'), 1),\n",
              " (('부는', 'Verb'), 1),\n",
              " (('폭스콘', 'Noun'), 1),\n",
              " (('매각', 'Noun'), 1),\n",
              " (('버리고', 'Verb'), 1),\n",
              " (('공유', 'Noun'), 1),\n",
              " (('꿰찰', 'Noun'), 1),\n",
              " (('있었던', 'Adjective'), 1),\n",
              " (('배경', 'Noun'), 1),\n",
              " (('겨냥', 'Noun'), 1),\n",
              " (('안정', 'Noun'), 1),\n",
              " (('구축', 'Noun'), 1),\n",
              " (('온', 'Noun'), 1),\n",
              " (('AP', 'Alpha'), 1),\n",
              " (('주력', 'Noun'), 1),\n",
              " (('내고', 'Verb'), 1),\n",
              " (('년대', 'Noun'), 1),\n",
              " (('PC', 'Alpha'), 1),\n",
              " (('강', 'Noun'), 1),\n",
              " (('분야', 'Noun'), 1),\n",
              " (('총', 'Modifier'), 1),\n",
              " (('밀어내며', 'Verb'), 1),\n",
              " (('부흥', 'Noun'), 1),\n",
              " (('순간', 'Noun'), 1),\n",
              " (('맞이', 'Noun'), 1),\n",
              " (('리서치', 'Noun'), 1),\n",
              " (('따르면', 'Verb'), 1),\n",
              " (('새', 'Noun'), 1),\n",
              " (('두', 'Noun'), 1),\n",
              " (('늘어난', 'Verb'), 1),\n",
              " (('반면', 'Noun'), 1),\n",
              " (('고', 'Modifier'), 1),\n",
              " (('시켰다고', 'Verb'), 1),\n",
              " (('실제', 'Noun'), 1),\n",
              " (('분기', 'Noun'), 1),\n",
              " (('했다고', 'Verb'), 1),\n",
              " (('밝혔다', 'Verb'), 1),\n",
              " (('절대', 'Noun'), 1),\n",
              " (('규모', 'Noun'), 1),\n",
              " (('않았지만', 'Verb'), 1),\n",
              " (('보다', 'Verb'), 1),\n",
              " (('앞서고', 'Verb'), 1),\n",
              " (('일각', 'Noun'), 1),\n",
              " (('소매', 'Noun'), 1),\n",
              " (('웹서비스', 'Noun'), 1),\n",
              " (('놔두고', 'Verb'), 1),\n",
              " (('일이', 'Modifier'), 1),\n",
              " (('늘', 'Noun'), 1),\n",
              " (('고', 'Josa'), 1),\n",
              " (('있어', 'Adjective'), 1),\n",
              " (('호재', 'Noun'), 1),\n",
              " (('작용', 'Noun'), 1),\n",
              " (('나온다', 'Verb'), 1),\n",
              " (('의류', 'Noun'), 1),\n",
              " (('갭', 'Verb'), 1),\n",
              " (('GAP', 'Alpha'), 1),\n",
              " (('은', 'Noun'), 1),\n",
              " (('공급', 'Noun'), 1),\n",
              " (('맺기도', 'Verb'), 1),\n",
              " (('갭은', 'Verb'), 1),\n",
              " (('운영', 'Noun'), 1),\n",
              " (('재고', 'Noun'), 1),\n",
              " (('인력', 'Noun'), 1),\n",
              " (('효율', 'Noun'), 1),\n",
              " (('있을', 'Adjective'), 1),\n",
              " (('뿐', 'Noun'), 1),\n",
              " (('관련', 'Noun'), 1),\n",
              " (('적용', 'Noun'), 1),\n",
              " (('계획', 'Noun'), 1),\n",
              " (('앞서', 'Noun'), 1),\n",
              " (('월마트', 'Noun'), 1),\n",
              " (('대규모', 'Noun'), 1),\n",
              " (('체결', 'Noun'), 1),\n",
              " (('대명사', 'Noun'), 1),\n",
              " (('쓰도록', 'Verb'), 1),\n",
              " (('하고', 'Verb'), 1),\n",
              " (('배척', 'Noun'), 1),\n",
              " (('하지만', 'Conjunction'), 1),\n",
              " (('달랐다', 'Adjective'), 1),\n",
              " (('와', 'Verb'), 1),\n",
              " (('핵심', 'Noun'), 1),\n",
              " (('제품', 'Noun'), 1),\n",
              " (('어떠한', 'Adjective'), 1),\n",
              " (('큰', 'Verb'), 1),\n",
              " (('반향', 'Noun'), 1),\n",
              " (('일으켰다', 'Verb'), 1),\n",
              " (('결과', 'Noun'), 1),\n",
              " (('보여', 'Verb'), 1),\n",
              " (('준', 'Noun'), 1),\n",
              " (('러브', 'Noun'), 1),\n",
              " (('하겠다고', 'Verb'), 1),\n",
              " (('OIN', 'Alpha'), 1),\n",
              " (('O', 'Alpha'), 1),\n",
              " (('I', 'Alpha'), 1),\n",
              " (('N', 'Alpha'), 1),\n",
              " (('위해', 'Noun'), 1),\n",
              " (('특허', 'Noun'), 1),\n",
              " (('개도', 'Noun'), 1),\n",
              " (('무료', 'Noun'), 1),\n",
              " (('가상머신', 'Noun'), 1),\n",
              " (('중', 'Noun'), 1),\n",
              " (('화', 'Suffix'), 1),\n",
              " (('호환성', 'Noun'), 1),\n",
              " (('연속성', 'Noun'), 1),\n",
              " (('소스', 'Noun'), 1),\n",
              " (('장점', 'Noun'), 1),\n",
              " (('안착', 'Noun'), 1),\n",
              " (('해석', 'Noun'), 1),\n",
              " (('폐쇄적', 'Noun'), 1),\n",
              " (('이라는', 'Josa'), 1),\n",
              " (('파격', 'Noun'), 1),\n",
              " (('했다는', 'Verb'), 1),\n",
              " (('정점', 'Noun'), 1),\n",
              " (('찍은', 'Verb'), 1),\n",
              " (('플랫폼', 'Noun'), 1),\n",
              " (('깃허브', 'Noun'), 1),\n",
              " (('G', 'Alpha'), 1),\n",
              " (('성공', 'Noun'), 1),\n",
              " (('트랜스', 'Noun'), 1),\n",
              " (('포', 'Noun'), 1),\n",
              " (('메이', 'Noun'), 1),\n",
              " (('션', 'Noun'), 1),\n",
              " (('모회사', 'Noun'), 1),\n",
              " (('알파벳', 'Noun'), 1),\n",
              " (('추월', 'Noun'), 1),\n",
              " (('처음', 'Noun'), 1),\n",
              " (('따른', 'Verb'), 1),\n",
              " (('오픈', 'Noun'), 1),\n",
              " (('완벽한', 'Adjective'), 1),\n",
              " (('이어졌다', 'Verb'), 1),\n",
              " (('하', 'Suffix'), 1),\n",
              " (('자마자', 'Noun'), 1),\n",
              " (('총력', 'Noun'), 1),\n",
              " (('기울이고', 'Verb'), 1),\n",
              " (('곧', 'Noun'), 1),\n",
              " (('캐시', 'Noun'), 1),\n",
              " (('카우로', 'Verb'), 1),\n",
              " (('키워', 'Verb'), 1),\n",
              " (('윈도우', 'Noun'), 1),\n",
              " (('먹거리', 'Noun'), 1),\n",
              " (('등장', 'Noun'), 1),\n",
              " (('치중', 'Noun'), 1),\n",
              " (('이란', 'Josa'), 1),\n",
              " (('이미지', 'Noun'), 1),\n",
              " (('벗어나기', 'Verb'), 1),\n",
              " (('생산', 'Noun'), 1),\n",
              " (('성', 'Suffix'), 1),\n",
              " (('세웠고', 'Verb'), 1),\n",
              " (('연', 'Modifier'), 1),\n",
              " (('계', 'Noun'), 1),\n",
              " (('완전히', 'Adjective'), 1),\n",
              " (('다른', 'Noun'), 1),\n",
              " (('시켰다', 'Verb'), 1),\n",
              " (('소셜', 'Noun'), 1),\n",
              " (('링크드인', 'Noun'), 1),\n",
              " (('비디오', 'Noun'), 1),\n",
              " (('게임기', 'Noun'), 1),\n",
              " (('엑스박스', 'Noun'), 1),\n",
              " (('하드웨어', 'Noun'), 1),\n",
              " (('서피스', 'Noun'), 1),\n",
              " (('상품', 'Noun'), 1),\n",
              " (('내세우고', 'Verb'), 1),\n",
              " (('잘게', 'Verb'), 1),\n",
              " (('쪼개', 'Verb'), 1),\n",
              " (('개인', 'Noun'), 1),\n",
              " (('급여', 'Noun'), 1),\n",
              " (('연관', 'Noun'), 1),\n",
              " (('혁파', 'Noun'), 1),\n",
              " (('참여', 'Noun'), 1),\n",
              " (('체계', 'Noun'), 1),\n",
              " (('고과', 'Noun'), 1),\n",
              " (('반영', 'Noun'), 1),\n",
              " (('머무르거나', 'Verb'), 1),\n",
              " (('따라가지', 'Verb'), 1),\n",
              " (('않고', 'Verb'), 1),\n",
              " (('주도했다는', 'Adjective'), 1),\n",
              " (('교육', 'Noun'), 1),\n",
              " (('및', 'Noun'), 1),\n",
              " (('훈련', 'Noun'), 1),\n",
              " (('바꾸는', 'Verb'), 1),\n",
              " (('결정', 'Noun'), 1),\n",
              " (('그리고', 'Conjunction'), 1),\n",
              " (('사고', 'Noun'), 1),\n",
              " (('곤혹', 'Noun'), 1),\n",
              " (('사이', 'Noun'), 1),\n",
              " (('잡음', 'Noun'), 1),\n",
              " (('조용히', 'Adjective'), 1),\n",
              " (('성장했다', 'Adjective'), 1),\n",
              " (('경영', 'Noun'), 1),\n",
              " (('대표', 'Noun'), 1),\n",
              " (('단어', 'Noun'), 1),\n",
              " (('키우며', 'Verb'), 1),\n",
              " (('체득', 'Noun'), 1),\n",
              " (('첫', 'Modifier'), 1),\n",
              " (('안고', 'Noun'), 1),\n",
              " (('태어나면서', 'Verb'), 1),\n",
              " (('고통', 'Noun'), 1),\n",
              " (('환경', 'Noun'), 1),\n",
              " (('차츰', 'Adverb'), 1),\n",
              " (('부침을', 'Verb'), 1),\n",
              " (('발전', 'Noun'), 1),\n",
              " (('시킬', 'Verb'), 1),\n",
              " (('알', 'Noun'), 1),\n",
              " (('영감', 'Noun'), 1),\n",
              " (('타인', 'Noun'), 1),\n",
              " (('얻을', 'Verb'), 1),\n",
              " (('있다고', 'Adjective'), 1),\n",
              " (('보고', 'Noun'), 1),\n",
              " (('가진', 'Verb'), 1),\n",
              " (('융화', 'Noun'), 1),\n",
              " (('하도록', 'Verb'), 1),\n",
              " (('소비자', 'Noun'), 1),\n",
              " (('이해', 'Noun'), 1),\n",
              " (('요소', 'Noun'), 1),\n",
              " (('항상', 'Noun'), 1),\n",
              " (('이러한', 'Adjective'), 1),\n",
              " (('유감', 'Noun'), 1),\n",
              " (('드러난다', 'Verb'), 1),\n",
              " (('운영체계', 'Noun'), 1),\n",
              " (('장악', 'Noun'), 1),\n",
              " (('력', 'Suffix'), 1),\n",
              " (('높였다', 'Verb'), 1),\n",
              " (('과도', 'Josa'), 1),\n",
              " (('대신', 'Noun'), 1),\n",
              " (('공존', 'Noun'), 1),\n",
              " (('에선', 'Josa'), 1),\n",
              " (('성장하는', 'Adjective'), 1),\n",
              " (('효과', 'Noun'), 1),\n",
              " (('거뒀다', 'Verb'), 1),\n",
              " (('안드로이드폰', 'Noun'), 1),\n",
              " (('사인', 'Noun'), 1),\n",
              " (('같이', 'Adverb'), 1),\n",
              " (('각', 'Modifier'), 1),\n",
              " (('사', 'Noun'), 1),\n",
              " (('비서', 'Noun'), 1),\n",
              " (('코타', 'Noun'), 1),\n",
              " (('나와', 'Verb'), 1),\n",
              " (('알렉사', 'Noun'), 1),\n",
              " (('상대', 'Noun'), 1),\n",
              " (('에도', 'Josa'), 1),\n",
              " (('이유', 'Noun'), 1),\n",
              " (('향후', 'Noun'), 1),\n",
              " (('방향성', 'Noun'), 1),\n",
              " (('문제', 'Noun'), 1),\n",
              " (('때문', 'Noun'), 1),\n",
              " (('있는지를', 'Adjective'), 1),\n",
              " (('물', 'Noun'), 1),\n",
              " (('하는지', 'Verb'), 1),\n",
              " (('물어', 'Noun'), 1),\n",
              " (('야', 'Josa'), 1),\n",
              " (('때', 'Noun'), 1),\n",
              " (('추가', 'Noun'), 1),\n",
              " (('눈동자', 'Noun'), 1),\n",
              " (('움직임', 'Noun'), 1),\n",
              " (('화면', 'Noun'), 1),\n",
              " (('조종', 'Noun'), 1),\n",
              " (('루게릭', 'Noun'), 1),\n",
              " (('근육', 'Noun'), 1),\n",
              " (('마음대로', 'Noun'), 1),\n",
              " (('움직', 'Noun'), 1),\n",
              " (('이지', 'Josa'), 1),\n",
              " (('시각장애인', 'Noun'), 1),\n",
              " (('안겨주는', 'Verb'), 1),\n",
              " (('과', 'Noun'), 1),\n",
              " (('파킨슨', 'Noun'), 1),\n",
              " (('병', 'Noun'), 1),\n",
              " (('돕는', 'Verb'), 1),\n",
              " (('엠마', 'Noun'), 1),\n",
              " (('E', 'Alpha'), 1),\n",
              " (('P', 'Alpha'), 1),\n",
              " (('진행', 'Noun'), 1),\n",
              " (('증강', 'Noun'), 1),\n",
              " (('시켜주는', 'Verb'), 1),\n",
              " (('도구로', 'Noun'), 1),\n",
              " (('안면', 'Noun'), 1),\n",
              " (('인식', 'Noun'), 1),\n",
              " (('경우', 'Noun'), 1),\n",
              " (('침해', 'Noun'), 1),\n",
              " (('우려', 'Noun'), 1),\n",
              " (('높다며', 'Adjective'), 1),\n",
              " (('정부', 'Noun'), 1),\n",
              " (('제안', 'Noun'), 1),\n",
              " (('장애', 'Noun'), 1),\n",
              " (('재해', 'Noun'), 1),\n",
              " (('지역', 'Noun'), 1),\n",
              " (('복구', 'Noun'), 1),\n",
              " (('아동', 'Noun'), 1),\n",
              " (('인권', 'Noun'), 1),\n",
              " (('인도주의', 'Noun'), 1),\n",
              " (('A', 'Alpha'), 1),\n",
              " (('한국', 'Noun'), 1),\n",
              " (('방문', 'Noun'), 1),\n",
              " (('혜택', 'Noun'), 1),\n",
              " (('주는', 'Verb'), 1),\n",
              " (('쪽', 'Noun'), 1),\n",
              " (('되기', 'Verb'), 1),\n",
              " (('해서는', 'Verb'), 1),\n",
              " (('윤리', 'Noun'), 1),\n",
              " (('전제', 'Noun'), 1),\n",
              " (('국가', 'Noun'), 1),\n",
              " (('으로도', 'Josa'), 1),\n",
              " (('악용', 'Noun'), 1),\n",
              " (('막기', 'Verb'), 1),\n",
              " (('연구', 'Noun'), 1),\n",
              " (('주장', 'Noun'), 1),\n",
              " (('글로벌', 'Noun'), 1),\n",
              " (('정책', 'Noun'), 1),\n",
              " (('그룹', 'Noun'), 1),\n",
              " (('총괄', 'Noun'), 1),\n",
              " (('장인', 'Noun'), 1),\n",
              " (('샹크', 'Noun'), 1),\n",
              " (('대해', 'Noun'), 1),\n",
              " (('후', 'Noun'), 1),\n",
              " (('전문가', 'Noun'), 1),\n",
              " (('함께', 'Adverb'), 1),\n",
              " (('진보', 'Noun'), 1),\n",
              " (('당면', 'Noun'), 1),\n",
              " (('사회', 'Noun'), 1),\n",
              " (('과제', 'Noun'), 1),\n",
              " (('해결', 'Noun'), 1),\n",
              " (('책', 'Noun'), 1),\n",
              " (('원칙', 'Noun'), 1),\n",
              " (('심도', 'Verb'), 1),\n",
              " (('있게', 'Adjective'), 1),\n",
              " (('고민', 'Noun'), 1),\n",
              " (('한다는', 'Modifier'), 1),\n",
              " (('이동인', 'Noun'), 1),\n",
              " (('기자', 'Noun'), 1),\n",
              " (('본', 'Verb'), 1),\n",
              " (('매일경제', 'Noun'), 1),\n",
              " (('L', 'Alpha'), 1),\n",
              " (('호', 'Noun'), 1),\n",
              " (('입니다', 'Adjective'), 1)]"
            ]
          },
          "metadata": {
            "tags": []
          },
          "execution_count": 24
        }
      ]
    },
    {
      "cell_type": "code",
      "metadata": {
        "id": "wKr-_LC6qT7g",
        "outputId": "dbd599ef-33c7-4809-bec9-f4e04b2e937d",
        "colab": {
          "base_uri": "https://localhost:8080/",
          "height": 35
        }
      },
      "source": [
        "Business_strategy['postagging'][103][1][1]"
      ],
      "execution_count": null,
      "outputs": [
        {
          "output_type": "execute_result",
          "data": {
            "application/vnd.google.colaboratory.intrinsic+json": {
              "type": "string"
            },
            "text/plain": [
              "'Noun'"
            ]
          },
          "metadata": {
            "tags": []
          },
          "execution_count": 25
        }
      ]
    },
    {
      "cell_type": "code",
      "metadata": {
        "id": "pVjDKco6smR6",
        "outputId": "dc1e458b-b873-4a51-973a-a51669bda6ef",
        "colab": {
          "base_uri": "https://localhost:8080/",
          "height": 239
        }
      },
      "source": [
        "stopPos = ['Josa','Conjunction','Foreign','Adverb','Suffix']\n",
        "\n",
        "stopWord = stopword\n",
        "\n",
        "post =[]\n",
        "word=[]\n",
        "\n",
        "for i in range(len(Business_strategy['postagging'])):\n",
        "  post.append(Business_strategy['postagging'][i]) #\n",
        "  for tag, p in enumerate(post):\n",
        "    if tag[p][1] not in stopPos:\n",
        "      if tag[p][0] not in stopWord:\n",
        "        word.append(tag[p][0])\n",
        "\n",
        "\n",
        "#post 안에 postagging 별로 list화 되어있음\n",
        "word"
      ],
      "execution_count": null,
      "outputs": [
        {
          "output_type": "error",
          "ename": "TypeError",
          "evalue": "ignored",
          "traceback": [
            "\u001b[0;31m---------------------------------------------------------------------------\u001b[0m",
            "\u001b[0;31mTypeError\u001b[0m                                 Traceback (most recent call last)",
            "\u001b[0;32m<ipython-input-26-bfe0a16e250f>\u001b[0m in \u001b[0;36m<module>\u001b[0;34m()\u001b[0m\n\u001b[1;32m      9\u001b[0m   \u001b[0mpost\u001b[0m\u001b[0;34m.\u001b[0m\u001b[0mappend\u001b[0m\u001b[0;34m(\u001b[0m\u001b[0mBusiness_strategy\u001b[0m\u001b[0;34m[\u001b[0m\u001b[0;34m'postagging'\u001b[0m\u001b[0;34m]\u001b[0m\u001b[0;34m[\u001b[0m\u001b[0mi\u001b[0m\u001b[0;34m]\u001b[0m\u001b[0;34m)\u001b[0m \u001b[0;31m#\u001b[0m\u001b[0;34m\u001b[0m\u001b[0;34m\u001b[0m\u001b[0m\n\u001b[1;32m     10\u001b[0m   \u001b[0;32mfor\u001b[0m \u001b[0mtag\u001b[0m\u001b[0;34m,\u001b[0m \u001b[0mp\u001b[0m \u001b[0;32min\u001b[0m \u001b[0menumerate\u001b[0m\u001b[0;34m(\u001b[0m\u001b[0mpost\u001b[0m\u001b[0;34m)\u001b[0m\u001b[0;34m:\u001b[0m\u001b[0;34m\u001b[0m\u001b[0;34m\u001b[0m\u001b[0m\n\u001b[0;32m---> 11\u001b[0;31m     \u001b[0;32mif\u001b[0m \u001b[0mtag\u001b[0m\u001b[0;34m[\u001b[0m\u001b[0mp\u001b[0m\u001b[0;34m]\u001b[0m\u001b[0;34m[\u001b[0m\u001b[0;36m1\u001b[0m\u001b[0;34m]\u001b[0m \u001b[0;32mnot\u001b[0m \u001b[0;32min\u001b[0m \u001b[0mstopPos\u001b[0m\u001b[0;34m:\u001b[0m\u001b[0;34m\u001b[0m\u001b[0;34m\u001b[0m\u001b[0m\n\u001b[0m\u001b[1;32m     12\u001b[0m       \u001b[0;32mif\u001b[0m \u001b[0mtag\u001b[0m\u001b[0;34m[\u001b[0m\u001b[0mp\u001b[0m\u001b[0;34m]\u001b[0m\u001b[0;34m[\u001b[0m\u001b[0;36m0\u001b[0m\u001b[0;34m]\u001b[0m \u001b[0;32mnot\u001b[0m \u001b[0;32min\u001b[0m \u001b[0mstopWord\u001b[0m\u001b[0;34m:\u001b[0m\u001b[0;34m\u001b[0m\u001b[0;34m\u001b[0m\u001b[0m\n\u001b[1;32m     13\u001b[0m         \u001b[0mword\u001b[0m\u001b[0;34m.\u001b[0m\u001b[0mappend\u001b[0m\u001b[0;34m(\u001b[0m\u001b[0mtag\u001b[0m\u001b[0;34m[\u001b[0m\u001b[0mp\u001b[0m\u001b[0;34m]\u001b[0m\u001b[0;34m[\u001b[0m\u001b[0;36m0\u001b[0m\u001b[0;34m]\u001b[0m\u001b[0;34m)\u001b[0m\u001b[0;34m\u001b[0m\u001b[0;34m\u001b[0m\u001b[0m\n",
            "\u001b[0;31mTypeError\u001b[0m: 'int' object is not subscriptable"
          ]
        }
      ]
    },
    {
      "cell_type": "code",
      "metadata": {
        "id": "pJ8REx0Dqjyr"
      },
      "source": [
        "for i in range(Business_strategy['postagging']):\n",
        "  if Business_strategy['postagging'][i] in new_stopword:\n",
        "    "
      ],
      "execution_count": null,
      "outputs": []
    },
    {
      "cell_type": "markdown",
      "metadata": {
        "id": "K4uoIcusr-gw"
      },
      "source": [
        "### 필요베이스 설치"
      ]
    },
    {
      "cell_type": "code",
      "metadata": {
        "id": "5uk6x4SCX-wB"
      },
      "source": [
        "import konlpy\n",
        "from konlpy.tag import Kkma\n",
        "kkma = Kkma()"
      ],
      "execution_count": null,
      "outputs": []
    },
    {
      "cell_type": "code",
      "metadata": {
        "id": "U5XSiLBvrAo9"
      },
      "source": [
        "#!git clone https://github.com/SOMJANG/Mecab-ko-for-Google-Colab.git"
      ],
      "execution_count": null,
      "outputs": []
    },
    {
      "cell_type": "code",
      "metadata": {
        "id": "x0Wb0RIdsC0a"
      },
      "source": [
        "#%cd Mecab-ko-for-Google-Colab/"
      ],
      "execution_count": null,
      "outputs": []
    },
    {
      "cell_type": "code",
      "metadata": {
        "id": "B9gSt7UQsFLC"
      },
      "source": [
        "#!bash install_mecab-ko_on_colab190912.sh"
      ],
      "execution_count": null,
      "outputs": []
    },
    {
      "cell_type": "code",
      "metadata": {
        "id": "q5Otvo0N9JKW"
      },
      "source": [
        "new_mk.head(10)"
      ],
      "execution_count": null,
      "outputs": []
    },
    {
      "cell_type": "markdown",
      "metadata": {
        "id": "M6_UGYbpsqra"
      },
      "source": [
        "#### 토큰화"
      ]
    },
    {
      "cell_type": "code",
      "metadata": {
        "id": "uisuAfsg_idV"
      },
      "source": [
        "#okt가 kkma보다 상대적으로 명사를 정확하게 분류하기 때문에, okt 토큰을 사용하여 진행한다.\n",
        "okt_tokens = okt.morphs(new_mk['정규화'][50])\n",
        "okt_tokens"
      ],
      "execution_count": null,
      "outputs": []
    },
    {
      "cell_type": "markdown",
      "metadata": {
        "id": "CQeCr4w2Hcu2"
      },
      "source": [
        "### 전체 다 하면 오래걸리니까, 필요하다고 생각되는 부분의 카테고리를 나누고, 그것에 대한 토큰화를 진행 후, 필요시 merge시키는 방법으로 진행해보자"
      ]
    },
    {
      "cell_type": "code",
      "metadata": {
        "id": "Vp5gWLj9EkuZ"
      },
      "source": [
        ""
      ],
      "execution_count": null,
      "outputs": []
    },
    {
      "cell_type": "code",
      "metadata": {
        "id": "qd2-QGvDc0PL"
      },
      "source": [
        "# news_sub2 = []\n",
        "\n",
        "# for i in range(len(new_mk['정규화'])):\n",
        "#   news_sub.append(okt.morphs(new_mk['정규화'][i]))\n",
        "\n",
        "# new_mk['토큰화'] = news_sub2"
      ],
      "execution_count": null,
      "outputs": []
    },
    {
      "cell_type": "code",
      "metadata": {
        "id": "HlVbLYOyldJ5"
      },
      "source": [
        "# new_mk['정규화'].head()"
      ],
      "execution_count": null,
      "outputs": []
    },
    {
      "cell_type": "code",
      "metadata": {
        "id": "RjPCtR-fO4yz"
      },
      "source": [
        "# new_mk['토큰화'] = []\n",
        "\n",
        "# for i in range(0,5):\n",
        "#   okt_tokens += okt.morphs(new_mk['정규화'][i])\n",
        "#   if okt.morphs(new_mk['정규화'][i]) in okt_tokens:\n",
        "#     print('number',i,'is done')\n",
        "# okt_tokens"
      ],
      "execution_count": null,
      "outputs": []
    },
    {
      "cell_type": "code",
      "metadata": {
        "id": "qrqs8espBbvm"
      },
      "source": [
        "# okt_tokens = []\n",
        "\n",
        "# for i in range(len(new_mk['정규화'])):\n",
        "#   okt_tokens += okt.morphs(new_mk['정규화'][i])\n",
        "#   if okt.morphs(new_mk['정규화'][i]) in okt_tokens:\n",
        "#     print('number',i,'is done')\n",
        "# len(okt_tokens)"
      ],
      "execution_count": null,
      "outputs": []
    },
    {
      "cell_type": "markdown",
      "metadata": {
        "id": "pc6V6wRSBKiY"
      },
      "source": [
        "#### 품사부착"
      ]
    },
    {
      "cell_type": "code",
      "metadata": {
        "id": "F0QlbYEKvXy1"
      },
      "source": [
        "# #품사부착\n",
        "# oktTag = []\n",
        "# for token in okt_tokens:\n",
        "#   oktTag += okt.pos(token)\n",
        "\n",
        "# oktTag"
      ],
      "execution_count": null,
      "outputs": []
    },
    {
      "cell_type": "markdown",
      "metadata": {
        "id": "cj_D8fq7BGkK"
      },
      "source": [
        "#### pos tagging"
      ]
    },
    {
      "cell_type": "code",
      "metadata": {
        "id": "TjMkM7Tgvsxo"
      },
      "source": [
        "# #pos tagging\n",
        "\n",
        "# from collections import Counter as counter\n",
        "\n",
        "# counter(kkmaTag).most_common()"
      ],
      "execution_count": null,
      "outputs": []
    },
    {
      "cell_type": "code",
      "metadata": {
        "id": "3eJJvi00sH3j"
      },
      "source": [
        "# kkma_tokens = []\n",
        "\n",
        "# for i in range(len(new_mk)):\n",
        "#   kkma.morphs(new_mk['정규화'][i])"
      ],
      "execution_count": null,
      "outputs": []
    },
    {
      "cell_type": "code",
      "metadata": {
        "id": "BCBkn-7Itkss"
      },
      "source": [
        ""
      ],
      "execution_count": null,
      "outputs": []
    }
  ]
}