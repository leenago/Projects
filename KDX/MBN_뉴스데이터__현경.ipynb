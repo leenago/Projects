{
  "nbformat": 4,
  "nbformat_minor": 0,
  "metadata": {
    "colab": {
      "name": "MBN 뉴스데이터_ 현경.ipynb",
      "provenance": [],
      "collapsed_sections": [],
      "include_colab_link": true
    },
    "kernelspec": {
      "name": "python3",
      "display_name": "Python 3"
    }
  },
  "cells": [
    {
      "cell_type": "markdown",
      "metadata": {
        "id": "view-in-github",
        "colab_type": "text"
      },
      "source": [
        "<a href=\"https://colab.research.google.com/github/leenago/Projects/blob/master/KDX/MBN_%EB%89%B4%EC%8A%A4%EB%8D%B0%EC%9D%B4%ED%84%B0__%ED%98%84%EA%B2%BD.ipynb\" target=\"_parent\"><img src=\"https://colab.research.google.com/assets/colab-badge.svg\" alt=\"Open In Colab\"/></a>"
      ]
    },
    {
      "cell_type": "code",
      "metadata": {
        "id": "BkWdlQh-YFCq",
        "outputId": "a913e4c3-3825-4c9c-88e5-d440fb0b6fa9",
        "colab": {
          "base_uri": "https://localhost:8080/",
          "height": 34
        }
      },
      "source": [
        "from google.colab import drive\n",
        "drive.mount('/content/gdrive')"
      ],
      "execution_count": 1,
      "outputs": [
        {
          "output_type": "stream",
          "text": [
            "Drive already mounted at /content/gdrive; to attempt to forcibly remount, call drive.mount(\"/content/gdrive\", force_remount=True).\n"
          ],
          "name": "stdout"
        }
      ]
    },
    {
      "cell_type": "code",
      "metadata": {
        "id": "cU77-gcvYzkK",
        "outputId": "199da648-8f52-4549-881a-6f2a07bb60be",
        "colab": {
          "base_uri": "https://localhost:8080/",
          "height": 34
        }
      },
      "source": [
        "%cd /content/gdrive/Shared drives/청년취업아카데미_KDX한국데이터거래소/Data/MBN 뉴스 데이터"
      ],
      "execution_count": 2,
      "outputs": [
        {
          "output_type": "stream",
          "text": [
            "/content/gdrive/Shared drives/청년취업아카데미_KDX한국데이터거래소/Data/MBN 뉴스 데이터\n"
          ],
          "name": "stdout"
        }
      ]
    },
    {
      "cell_type": "code",
      "metadata": {
        "id": "PED7lq-AX2mT"
      },
      "source": [
        "import numpy as np\n",
        "import pandas as pd\n",
        "import tensorflow as tf\n",
        "import matplotlib as mpl\n",
        "import matplotlib.pyplot as plt\n",
        "from bs4 import BeautifulSoup as bs"
      ],
      "execution_count": 3,
      "outputs": []
    },
    {
      "cell_type": "code",
      "metadata": {
        "id": "QhD3t_Ywqpww"
      },
      "source": [
        "pd.options.mode.chained_assignment = None"
      ],
      "execution_count": 4,
      "outputs": []
    },
    {
      "cell_type": "code",
      "metadata": {
        "id": "ZUzad15IYGYn",
        "outputId": "74d2bf27-b5e7-405d-8c09-42f5304a54f4",
        "colab": {
          "base_uri": "https://localhost:8080/",
          "height": 316
        }
      },
      "source": [
        "!pip install konlpy"
      ],
      "execution_count": 5,
      "outputs": [
        {
          "output_type": "stream",
          "text": [
            "Requirement already satisfied: konlpy in /usr/local/lib/python3.6/dist-packages (0.5.2)\n",
            "Requirement already satisfied: lxml>=4.1.0 in /usr/local/lib/python3.6/dist-packages (from konlpy) (4.2.6)\n",
            "Requirement already satisfied: tweepy>=3.7.0 in /usr/local/lib/python3.6/dist-packages (from konlpy) (3.9.0)\n",
            "Requirement already satisfied: beautifulsoup4==4.6.0 in /usr/local/lib/python3.6/dist-packages (from konlpy) (4.6.0)\n",
            "Requirement already satisfied: JPype1>=0.7.0 in /usr/local/lib/python3.6/dist-packages (from konlpy) (1.0.2)\n",
            "Requirement already satisfied: colorama in /usr/local/lib/python3.6/dist-packages (from konlpy) (0.4.3)\n",
            "Requirement already satisfied: numpy>=1.6 in /usr/local/lib/python3.6/dist-packages (from konlpy) (1.18.5)\n",
            "Requirement already satisfied: requests[socks]>=2.11.1 in /usr/local/lib/python3.6/dist-packages (from tweepy>=3.7.0->konlpy) (2.23.0)\n",
            "Requirement already satisfied: six>=1.10.0 in /usr/local/lib/python3.6/dist-packages (from tweepy>=3.7.0->konlpy) (1.15.0)\n",
            "Requirement already satisfied: requests-oauthlib>=0.7.0 in /usr/local/lib/python3.6/dist-packages (from tweepy>=3.7.0->konlpy) (1.3.0)\n",
            "Requirement already satisfied: typing-extensions; python_version < \"3.8\" in /usr/local/lib/python3.6/dist-packages (from JPype1>=0.7.0->konlpy) (3.7.4.3)\n",
            "Requirement already satisfied: urllib3!=1.25.0,!=1.25.1,<1.26,>=1.21.1 in /usr/local/lib/python3.6/dist-packages (from requests[socks]>=2.11.1->tweepy>=3.7.0->konlpy) (1.24.3)\n",
            "Requirement already satisfied: idna<3,>=2.5 in /usr/local/lib/python3.6/dist-packages (from requests[socks]>=2.11.1->tweepy>=3.7.0->konlpy) (2.10)\n",
            "Requirement already satisfied: certifi>=2017.4.17 in /usr/local/lib/python3.6/dist-packages (from requests[socks]>=2.11.1->tweepy>=3.7.0->konlpy) (2020.6.20)\n",
            "Requirement already satisfied: chardet<4,>=3.0.2 in /usr/local/lib/python3.6/dist-packages (from requests[socks]>=2.11.1->tweepy>=3.7.0->konlpy) (3.0.4)\n",
            "Requirement already satisfied: PySocks!=1.5.7,>=1.5.6; extra == \"socks\" in /usr/local/lib/python3.6/dist-packages (from requests[socks]>=2.11.1->tweepy>=3.7.0->konlpy) (1.7.1)\n",
            "Requirement already satisfied: oauthlib>=3.0.0 in /usr/local/lib/python3.6/dist-packages (from requests-oauthlib>=0.7.0->tweepy>=3.7.0->konlpy) (3.1.0)\n"
          ],
          "name": "stdout"
        }
      ]
    },
    {
      "cell_type": "markdown",
      "metadata": {
        "id": "SijYMMXs_dEj"
      },
      "source": [
        "#### 구글 드라이브 마운트"
      ]
    },
    {
      "cell_type": "markdown",
      "metadata": {
        "id": "IunvY7q41gxp"
      },
      "source": [
        "![뉴스데이터.jpg](data:image/jpeg;base64,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)"
      ]
    },
    {
      "cell_type": "code",
      "metadata": {
        "id": "lsJJaEjOZHZk",
        "outputId": "aac24a57-6db5-4978-92cb-d269276f4a3c",
        "colab": {
          "base_uri": "https://localhost:8080/",
          "height": 402
        }
      },
      "source": [
        "mk_news = pd.read_excel('mk_news_201901_202006.xlsx')\n",
        "mk_news"
      ],
      "execution_count": 6,
      "outputs": [
        {
          "output_type": "execute_result",
          "data": {
            "text/html": [
              "<div>\n",
              "<style scoped>\n",
              "    .dataframe tbody tr th:only-of-type {\n",
              "        vertical-align: middle;\n",
              "    }\n",
              "\n",
              "    .dataframe tbody tr th {\n",
              "        vertical-align: top;\n",
              "    }\n",
              "\n",
              "    .dataframe thead th {\n",
              "        text-align: right;\n",
              "    }\n",
              "</style>\n",
              "<table border=\"1\" class=\"dataframe\">\n",
              "  <thead>\n",
              "    <tr style=\"text-align: right;\">\n",
              "      <th></th>\n",
              "      <th>no</th>\n",
              "      <th>pubdate</th>\n",
              "      <th>pubtime</th>\n",
              "      <th>title1</th>\n",
              "      <th>body</th>\n",
              "      <th>keywords</th>\n",
              "    </tr>\n",
              "  </thead>\n",
              "  <tbody>\n",
              "    <tr>\n",
              "      <th>0</th>\n",
              "      <td>2304119</td>\n",
              "      <td>20200312</td>\n",
              "      <td>0.0</td>\n",
              "      <td>사회일반</td>\n",
              "      <td>NaN</td>\n",
              "      <td>NaN</td>\n",
              "    </tr>\n",
              "    <tr>\n",
              "      <th>1</th>\n",
              "      <td>3937779</td>\n",
              "      <td>20190112</td>\n",
              "      <td>0.0</td>\n",
              "      <td>출판/도서</td>\n",
              "      <td>&lt;!--[[--image0--]]//--&gt; ◆ 야바위 게임 / 마이클 슈월비 지음...</td>\n",
              "      <td>신간,소개</td>\n",
              "    </tr>\n",
              "    <tr>\n",
              "      <th>2</th>\n",
              "      <td>3953320</td>\n",
              "      <td>20190101</td>\n",
              "      <td>0.0</td>\n",
              "      <td>테마기획</td>\n",
              "      <td>◆ 2019 경제기상도 / 부동산 ◆ \\n &lt;!--[[--image0--]]//--...</td>\n",
              "      <td>ㅈ,ㅈ</td>\n",
              "    </tr>\n",
              "    <tr>\n",
              "      <th>3</th>\n",
              "      <td>3953321</td>\n",
              "      <td>20190101</td>\n",
              "      <td>0.0</td>\n",
              "      <td>테마기획</td>\n",
              "      <td>◆ 2019 경제기상도 / 금리 ◆ \\n &lt;!--[[--image0--]]//--&gt;...</td>\n",
              "      <td>금리,경제기상도</td>\n",
              "    </tr>\n",
              "    <tr>\n",
              "      <th>4</th>\n",
              "      <td>3953324</td>\n",
              "      <td>20190101</td>\n",
              "      <td>0.0</td>\n",
              "      <td>테마기획</td>\n",
              "      <td>&lt;!--[[--image0--]]//--&gt; '황금돼지해'인 2019년 기해년(己亥...</td>\n",
              "      <td>경제,성장,경제기상도</td>\n",
              "    </tr>\n",
              "    <tr>\n",
              "      <th>...</th>\n",
              "      <td>...</td>\n",
              "      <td>...</td>\n",
              "      <td>...</td>\n",
              "      <td>...</td>\n",
              "      <td>...</td>\n",
              "      <td>...</td>\n",
              "    </tr>\n",
              "    <tr>\n",
              "      <th>316819</th>\n",
              "      <td>4541564</td>\n",
              "      <td>20200630</td>\n",
              "      <td>225757.0</td>\n",
              "      <td>방송/TV</td>\n",
              "      <td>&lt;!--[[--image0--]]//--&gt; \\n[ 매일경제 스타투데이 서지경 객원...</td>\n",
              "      <td>NaN</td>\n",
              "    </tr>\n",
              "    <tr>\n",
              "      <th>316820</th>\n",
              "      <td>4541571</td>\n",
              "      <td>20200630</td>\n",
              "      <td>230932.0</td>\n",
              "      <td>방송/TV</td>\n",
              "      <td>&lt;!--[[--image0--]]//--&gt; \\n[ 매일경제 스타투데이 서지경 객원...</td>\n",
              "      <td>NaN</td>\n",
              "    </tr>\n",
              "    <tr>\n",
              "      <th>316821</th>\n",
              "      <td>4541579</td>\n",
              "      <td>20200630</td>\n",
              "      <td>231823.0</td>\n",
              "      <td>방송/TV</td>\n",
              "      <td>&lt;!--[[--image0--]]//--&gt; [매일경제 스타투데이 허은경 객원기자]...</td>\n",
              "      <td>NaN</td>\n",
              "    </tr>\n",
              "    <tr>\n",
              "      <th>316822</th>\n",
              "      <td>4541586</td>\n",
              "      <td>20200630</td>\n",
              "      <td>232907.0</td>\n",
              "      <td>방송/TV</td>\n",
              "      <td>&lt;!--[[--image0--]]//--&gt; \\n[ 매일경제 스타투데이 서지경 객원...</td>\n",
              "      <td>NaN</td>\n",
              "    </tr>\n",
              "    <tr>\n",
              "      <th>316823</th>\n",
              "      <td>4541587</td>\n",
              "      <td>20200630</td>\n",
              "      <td>233418.0</td>\n",
              "      <td>방송/TV</td>\n",
              "      <td>&lt;!--[[--image0--]]//--&gt; [매일경제 스타투데이 허은경 객원기자]...</td>\n",
              "      <td>NaN</td>\n",
              "    </tr>\n",
              "  </tbody>\n",
              "</table>\n",
              "<p>316824 rows × 6 columns</p>\n",
              "</div>"
            ],
            "text/plain": [
              "             no  ...     keywords\n",
              "0       2304119  ...          NaN\n",
              "1       3937779  ...        신간,소개\n",
              "2       3953320  ...          ㅈ,ㅈ\n",
              "3       3953321  ...     금리,경제기상도\n",
              "4       3953324  ...  경제,성장,경제기상도\n",
              "...         ...  ...          ...\n",
              "316819  4541564  ...          NaN\n",
              "316820  4541571  ...          NaN\n",
              "316821  4541579  ...          NaN\n",
              "316822  4541586  ...          NaN\n",
              "316823  4541587  ...          NaN\n",
              "\n",
              "[316824 rows x 6 columns]"
            ]
          },
          "metadata": {
            "tags": []
          },
          "execution_count": 6
        }
      ]
    },
    {
      "cell_type": "code",
      "metadata": {
        "id": "lOzpL6iZZ8p8",
        "outputId": "52791f35-ce36-4a95-aefe-5ce5ba5003a2",
        "colab": {
          "base_uri": "https://localhost:8080/",
          "height": 34
        }
      },
      "source": [
        "mk = mk_news.copy()\n",
        "\n",
        "mk.columns"
      ],
      "execution_count": 7,
      "outputs": [
        {
          "output_type": "execute_result",
          "data": {
            "text/plain": [
              "Index(['no', 'pubdate', 'pubtime', 'title1', 'body', 'keywords'], dtype='object')"
            ]
          },
          "metadata": {
            "tags": []
          },
          "execution_count": 7
        }
      ]
    },
    {
      "cell_type": "code",
      "metadata": {
        "id": "57R4IxoVa78M",
        "outputId": "272d5e43-274e-45a6-cc63-68a5f38ed4bc",
        "colab": {
          "base_uri": "https://localhost:8080/",
          "height": 34
        }
      },
      "source": [
        "#내용 중복 제거\n",
        "new_mk = mk.drop_duplicates(['title1','body'], keep='first', ignore_index = True)\n",
        "len(new_mk)"
      ],
      "execution_count": 8,
      "outputs": [
        {
          "output_type": "execute_result",
          "data": {
            "text/plain": [
              "297623"
            ]
          },
          "metadata": {
            "tags": []
          },
          "execution_count": 8
        }
      ]
    },
    {
      "cell_type": "code",
      "metadata": {
        "id": "rfuMZ136xRYV",
        "outputId": "36ef163a-80f5-4ddc-f18c-91d53ee2b626",
        "colab": {
          "base_uri": "https://localhost:8080/",
          "height": 474
        }
      },
      "source": [
        "#title1에 있는 카테고리는 총 174개\n",
        "new_mk['title1'].unique()"
      ],
      "execution_count": 9,
      "outputs": [
        {
          "output_type": "execute_result",
          "data": {
            "text/plain": [
              "array(['사회일반', '출판/도서', '테마기획', '의약/건강', '중견/중소기업', '증권계동향', '노동/노사',\n",
              "       '경제일반', '문화산업', '공연/전시/음악', '신문/방송', '바둑', '기자24시', '매경칼럼', '사외칼럼',\n",
              "       '인물/인터뷰', '인사', '사설', '아파트/분양', '신도시/토지', '유통·섬유·음식료', '외환·환율',\n",
              "       '금융정책·일반', '카드·캐피털', '과학기술/특허', '사고/알림', '경기/지표', '정치일반', '해외증시',\n",
              "       '채권/펀드', '국제금융', '국제경제', '국제산업', '국제정치', '항공·해운', '자동차', '기업 경영',\n",
              "       '축구', '골프', '레저/관광', '기업정보', '남북관계', '외교·국방', '시세/시황', '법원·검찰·경찰',\n",
              "       '교통/환경/날씨', '카툰', '핫이슈', '방송/TV', '가요', '사건·사고', '기타', '야구',\n",
              "       '컴퓨터/정보통신', '무역/통상', nan, '세금', '국제사회', '전기·전자·통신', '국제사건/사고',\n",
              "       'Economy', '헬스저널', '기업일반·재계동향', '교육', '건설업계 동향', '보건/복지', 'Seoul',\n",
              "       '스포츠(기타)', '중공업·기계·금속', '지역경제', '부음', '행정·지자체', '취업/채용', '공시',\n",
              "       '은행', '상가/오피스텔', '보험', '시황', '칼럼', '창업', 'Asia', 'Market',\n",
              "       'CONSUMER JOURNAL', '저축은행·기타', '포토', 'Biz', '세제/정책', '화학·에너지',\n",
              "       'Cover Story', 'Review&Observation', 'Photos', '벤쳐/벤쳐캐피탈',\n",
              "       '재개발/재건축', '증권정책', '당좌거래 정지', '영화', 'THE BIZ TIMES',\n",
              "       'Money & Riches', '문화/연예', 'People', '정책', '연예', '인터넷/게임', '선물/옵션',\n",
              "       '비즈니스', '집중기획', '재테크', 'Special Report', 'Money', '여행+',\n",
              "       'Car & Life', '신설법인', 'CEO 라운지', 'Life', 'Global 경제·경영',\n",
              "       'Bio&Tech', 'Business Strategy', '중소기업 Mart', 'Column',\n",
              "       'Company&Marketing', '자원·원자재', '국제경영', 'Style', 'Global',\n",
              "       '종교·학술·학회', 'U-World (IT)', '공연', '증시지표', '신문사-포토', '라이프',\n",
              "       '부동산 기획', '전시', '동정', '기자 스페셜', '패션', 'Teen 매일경제', '기획/분석',\n",
              "       'k-wave', '소비생활', '스페셜 리포트', '의류/섬유', '국회', '생활경제', '제약/바이오',\n",
              "       '의료/건강', '식품/음식료', '백화점/마트', '패션/뷰티', '통신', '정당', '인공지능', '소프트웨어',\n",
              "       '빅데이터', '쇼핑', '유럽', '과학일반', '아시아/호주', '청와대', '모바일', '미국/중남미',\n",
              "       'e커머스', '호텔', '게임', '인터넷/SNS', '스타트업', '데이터산업', '중동/아프리카', '특허',\n",
              "       '국제기구', '보안/해킹', '건강', '여행', '자원/원자재', '요약뉴스'], dtype=object)"
            ]
          },
          "metadata": {
            "tags": []
          },
          "execution_count": 9
        }
      ]
    },
    {
      "cell_type": "code",
      "metadata": {
        "id": "LDrWTJxCxW9g",
        "outputId": "274d11d3-8478-4852-e6c7-bfcf7d538260",
        "colab": {
          "base_uri": "https://localhost:8080/",
          "height": 140
        }
      },
      "source": [
        "new_mk.isnull().sum()"
      ],
      "execution_count": 10,
      "outputs": [
        {
          "output_type": "execute_result",
          "data": {
            "text/plain": [
              "no               0\n",
              "pubdate          0\n",
              "pubtime          1\n",
              "title1        9541\n",
              "body             2\n",
              "keywords    141268\n",
              "dtype: int64"
            ]
          },
          "metadata": {
            "tags": []
          },
          "execution_count": 10
        }
      ]
    },
    {
      "cell_type": "markdown",
      "metadata": {
        "id": "qtSVEdFkg-Uj"
      },
      "source": [
        "### 데이터 정제"
      ]
    },
    {
      "cell_type": "code",
      "metadata": {
        "id": "HqyxWpFAeBWI",
        "outputId": "bb05ac21-064b-44b9-eadc-2620532f6ab4",
        "colab": {
          "base_uri": "https://localhost:8080/",
          "height": 34
        }
      },
      "source": [
        "#body의 1번째에 해당하는 값을 300자까지 출력\n",
        "example = new_mk['body'][1][:300]\n",
        "type(example)"
      ],
      "execution_count": 11,
      "outputs": [
        {
          "output_type": "execute_result",
          "data": {
            "text/plain": [
              "str"
            ]
          },
          "metadata": {
            "tags": []
          },
          "execution_count": 11
        }
      ]
    },
    {
      "cell_type": "code",
      "metadata": {
        "id": "9IJKO48cfFg4",
        "outputId": "8737b6ff-abf3-4cb2-cd60-79ba4fce66e1",
        "colab": {
          "base_uri": "https://localhost:8080/",
          "height": 70
        }
      },
      "source": [
        "import re\n",
        "example1 = re.sub('[^ㄱ-힣A-Z]',' ',example )\n",
        "example1"
      ],
      "execution_count": 12,
      "outputs": [
        {
          "output_type": "execute_result",
          "data": {
            "application/vnd.google.colaboratory.intrinsic+json": {
              "type": "string"
            },
            "text/plain": [
              "'                           야바위 게임   마이클 슈월비 지음   노정태 옮김    만    원  도덕의 문제로 불평등의 심각함을 말할 수 있다고 주장하는 책  슈월비는 불평등 구조를 유지하며 도덕과 부의 문제를 일으키는  있는 자 들의  가지 기본 법칙을 소개한다  문예출판사 펴냄    직장인의 바른 습관   문성후 지음    만    원 주   시간 근무제라는 새로운 업무 환경에 직면한 직장인들의 일과 삶에 꼭 필요한 습관을 담은 직장 생활 지침서다  이지퍼블리싱 펴냄    마취의 시대   로랑 드 쉬테르 '"
            ]
          },
          "metadata": {
            "tags": []
          },
          "execution_count": 12
        }
      ]
    },
    {
      "cell_type": "code",
      "metadata": {
        "id": "tRVaH9QlhNFV"
      },
      "source": [
        "#모든 body에 대해 정규화 진행\n",
        "news_sub = []\n",
        "\n",
        "for i in range(len(new_mk)):\n",
        "  news_sub.append(re.sub('[^ㄱ-힣A-Z]',' ', str(new_mk['body'][i])))\n",
        "\n",
        "new_mk['정규화'] = news_sub"
      ],
      "execution_count": 13,
      "outputs": []
    },
    {
      "cell_type": "code",
      "metadata": {
        "id": "zimDt6qdpcOo",
        "outputId": "b5c82bdd-3060-4c8d-fd5d-73db38399bf2",
        "colab": {
          "base_uri": "https://localhost:8080/",
          "height": 178
        }
      },
      "source": [
        "new_mk['정규화'][15]\n",
        "\n",
        "#new_mk는 정규화만 된 상태"
      ],
      "execution_count": 14,
      "outputs": [
        {
          "output_type": "execute_result",
          "data": {
            "application/vnd.google.colaboratory.intrinsic+json": {
              "type": "string"
            },
            "text/plain": [
              "'       경제기상도                             스마트폰과 TV 등 전자 제품의 핵심 부품인 디스플레이는     년 양극화가 가속화될 전망이다  액정표시장치 LCD 는 공급과잉으로 시장이 포화 상태에 이를 것으로 보이는 데 비해 유기발광다이오드 OLED 는 당분간 성장세를 이어갈 것으로 예상된다  LCD 시장은 중국이 이미 패권을 잡은 상태다  중국은  제조       기치 아래 그동안 양산 규모를 대폭 늘려오고 있다  특히 중국 정부 지원에 힘입어 BOE는 TV용 LCD 패널 세계  위 자리를 차지한 상태다  시장조사기관 DSCC에 따르면 중국 정부는     년까지     억달러를 반도체 디스플레이에 지원할 예정이다  BOE가 시설과 연구개발에 투자한 자금 중    는 정부 보조금이었다      년 BOE는 물론 차이나스타 CSOT  등이 양산을 더욱 늘릴 것으로 예상된다  LCD 패널 가격이 하락세에서 벗어나지 못할 요인이다  시장조사기관 위츠뷰에 따르면     년  분기 평균   인치 LCD 패널 값은      하락한   달러를 기록했다  또   인치 대형 패널도      떨어진    달러로 집계됐다  LCD 패널 값 하락은     년에도 이어질 전망이다  반면     년 OLED 시장은 TV 대형화와 스마트폰 고급화에 맞물려 성장세가 예상된다  유비리서치에 따르면 OLED 시장은     년    억달러에서     년    억달러로 성장한 뒤     년    억달러로 늘어날 전망이다  특히 OLED는 LCD에 비해 기술 장벽이 아직은 높아 모바일 패널은 삼성디스플레이  TV 패널은 LG디스플레이가 주도권을 쥐고 있다  따라서 삼성디스플레이와 LG디스플레이는 OLED 전환에 박차를 가해 중국 업체들과 격차를 확대할 것으로 예상되다  LG디스플레이는 OLED 매출 비중을 현재    에서 향후    까지 끌어올린다는 계획을 갖고 있다  현재 경기 파주 E  E 라인    세대 에서 OLED 패널을 월  만여 장 원판 기준  생산하고 있고  이에 더해 중국 광저우에 건설 중인 OLED 라인    세대 이     년 하반기부터 가동에 들어가면 월  만장이 추가되면서 총 생산능력은   만장으로 늘어날 것으로 보인다  광저우 라인 생산량은 장기적으로 월  만장까지 늘어날 수 있을 것으로 보인다  또 파주에 건설하던     세대 생산라인에 대해서도 LCD를 거치지 않고 바로 OLED로 직행할 계획이다   당초 LCD 패널을 생산하다가 시장 변화에 맞춰 OLED로 전환하는 방안을 검토했으나 바로 OLED를 생산하기로 결론 내렸다  삼성디스플레이는 차세대 패널인 퀀텀닷 유기발광다이오드 QD OLED 에 대한 연구개발을 조만간 끝내고     년 양산에 돌입할 것이라는 관측이 많다  또 종전 LCD 라인을 QD OLED 라인으로 전환 배치할 전망이다  QD OLED는 청색 OLED를 증착하고 적색과 녹색을 잉크젯 프린팅 방식 QD 컬러필터로 구현한 차세대 디스플레이 기술이다    이상덕 기자 '"
            ]
          },
          "metadata": {
            "tags": []
          },
          "execution_count": 14
        }
      ]
    },
    {
      "cell_type": "markdown",
      "metadata": {
        "id": "QldyJDK7pc5T"
      },
      "source": [
        "## 한가지만 실습 - Business_strategy"
      ]
    },
    {
      "cell_type": "code",
      "metadata": {
        "id": "qA5pRyR3P-qz",
        "outputId": "b8532c55-759f-4c5e-e52e-afa8d8b298c3",
        "colab": {
          "base_uri": "https://localhost:8080/",
          "height": 570
        }
      },
      "source": [
        "#Business_strategy만 뽑아내기\n",
        "Business_strategy = new_mk[new_mk.title1=='Business Strategy']\n",
        "Business_strategy.reset_index(inplace=True)\n",
        "Business_strategy"
      ],
      "execution_count": 15,
      "outputs": [
        {
          "output_type": "execute_result",
          "data": {
            "text/html": [
              "<div>\n",
              "<style scoped>\n",
              "    .dataframe tbody tr th:only-of-type {\n",
              "        vertical-align: middle;\n",
              "    }\n",
              "\n",
              "    .dataframe tbody tr th {\n",
              "        vertical-align: top;\n",
              "    }\n",
              "\n",
              "    .dataframe thead th {\n",
              "        text-align: right;\n",
              "    }\n",
              "</style>\n",
              "<table border=\"1\" class=\"dataframe\">\n",
              "  <thead>\n",
              "    <tr style=\"text-align: right;\">\n",
              "      <th></th>\n",
              "      <th>index</th>\n",
              "      <th>no</th>\n",
              "      <th>pubdate</th>\n",
              "      <th>pubtime</th>\n",
              "      <th>title1</th>\n",
              "      <th>body</th>\n",
              "      <th>keywords</th>\n",
              "      <th>정규화</th>\n",
              "    </tr>\n",
              "  </thead>\n",
              "  <tbody>\n",
              "    <tr>\n",
              "      <th>0</th>\n",
              "      <td>3287</td>\n",
              "      <td>3961020</td>\n",
              "      <td>20190107</td>\n",
              "      <td>161524.0</td>\n",
              "      <td>Business Strategy</td>\n",
              "      <td>사티아 나델라(51) 최고경영자(CEO)가 마이크로소프트로 취임한지 5년 만에 이...</td>\n",
              "      <td>NaN</td>\n",
              "      <td>사티아 나델라     최고경영자 CEO 가 마이크로소프트로 취임한지  년 만에 이...</td>\n",
              "    </tr>\n",
              "    <tr>\n",
              "      <th>1</th>\n",
              "      <td>3327</td>\n",
              "      <td>3961106</td>\n",
              "      <td>20190107</td>\n",
              "      <td>164646.0</td>\n",
              "      <td>Business Strategy</td>\n",
              "      <td>12월 1일, 대한민국이 ‘미래’를 쏘아 올렸다. SK텔레콤·KT·LG유플러스 이...</td>\n",
              "      <td>NaN</td>\n",
              "      <td>월  일  대한민국이  미래 를 쏘아 올렸다  SK텔레콤 KT LG유플러스 이...</td>\n",
              "    </tr>\n",
              "    <tr>\n",
              "      <th>2</th>\n",
              "      <td>3845</td>\n",
              "      <td>3962005</td>\n",
              "      <td>20190108</td>\n",
              "      <td>140808.0</td>\n",
              "      <td>Business Strategy</td>\n",
              "      <td>한국 조선업은 2018년 연간 수주 실적에서 중국을 제치고 세계 1위를 달성한 것...</td>\n",
              "      <td>NaN</td>\n",
              "      <td>한국 조선업은     년 연간 수주 실적에서 중국을 제치고 세계  위를 달성한 것...</td>\n",
              "    </tr>\n",
              "    <tr>\n",
              "      <th>3</th>\n",
              "      <td>4036</td>\n",
              "      <td>3962331</td>\n",
              "      <td>20190108</td>\n",
              "      <td>171552.0</td>\n",
              "      <td>Business Strategy</td>\n",
              "      <td>주 52시간 근로제의 본격적 의무 시행이 눈앞으로 다가왔다. 물론 주 52시간 근...</td>\n",
              "      <td>NaN</td>\n",
              "      <td>주   시간 근로제의 본격적 의무 시행이 눈앞으로 다가왔다  물론 주   시간 근...</td>\n",
              "    </tr>\n",
              "    <tr>\n",
              "      <th>4</th>\n",
              "      <td>18829</td>\n",
              "      <td>3991071</td>\n",
              "      <td>20190208</td>\n",
              "      <td>142605.0</td>\n",
              "      <td>Business Strategy</td>\n",
              "      <td>TV는 언제나 집안의 중심을 차지해왔다. 기술 발전으로 잠시 관심에서 멀어진 듯한...</td>\n",
              "      <td>NaN</td>\n",
              "      <td>TV는 언제나 집안의 중심을 차지해왔다  기술 발전으로 잠시 관심에서 멀어진 듯한...</td>\n",
              "    </tr>\n",
              "    <tr>\n",
              "      <th>...</th>\n",
              "      <td>...</td>\n",
              "      <td>...</td>\n",
              "      <td>...</td>\n",
              "      <td>...</td>\n",
              "      <td>...</td>\n",
              "      <td>...</td>\n",
              "      <td>...</td>\n",
              "      <td>...</td>\n",
              "    </tr>\n",
              "    <tr>\n",
              "      <th>99</th>\n",
              "      <td>278475</td>\n",
              "      <td>4505509</td>\n",
              "      <td>20200529</td>\n",
              "      <td>144352.0</td>\n",
              "      <td>Business Strategy</td>\n",
              "      <td>코로나19 장기화로 ‘비대면 사회’가 가속화하는 가운데 온라인 쇼핑이 ‘포스트 코로...</td>\n",
              "      <td>NaN</td>\n",
              "      <td>코로나   장기화로  비대면 사회 가 가속화하는 가운데 온라인 쇼핑이  포스트 코로...</td>\n",
              "    </tr>\n",
              "    <tr>\n",
              "      <th>100</th>\n",
              "      <td>278537</td>\n",
              "      <td>4505614</td>\n",
              "      <td>20200529</td>\n",
              "      <td>154334.0</td>\n",
              "      <td>Business Strategy</td>\n",
              "      <td>‘동영상 시대’가 왔다. 미취학 아동부터 7080 노인까지 저마다 즐겨 찾는 영상 ...</td>\n",
              "      <td>NaN</td>\n",
              "      <td>동영상 시대 가 왔다  미취학 아동부터      노인까지 저마다 즐겨 찾는 영상 ...</td>\n",
              "    </tr>\n",
              "    <tr>\n",
              "      <th>101</th>\n",
              "      <td>278559</td>\n",
              "      <td>4505656</td>\n",
              "      <td>20200529</td>\n",
              "      <td>161124.0</td>\n",
              "      <td>Business Strategy</td>\n",
              "      <td>유통업계의 온라인화가 가속화하면서 오프라인 매장은 단순히 제품을 판매하는 것 이상의...</td>\n",
              "      <td>NaN</td>\n",
              "      <td>유통업계의 온라인화가 가속화하면서 오프라인 매장은 단순히 제품을 판매하는 것 이상의...</td>\n",
              "    </tr>\n",
              "    <tr>\n",
              "      <th>102</th>\n",
              "      <td>282478</td>\n",
              "      <td>4513059</td>\n",
              "      <td>20200605</td>\n",
              "      <td>103855.0</td>\n",
              "      <td>Business Strategy</td>\n",
              "      <td>▶“심장박동처럼 울리는 배기음, 날카로운 코너링의\\n박진감, 드라이빙의 짜릿함과 스...</td>\n",
              "      <td>NaN</td>\n",
              "      <td>심장박동처럼 울리는 배기음  날카로운 코너링의 박진감  드라이빙의 짜릿함과 스릴...</td>\n",
              "    </tr>\n",
              "    <tr>\n",
              "      <th>103</th>\n",
              "      <td>282497</td>\n",
              "      <td>4513094</td>\n",
              "      <td>20200605</td>\n",
              "      <td>105946.0</td>\n",
              "      <td>Business Strategy</td>\n",
              "      <td>“시스템반도체, 바이오헬스, 미래차 등 3대 신성장 산업을 더욱 강력히 육성하여 미...</td>\n",
              "      <td>NaN</td>\n",
              "      <td>시스템반도체  바이오헬스  미래차 등  대 신성장 산업을 더욱 강력히 육성하여 미...</td>\n",
              "    </tr>\n",
              "  </tbody>\n",
              "</table>\n",
              "<p>104 rows × 8 columns</p>\n",
              "</div>"
            ],
            "text/plain": [
              "      index  ...                                                정규화\n",
              "0      3287  ...   사티아 나델라     최고경영자 CEO 가 마이크로소프트로 취임한지  년 만에 이...\n",
              "1      3327  ...     월  일  대한민국이  미래 를 쏘아 올렸다  SK텔레콤 KT LG유플러스 이...\n",
              "2      3845  ...   한국 조선업은     년 연간 수주 실적에서 중국을 제치고 세계  위를 달성한 것...\n",
              "3      4036  ...   주   시간 근로제의 본격적 의무 시행이 눈앞으로 다가왔다  물론 주   시간 근...\n",
              "4     18829  ...   TV는 언제나 집안의 중심을 차지해왔다  기술 발전으로 잠시 관심에서 멀어진 듯한...\n",
              "..      ...  ...                                                ...\n",
              "99   278475  ...  코로나   장기화로  비대면 사회 가 가속화하는 가운데 온라인 쇼핑이  포스트 코로...\n",
              "100  278537  ...   동영상 시대 가 왔다  미취학 아동부터      노인까지 저마다 즐겨 찾는 영상 ...\n",
              "101  278559  ...  유통업계의 온라인화가 가속화하면서 오프라인 매장은 단순히 제품을 판매하는 것 이상의...\n",
              "102  282478  ...    심장박동처럼 울리는 배기음  날카로운 코너링의 박진감  드라이빙의 짜릿함과 스릴...\n",
              "103  282497  ...   시스템반도체  바이오헬스  미래차 등  대 신성장 산업을 더욱 강력히 육성하여 미...\n",
              "\n",
              "[104 rows x 8 columns]"
            ]
          },
          "metadata": {
            "tags": []
          },
          "execution_count": 15
        }
      ]
    },
    {
      "cell_type": "code",
      "metadata": {
        "id": "6EaxpIu4hERZ",
        "outputId": "279c21c2-b394-4fd7-c202-d12c660a8697",
        "colab": {
          "base_uri": "https://localhost:8080/",
          "height": 178
        }
      },
      "source": [
        "#포함 단어 검색\n",
        "a = Business_strategy['정규화'][Business_strategy['정규화'].str.contains('코로나|이마트')].reset_index()\n",
        "a['정규화'][4]"
      ],
      "execution_count": 16,
      "outputs": [
        {
          "output_type": "execute_result",
          "data": {
            "application/vnd.google.colaboratory.intrinsic+json": {
              "type": "string"
            },
            "text/plain": [
              "' 지난  월   일 종영한   N의 예능 프로그램  스페인하숙 은 말 그대로 스페인 하숙집에서 밥 짓고 청소하는 이야기다  출연자인 배우 차승원과 유해진  배정남이 스페인과 프랑스를 잇는 산티아고 순례길 작은 마을에서 순례자들을 맞는다  동트기 전 일어나 밥을 안치고    첩 반상을 차려 한식을 대접하는 이 프로그램의 숨은 주인공은 따로 있었다  김치찌개와 라면  돼지불고기를 소담하게 품는 그릇이다  라면을 담는 면기  과일과 아이스크림을 얹은 디저트 그릇 등이 방송 후 실시간 검색어에 오르내렸다    이 프로그램에서 사용한 모든 그릇은 CJ ENM 오쇼핑 부문에서 제작한  오덴세 다  지난  월   일 첫 방송을 시작한 이후  월 말까지 매출은 방송 전 같은 기간보다     상승했다  리빙 편집숍  백화점 단독 매장 등 오프라인 매장에서의 매출 증가율은    로  온라인 매출 증가율     보다  배 가까이 높았다    스페인하숙 에 등장한 오덴세  얀테 아츠 와  레고트 라인 중  레고트 는 전국   여 개 매장에서도 재고를 찾기 어려운 상황이다                              CJ ENM 오쇼핑 부문 오덴세  북유럽 스타일 간결한 디자인 힘입어 경쟁사 채널  백화점까지 섭렵  오덴세는 CJ ENM 오쇼핑 부문에서 홈쇼핑 자체 브랜드 PB 로 개발한 제품이지만  한 단계 더 나아갔다  일반 PB가 자체 유통 채널을 통해서만 주로 유통되는 반면  오덴세는 CJ 오쇼핑뿐 아니라 경쟁사인 GS샵이나 롯데홈쇼핑에서도 판매한다  오프라인 판로도 다양하다  지난해 한샘에 입점한 테이블웨어 브랜드 중 매출  위에 올랐고  백화점 매장도 냈다   월 방송 시점에 맞춰 롯데백화점 잠실점에는  오덴세 다이네트  매장을 열었다  이 매장에서   여 일 동안 오덴세 매출만  억원이 나왔다  신세계백화점 강남점과 현대백화점 판교점에서도 스페인하숙 팝업스토어를 열었다  지난달 말에는 롯데백화점 노원점에  오덴세 다이네트   호점을 오픈했다  해외 진출도 시도한다  지난달   일에는 대만  위 홈쇼핑 사업자인 동삼홈쇼핑에 아틀리에 노드  인조 세트    개를 수출했다   오덴세가 처음부터 인기를 끌지는 않았다  CJ오쇼핑은     년부터 상품 경쟁력을 강화하는 차원에서 브랜드 개발에 나섰고  오덴세는 그 일환으로     년 만들어진 테이블웨어 브랜드였다  초기의 오덴세도 북유럽 라이프스타일을 표방했다  하지만 매일 쓰는 그릇으로는 무겁고  색이 강했다  CJ측은  당시 테이블웨어 시장은 포트메리온과 덴비  로얄코펜하겐  노리다케 등 해외 브랜드가 점령하다시피 했다 며  국내 식문화에 맞는 제품 구성을 갖춘 가볍고 튼튼하고 모던한 디자인을 강조하며 리브랜딩했다 고 말했다   CJ 오쇼핑은 스타벅스와 자주에서 디자인을 맡았던 디자이너를 초빙했다  가볍고 튼튼한 제품을 만들기 위해 티타늄을 넣은 소지 흙 를 사용했다  간결함을 강조하는 북유럽 스타일이면서도  여러 그릇을 다양하게 내놓고 쓰는 한국 식문화에 적합한 제품이 필요했다    리브랜딩 이후 오덴세는  예쁘고 쓰기 좋다 는 평을 받으며 입소문을 탔다  이후에는 상품 그릇 보다 라이프스타일을 강조하는 전략을 썼다  고객 대상 플레이팅 클래스를 열고      년 음식을 맛있게 담는 전문 서적  그대로 따라하는 플레이팅 레시피 를 발간했다  지난해  월부터는 오덴세가 추구하는 라이프스타일과 스토리를 담은 잡지  댄스 를  년에  회   만부씩 찍어냈다   오덴세는 홈쇼핑 PB의 틀에서 벗어나면서 새로운 옷을 입었다  수채화 색감을 지닌  얀테      년   월   핸드 크래프트 카빙과 무광 유약을 써 담백함을 살린  아틀리에 노드      년  월   쌓기 쉬운 모듈형 제품  레고트      년  월 등을 잇달아 론칭했다   만    명의 팔로워를 보유한 인스타그램 계정에 오덴세를 활용한 라이프스타일 콘텐츠 사진을 게재해 공감대를 높였다   윤식당   미스터 션샤인   스페인하숙  등 식기를 맥락에 맞게 노출되는 TV프로그램과 협업하면서 매출에 폭발력이 더해졌다  오덴세 가격은 다른 국내 테이블웨어보다 싸지 않다  아틀리에 프리미엄  인조 세트   개 가   만    원  얀테 아츠 프리미엄  인조   개 가   만    원이다  타원 접시나 대형 사각 접시는 개당  만원 이상에 구입해야 한다  가격이 아닌 디자인과 브랜딩으로 승부하는 제품으로 자리매김한 것이다   CJ ENM 오쇼핑 부문은 올해 오덴세로만    억원의 매출을 올릴 것으로 기대하고 있다  쿡웨어와 소형 주방가전 등으로 카테고리를 확장해 글로벌 리빙 브랜드로 성장시키겠다는 포부다                              이마트 쇼앤텔  이탈리아 현지 생산 제품 등으로      男 공략  유통업체가 운영하는 편집숍이 해외 유명 모델을 섭외하고  자체 제품을 해외 현지서 제작하는 사례도 나온다  이마트 쇼앤텔 S    T    은   세부터   세까지의 남자를 겨냥한다   남성 패피 패션피플  패션에 신경쓰는 사람 들의 선물가게  콘셉트로  이탈리아 소싱 브랜드와 자체 브랜드 의류  국내 신진 디자이너 등   여 개 브랜드를 모았다  평일과 주말에 모두 입을 수 있는 과하지 않은 패션을 선보인다는 매장이다    쇼앤텔은 매년    월에 열리는 세계 최대 남성패션 박람회인  피티워모 와 밀라노의 브랜드 쇼룸들을 직접 다니며 발굴한 가성비 위주의 해외 브랜드를 구매한다   T   L       티 라이브러리    DBSW   A      S        아트 오브 스크리블   등 티셔츠 브랜드와 가죽 브랜드  마벨로  우산 브랜드  키 웨스트  등 국내 브랜드도 다양하게 들여왔다  이 편집숍에서는 자체 상품 비중에 주목해야 한다  봄 시즌    여 개 상품 중 티셔츠  데님 재킷  블레이저 등 자체 상품은    에 달하는    여 개다  매출 기준으로는    에 육박한다  편집숍이 단순히 큐레이션에 그치지 않고 자체 상품을 제작한 것이 성과를 낸다는 의미다                             쇼앤텔 PB는 이탈리아 공장에서 제작한다  본사에서 디자인 오더를 내리고  이탈리아에서 샘플 생산을 한 후 수차례 핏 수정을 거친다    이마트 측은  자체 상품을 제작하면 시장 환경에 탄력적으로 대응할 수 있다 고 설명했다  이탈리아 감성의 편집숍을 지향하지만  한국인의 체형이 유럽인과 다른 점을 감안해 한국 남성 체형에 최적화한 디자인도 가능하다  통이 넓은 바지  가슴둘레가 여유 있는 셔츠가 제작되는 것도 이 때문이다  이탈리아의 프리미엄 원단  유럽의 감성은 유지하되 세부 디자인은 한국인에게 맞게 변형했다는 평가다  모델에도 공을 들였다  올해 봄 여름 시즌 카탈로그 모델로는 이탈리아 모델 지롤라모 판체타와 변준서를 선정했다    대부터   대까지를 아우르는 쇼앤텔의 정체성을 표현하기 위해 양극단의 인물을 골랐다는 설명이다    지롤라모 판체타는 이탈리아인으로  일본에서 남성 패션잡지  레옹 의 간판 모델로   년 이상 활동한 인물이다  레옹 표지 모델 기네스북에도 등재됐다  변준서는 캐나다에서 국내로 역진출한 패션모델로  독일 명품 브랜드 MCM의 모델로 활동한다   조윤희 쇼앤텔 팀장은  쇼앤텔은 유러피안 감성에 한국인 핏을 결합한 자체 브랜드 상품과 가성비가 뛰어난 패외 브랜드를 함께 선보인다 며   꾸안꾸족 꾸민 듯 안꾸민 듯한 패션을 선호하는 사람  의 선호도가 높다 고 말했다                             현대홈쇼핑 알레보 오로타 산업디자이너가 만든 간결한 선   현대홈쇼핑은 지난해 생활가전 자체 브랜드  오로타      을 새롭게 내놨다  현대홈쇼핑이 업계 최초로 선보인 생활 가전 PB인데  여기서도 세련된 디자인이 화제가 됐다  현대홈쇼핑은  디자인 을 제품 개발 최우선 순위에 두고  최적의 디자인을 만들 디자이너를 선정했다   마이크로소프트 게임기  엑스박스 와 삼성 LG휴대폰 등 다수의 상품 디자인으로 글로벌 디자인 어워드에서 수차례 수상한 유영규 디자이너가 제품 디자인과 개발에서 협업했다  현대홈쇼핑 측은  유영규 디자이너는 대한민국 디자인 대상에서 대통령 산업포장을 받을 정도로 국내를 대표하는 산업 디자이너 라며  유통업계와의 협업은 현대홈쇼핑이 처음 이라고 설명했다   오로타     은 원과 직선을 강조한 디자인으로 기존 오로타 제품보다 간결하고 날씬해졌다  직사각형 모양의 크로스팬이었던 전면부를 원형 서큘레이터팬  개로 나눴다  열을 배출하는 통로는 위에서 아래로 배치했고  기존 오픈형 물탱크는 매립형으로 바꿔 소음도 줄었다    같은 해 론칭한 생활용품 PB  알레보 도 고객 의견을 반영한 디자인으로 호응을 얻었다  첫 상품인  알레보 IH스타일팟 냄비세트  은 IH인덕션 판을 제품 하단에 부착해 가스 인덕션 하이라이트에서 모두 사용할 수 있다  사이즈가 다른 두 냄비에 쓸 수 있는  투인원  덮개를 함께 개발했다  제품별로 냄비 덮개가 따로라  보관할 때 공간을 많이 차지한다는 고객 의견을 반영했다    식탁 등에 둘 때 냄비를 인테리어 소품으로 활용할 수 있도록 컬러도 차별화했다  제품 몸체에는 네이비 컬러  손잡이에는 로즈골드 컬러를 각각 적용했다  회사 관계자는  스타일팟 출시 이후 방송마다 매진을 기록해 초도 물량 약  만 개가 조기 판매됐다 며  냄비를 비롯해 다른 라이프스타일 제품도 개발해 선보일 계획 이라고 말했다                             신세계인터내셔날 자주 초저소음  예쁜 선풍기  여름 가전 대표제품으로 출시  신세계인터내셔날의 라이프스타일 브랜드 자주 JAJU 는 최근 여름가전  프리미엄 선풍기 시리즈 를 출시했다  지난해 인기를 끌었던 서큘레이터 선풍기와 조용한 바람 선풍기를 각각 업그레이드했다   리버스윈드 서큘레이터 선풍기 는 회오리 바람을 통해 공기를 순환시켜 에어컨 냉기를 구석까지 전달하는 서큘레이터 기능을 추가했다  상하   도  좌우    도까지 각도 조절이 가능하다   엽 날개 대신  엽 날개를 달아 바람을 부드럽게 만들어준다는 설명이다  제품 하단에 자석으로 탈부착하는 리모컨이 있어 편리하다  일반 모터 대비 소음이 적고  최대    의 에너지 절감효과가 나는 DC모터를 탑재했다   지난해 처음 판매한 후 첫 달 판매율    를 넘었던 히트상품  조용한 바람 리모컨 선풍기 는   데시벨  B 의 초저소음이 특징이다  올해는 저소음  엽 날개가 적용돼 부드러우면서도 강력한 바람을 일으키고  주변 온도에 따라 풍량이 조정되는 온도측정센서가 들어갔다    롯데백화점  냉감 소재로 만든 여름 청바지  에토르 샤벳라인   이 제품들은  PB는 가성비가 좋지만 디자인은 투박하다 는 고정관념을 깼다  유사한 성능에 유통과정을 줄여 가격 거품을 뺀 것이 PB  세대였다면  PB  세대는 디자인을 전면에 내세우며  PB도 멋지다 는 인식을 심으려고 한다  최종 목표는 다른 일반 브랜드와 경쟁하기에도 손색없는 품질과 디자인을 갖춘 브랜드다  PB 기획 시에는 대부분 유통채널이 갖고 있는 기존의 고객 판매 데이터와 설문 조사 결과 등을 기반으로 기존 제품 시장의  빈틈 을 공략한다  롯데백화점의 청바지 전문 PB  에토르 는 지난달 초부터 여름용 청바지  샤벳 라인을 판매했다  청바지는 여름에 입기 답답하다는 고객 불만  여름에도 시원하게 입을 수 있는 청바지를 만들어 달라는 고객 수요를 접수해  시원한 청바지 로 개발했다   대표상품인  샤벳 진 은 쿨맥스와 마이크로 쿨 소재로 만들었다  면과 스판을 섞어 몸에 감기지 않는다  함께 출시한 티셔츠에는 찰랑거리는 고밀도 쿨링 원사를 썼고  뒷면 기장을 길게 트는 디테일을 넣어 밋밋함을 덜었다  여름옷은 자주 세탁해 쉽게 늘어나는 점을 감안해 넥라인에 이중 원단을 덧댔다    김재열 롯데백화점 PB운영팀 팀장은  추후 트렌드에 맞춘 다양한 가을겨울 시즌 상품도 선보일 예정 이라고 말했다  롯데백화점은 평창 올림픽 시즌에 맞춰 선보였던 PB  평창 롱패딩 이 선풍적인 인기를 끈 이후 PB운영팀을 신설했다  선글라스  뷰 와 청바지  에토르  외에도 PB상품을 추가 개발한다는 계획이다    이유진 매일경제 유통부 기자   본 기사는 매경LUXMEN 제   호      년  월  기사입니다  '"
            ]
          },
          "metadata": {
            "tags": []
          },
          "execution_count": 16
        }
      ]
    },
    {
      "cell_type": "code",
      "metadata": {
        "id": "2RvZsxXG_YA3"
      },
      "source": [
        "from konlpy.tag import Okt\n",
        "okt = Okt()"
      ],
      "execution_count": 17,
      "outputs": []
    },
    {
      "cell_type": "code",
      "metadata": {
        "id": "IxNCRv-iSl99"
      },
      "source": [
        "#토큰화\n",
        "news_sub2 = []\n",
        "\n",
        "for i in range(len(Business_strategy)):\n",
        "  news_sub2.append(okt.morphs(Business_strategy['정규화'][i]))\n",
        "\n",
        "Business_strategy['토큰화'] = news_sub2"
      ],
      "execution_count": 18,
      "outputs": []
    },
    {
      "cell_type": "code",
      "metadata": {
        "id": "QNnKL6dhtB06",
        "outputId": "874c4792-134a-4b5d-f0b4-1f4d8e6aca78",
        "colab": {
          "base_uri": "https://localhost:8080/",
          "height": 570
        }
      },
      "source": [
        "Business_strategy.drop(columns='keywords')"
      ],
      "execution_count": 19,
      "outputs": [
        {
          "output_type": "execute_result",
          "data": {
            "text/html": [
              "<div>\n",
              "<style scoped>\n",
              "    .dataframe tbody tr th:only-of-type {\n",
              "        vertical-align: middle;\n",
              "    }\n",
              "\n",
              "    .dataframe tbody tr th {\n",
              "        vertical-align: top;\n",
              "    }\n",
              "\n",
              "    .dataframe thead th {\n",
              "        text-align: right;\n",
              "    }\n",
              "</style>\n",
              "<table border=\"1\" class=\"dataframe\">\n",
              "  <thead>\n",
              "    <tr style=\"text-align: right;\">\n",
              "      <th></th>\n",
              "      <th>index</th>\n",
              "      <th>no</th>\n",
              "      <th>pubdate</th>\n",
              "      <th>pubtime</th>\n",
              "      <th>title1</th>\n",
              "      <th>body</th>\n",
              "      <th>정규화</th>\n",
              "      <th>토큰화</th>\n",
              "    </tr>\n",
              "  </thead>\n",
              "  <tbody>\n",
              "    <tr>\n",
              "      <th>0</th>\n",
              "      <td>3287</td>\n",
              "      <td>3961020</td>\n",
              "      <td>20190107</td>\n",
              "      <td>161524.0</td>\n",
              "      <td>Business Strategy</td>\n",
              "      <td>사티아 나델라(51) 최고경영자(CEO)가 마이크로소프트로 취임한지 5년 만에 이...</td>\n",
              "      <td>사티아 나델라     최고경영자 CEO 가 마이크로소프트로 취임한지  년 만에 이...</td>\n",
              "      <td>[사티, 아, 나델, 라, 최고경영자, CEO, 가, 마이크로소프트, 로, 취임, ...</td>\n",
              "    </tr>\n",
              "    <tr>\n",
              "      <th>1</th>\n",
              "      <td>3327</td>\n",
              "      <td>3961106</td>\n",
              "      <td>20190107</td>\n",
              "      <td>164646.0</td>\n",
              "      <td>Business Strategy</td>\n",
              "      <td>12월 1일, 대한민국이 ‘미래’를 쏘아 올렸다. SK텔레콤·KT·LG유플러스 이...</td>\n",
              "      <td>월  일  대한민국이  미래 를 쏘아 올렸다  SK텔레콤 KT LG유플러스 이...</td>\n",
              "      <td>[월, 일, 대한민국, 이, 미래, 를, 쏘아, 올렸다, SK, 텔레콤, KT, L...</td>\n",
              "    </tr>\n",
              "    <tr>\n",
              "      <th>2</th>\n",
              "      <td>3845</td>\n",
              "      <td>3962005</td>\n",
              "      <td>20190108</td>\n",
              "      <td>140808.0</td>\n",
              "      <td>Business Strategy</td>\n",
              "      <td>한국 조선업은 2018년 연간 수주 실적에서 중국을 제치고 세계 1위를 달성한 것...</td>\n",
              "      <td>한국 조선업은     년 연간 수주 실적에서 중국을 제치고 세계  위를 달성한 것...</td>\n",
              "      <td>[한국, 조선업, 은, 년, 연간, 수주, 실적, 에서, 중국, 을, 제, 치고, ...</td>\n",
              "    </tr>\n",
              "    <tr>\n",
              "      <th>3</th>\n",
              "      <td>4036</td>\n",
              "      <td>3962331</td>\n",
              "      <td>20190108</td>\n",
              "      <td>171552.0</td>\n",
              "      <td>Business Strategy</td>\n",
              "      <td>주 52시간 근로제의 본격적 의무 시행이 눈앞으로 다가왔다. 물론 주 52시간 근...</td>\n",
              "      <td>주   시간 근로제의 본격적 의무 시행이 눈앞으로 다가왔다  물론 주   시간 근...</td>\n",
              "      <td>[주, 시간, 근로, 제의, 본격, 적, 의무, 시행, 이, 눈앞, 으로, 다가왔다...</td>\n",
              "    </tr>\n",
              "    <tr>\n",
              "      <th>4</th>\n",
              "      <td>18829</td>\n",
              "      <td>3991071</td>\n",
              "      <td>20190208</td>\n",
              "      <td>142605.0</td>\n",
              "      <td>Business Strategy</td>\n",
              "      <td>TV는 언제나 집안의 중심을 차지해왔다. 기술 발전으로 잠시 관심에서 멀어진 듯한...</td>\n",
              "      <td>TV는 언제나 집안의 중심을 차지해왔다  기술 발전으로 잠시 관심에서 멀어진 듯한...</td>\n",
              "      <td>[TV, 는, 언제나, 집안, 의, 중심, 을, 차지, 해왔다, 기술, 발전, 으로...</td>\n",
              "    </tr>\n",
              "    <tr>\n",
              "      <th>...</th>\n",
              "      <td>...</td>\n",
              "      <td>...</td>\n",
              "      <td>...</td>\n",
              "      <td>...</td>\n",
              "      <td>...</td>\n",
              "      <td>...</td>\n",
              "      <td>...</td>\n",
              "      <td>...</td>\n",
              "    </tr>\n",
              "    <tr>\n",
              "      <th>99</th>\n",
              "      <td>278475</td>\n",
              "      <td>4505509</td>\n",
              "      <td>20200529</td>\n",
              "      <td>144352.0</td>\n",
              "      <td>Business Strategy</td>\n",
              "      <td>코로나19 장기화로 ‘비대면 사회’가 가속화하는 가운데 온라인 쇼핑이 ‘포스트 코로...</td>\n",
              "      <td>코로나   장기화로  비대면 사회 가 가속화하는 가운데 온라인 쇼핑이  포스트 코로...</td>\n",
              "      <td>[코로나, 장기, 화로, 비대, 면, 사회, 가, 가속, 화하는, 가운데, 온라인,...</td>\n",
              "    </tr>\n",
              "    <tr>\n",
              "      <th>100</th>\n",
              "      <td>278537</td>\n",
              "      <td>4505614</td>\n",
              "      <td>20200529</td>\n",
              "      <td>154334.0</td>\n",
              "      <td>Business Strategy</td>\n",
              "      <td>‘동영상 시대’가 왔다. 미취학 아동부터 7080 노인까지 저마다 즐겨 찾는 영상 ...</td>\n",
              "      <td>동영상 시대 가 왔다  미취학 아동부터      노인까지 저마다 즐겨 찾는 영상 ...</td>\n",
              "      <td>[동영상, 시대, 가, 왔다, 미취, 학, 아동, 부터, 노인, 까지, 저, 마다,...</td>\n",
              "    </tr>\n",
              "    <tr>\n",
              "      <th>101</th>\n",
              "      <td>278559</td>\n",
              "      <td>4505656</td>\n",
              "      <td>20200529</td>\n",
              "      <td>161124.0</td>\n",
              "      <td>Business Strategy</td>\n",
              "      <td>유통업계의 온라인화가 가속화하면서 오프라인 매장은 단순히 제품을 판매하는 것 이상의...</td>\n",
              "      <td>유통업계의 온라인화가 가속화하면서 오프라인 매장은 단순히 제품을 판매하는 것 이상의...</td>\n",
              "      <td>[유통업, 계, 의, 온라인, 화가, 가속, 화하면서, 오프라인, 매장, 은, 단순...</td>\n",
              "    </tr>\n",
              "    <tr>\n",
              "      <th>102</th>\n",
              "      <td>282478</td>\n",
              "      <td>4513059</td>\n",
              "      <td>20200605</td>\n",
              "      <td>103855.0</td>\n",
              "      <td>Business Strategy</td>\n",
              "      <td>▶“심장박동처럼 울리는 배기음, 날카로운 코너링의\\n박진감, 드라이빙의 짜릿함과 스...</td>\n",
              "      <td>심장박동처럼 울리는 배기음  날카로운 코너링의 박진감  드라이빙의 짜릿함과 스릴...</td>\n",
              "      <td>[심장, 박동, 처럼, 울리는, 배기음, 날카로운, 코너링, 의, 박진, 감, 드라...</td>\n",
              "    </tr>\n",
              "    <tr>\n",
              "      <th>103</th>\n",
              "      <td>282497</td>\n",
              "      <td>4513094</td>\n",
              "      <td>20200605</td>\n",
              "      <td>105946.0</td>\n",
              "      <td>Business Strategy</td>\n",
              "      <td>“시스템반도체, 바이오헬스, 미래차 등 3대 신성장 산업을 더욱 강력히 육성하여 미...</td>\n",
              "      <td>시스템반도체  바이오헬스  미래차 등  대 신성장 산업을 더욱 강력히 육성하여 미...</td>\n",
              "      <td>[시스템, 반도체, 바이오, 헬스, 미래, 차, 등, 대, 신, 성장, 산업, 을,...</td>\n",
              "    </tr>\n",
              "  </tbody>\n",
              "</table>\n",
              "<p>104 rows × 8 columns</p>\n",
              "</div>"
            ],
            "text/plain": [
              "      index  ...                                                토큰화\n",
              "0      3287  ...  [사티, 아, 나델, 라, 최고경영자, CEO, 가, 마이크로소프트, 로, 취임, ...\n",
              "1      3327  ...  [월, 일, 대한민국, 이, 미래, 를, 쏘아, 올렸다, SK, 텔레콤, KT, L...\n",
              "2      3845  ...  [한국, 조선업, 은, 년, 연간, 수주, 실적, 에서, 중국, 을, 제, 치고, ...\n",
              "3      4036  ...  [주, 시간, 근로, 제의, 본격, 적, 의무, 시행, 이, 눈앞, 으로, 다가왔다...\n",
              "4     18829  ...  [TV, 는, 언제나, 집안, 의, 중심, 을, 차지, 해왔다, 기술, 발전, 으로...\n",
              "..      ...  ...                                                ...\n",
              "99   278475  ...  [코로나, 장기, 화로, 비대, 면, 사회, 가, 가속, 화하는, 가운데, 온라인,...\n",
              "100  278537  ...  [동영상, 시대, 가, 왔다, 미취, 학, 아동, 부터, 노인, 까지, 저, 마다,...\n",
              "101  278559  ...  [유통업, 계, 의, 온라인, 화가, 가속, 화하면서, 오프라인, 매장, 은, 단순...\n",
              "102  282478  ...  [심장, 박동, 처럼, 울리는, 배기음, 날카로운, 코너링, 의, 박진, 감, 드라...\n",
              "103  282497  ...  [시스템, 반도체, 바이오, 헬스, 미래, 차, 등, 대, 신, 성장, 산업, 을,...\n",
              "\n",
              "[104 rows x 8 columns]"
            ]
          },
          "metadata": {
            "tags": []
          },
          "execution_count": 19
        }
      ]
    },
    {
      "cell_type": "code",
      "metadata": {
        "id": "RKIT6DsIr29G",
        "outputId": "1282746c-250a-43f5-de23-5eda98e56fdf",
        "colab": {
          "base_uri": "https://localhost:8080/",
          "height": 362
        }
      },
      "source": [
        "oktTag = []\n",
        "\n",
        "for i in range(len(Business_strategy['정규화'])):\n",
        "  oktTag.append(okt.pos(Business_strategy['정규화'][i]))\n",
        "\n",
        "Business_strategy['postagging'] = oktTag"
      ],
      "execution_count": 20,
      "outputs": [
        {
          "output_type": "error",
          "ename": "KeyboardInterrupt",
          "evalue": "ignored",
          "traceback": [
            "\u001b[0;31m---------------------------------------------------------------------------\u001b[0m",
            "\u001b[0;31mKeyboardInterrupt\u001b[0m                         Traceback (most recent call last)",
            "\u001b[0;32m<ipython-input-20-fffcfae1cfc7>\u001b[0m in \u001b[0;36m<module>\u001b[0;34m()\u001b[0m\n\u001b[1;32m      2\u001b[0m \u001b[0;34m\u001b[0m\u001b[0m\n\u001b[1;32m      3\u001b[0m \u001b[0;32mfor\u001b[0m \u001b[0mi\u001b[0m \u001b[0;32min\u001b[0m \u001b[0mrange\u001b[0m\u001b[0;34m(\u001b[0m\u001b[0mlen\u001b[0m\u001b[0;34m(\u001b[0m\u001b[0mBusiness_strategy\u001b[0m\u001b[0;34m[\u001b[0m\u001b[0;34m'정규화'\u001b[0m\u001b[0;34m]\u001b[0m\u001b[0;34m)\u001b[0m\u001b[0;34m)\u001b[0m\u001b[0;34m:\u001b[0m\u001b[0;34m\u001b[0m\u001b[0;34m\u001b[0m\u001b[0m\n\u001b[0;32m----> 4\u001b[0;31m   \u001b[0moktTag\u001b[0m\u001b[0;34m.\u001b[0m\u001b[0mappend\u001b[0m\u001b[0;34m(\u001b[0m\u001b[0mokt\u001b[0m\u001b[0;34m.\u001b[0m\u001b[0mpos\u001b[0m\u001b[0;34m(\u001b[0m\u001b[0mBusiness_strategy\u001b[0m\u001b[0;34m[\u001b[0m\u001b[0;34m'정규화'\u001b[0m\u001b[0;34m]\u001b[0m\u001b[0;34m[\u001b[0m\u001b[0mi\u001b[0m\u001b[0;34m]\u001b[0m\u001b[0;34m)\u001b[0m\u001b[0;34m)\u001b[0m\u001b[0;34m\u001b[0m\u001b[0;34m\u001b[0m\u001b[0m\n\u001b[0m\u001b[1;32m      5\u001b[0m \u001b[0;34m\u001b[0m\u001b[0m\n\u001b[1;32m      6\u001b[0m \u001b[0mBusiness_strategy\u001b[0m\u001b[0;34m[\u001b[0m\u001b[0;34m'postagging'\u001b[0m\u001b[0;34m]\u001b[0m \u001b[0;34m=\u001b[0m \u001b[0moktTag\u001b[0m\u001b[0;34m\u001b[0m\u001b[0;34m\u001b[0m\u001b[0m\n",
            "\u001b[0;32m/usr/local/lib/python3.6/dist-packages/konlpy/tag/_okt.py\u001b[0m in \u001b[0;36mpos\u001b[0;34m(self, phrase, norm, stem, join)\u001b[0m\n\u001b[1;32m     61\u001b[0m                     \u001b[0mphrase\u001b[0m\u001b[0;34m,\u001b[0m\u001b[0;34m\u001b[0m\u001b[0;34m\u001b[0m\u001b[0m\n\u001b[1;32m     62\u001b[0m                     \u001b[0mjpype\u001b[0m\u001b[0;34m.\u001b[0m\u001b[0mjava\u001b[0m\u001b[0;34m.\u001b[0m\u001b[0mlang\u001b[0m\u001b[0;34m.\u001b[0m\u001b[0mBoolean\u001b[0m\u001b[0;34m(\u001b[0m\u001b[0mnorm\u001b[0m\u001b[0;34m)\u001b[0m\u001b[0;34m,\u001b[0m\u001b[0;34m\u001b[0m\u001b[0;34m\u001b[0m\u001b[0m\n\u001b[0;32m---> 63\u001b[0;31m                     jpype.java.lang.Boolean(stem)).toArray()\n\u001b[0m\u001b[1;32m     64\u001b[0m         \u001b[0;32mif\u001b[0m \u001b[0mjoin\u001b[0m\u001b[0;34m:\u001b[0m\u001b[0;34m\u001b[0m\u001b[0;34m\u001b[0m\u001b[0m\n\u001b[1;32m     65\u001b[0m             \u001b[0;32mreturn\u001b[0m \u001b[0;34m[\u001b[0m\u001b[0mt\u001b[0m \u001b[0;32mfor\u001b[0m \u001b[0mt\u001b[0m \u001b[0;32min\u001b[0m \u001b[0mtokens\u001b[0m\u001b[0;34m]\u001b[0m\u001b[0;34m\u001b[0m\u001b[0;34m\u001b[0m\u001b[0m\n",
            "\u001b[0;31mKeyboardInterrupt\u001b[0m: "
          ]
        }
      ]
    },
    {
      "cell_type": "code",
      "metadata": {
        "id": "73IGQntRoGCv"
      },
      "source": [
        "Business_strategy.head()"
      ],
      "execution_count": null,
      "outputs": []
    },
    {
      "cell_type": "code",
      "metadata": {
        "id": "j0HZ3e3epmK8"
      },
      "source": [
        "stopword = pd.read_csv('stopword_korean.csv')"
      ],
      "execution_count": null,
      "outputs": []
    },
    {
      "cell_type": "code",
      "metadata": {
        "id": "J5UjsSjgpoKY"
      },
      "source": [
        "new_stopword = stopword.drop(columns='Unnamed: 0')"
      ],
      "execution_count": null,
      "outputs": []
    },
    {
      "cell_type": "code",
      "metadata": {
        "id": "u9UqgltHrPy9"
      },
      "source": [
        "#불용어처리\n",
        "from collections import Counter\n",
        "Counter(Business_strategy['postagging'][0]).most_common()"
      ],
      "execution_count": null,
      "outputs": []
    },
    {
      "cell_type": "code",
      "metadata": {
        "id": "Buono8rYiONq"
      },
      "source": [
        "stopword_list = stopword['불용어'].tolist()\n",
        "a = ['매우','정말','완전']\n",
        "stopword_list.extend(a)\n",
        "stopword_list"
      ],
      "execution_count": null,
      "outputs": []
    },
    {
      "cell_type": "code",
      "metadata": {
        "id": "MqcjGNmRh9KW"
      },
      "source": [
        "from sklearn.feature_extraction.text import CountVectorizer\n",
        "\n",
        "text=[\"나는 너를 완전 많이 정말 매우 아이쿠 사랑해.\"]\n",
        "\n",
        "vect = CountVectorizer(stop_words=stopword_list)\n",
        "print(vect.fit_transform(text).toarray())\n",
        "print(vect.vocabulary_)"
      ],
      "execution_count": null,
      "outputs": []
    },
    {
      "cell_type": "code",
      "metadata": {
        "id": "-1ESBiUwjAV8"
      },
      "source": [
        "common = []\n",
        "\n",
        "for i in range(len(Business_strategy['postagging'])):\n",
        "  common.append(Counter(Business_strategy['postagging'][i]).most_common())\n",
        "common[100][8][0][1]\n",
        "#4번째: ('append','Verb')에서 'Verb'\n",
        "#3번째: (('append','Verb'),3)에서 ('append','Verb')"
      ],
      "execution_count": null,
      "outputs": []
    },
    {
      "cell_type": "code",
      "metadata": {
        "id": "wKr-_LC6qT7g"
      },
      "source": [
        "Business_strategy['postagging'][103][1][1]"
      ],
      "execution_count": null,
      "outputs": []
    },
    {
      "cell_type": "markdown",
      "metadata": {
        "id": "bKYuAyHmQ9Z9"
      },
      "source": [
        "### 해당 키워드와 맞는 기사 찾아내기 (전체)"
      ]
    },
    {
      "cell_type": "code",
      "metadata": {
        "id": "Er0_Pj5oQ9J-",
        "outputId": "0fa45649-fafd-4ede-d64e-2454c1b32ecc",
        "colab": {
          "base_uri": "https://localhost:8080/",
          "height": 570
        }
      },
      "source": [
        "#포함 단어 검색\n",
        "word_include = new_mk[new_mk['정규화'].str.contains('신선식품')]\n",
        "word_include"
      ],
      "execution_count": 21,
      "outputs": [
        {
          "output_type": "execute_result",
          "data": {
            "text/html": [
              "<div>\n",
              "<style scoped>\n",
              "    .dataframe tbody tr th:only-of-type {\n",
              "        vertical-align: middle;\n",
              "    }\n",
              "\n",
              "    .dataframe tbody tr th {\n",
              "        vertical-align: top;\n",
              "    }\n",
              "\n",
              "    .dataframe thead th {\n",
              "        text-align: right;\n",
              "    }\n",
              "</style>\n",
              "<table border=\"1\" class=\"dataframe\">\n",
              "  <thead>\n",
              "    <tr style=\"text-align: right;\">\n",
              "      <th></th>\n",
              "      <th>no</th>\n",
              "      <th>pubdate</th>\n",
              "      <th>pubtime</th>\n",
              "      <th>title1</th>\n",
              "      <th>body</th>\n",
              "      <th>keywords</th>\n",
              "      <th>정규화</th>\n",
              "    </tr>\n",
              "  </thead>\n",
              "  <tbody>\n",
              "    <tr>\n",
              "      <th>1348</th>\n",
              "      <td>3956911</td>\n",
              "      <td>20190103</td>\n",
              "      <td>104033.0</td>\n",
              "      <td>유통·섬유·음식료</td>\n",
              "      <td>&lt;!--[[--image0--]]//--&gt; 지난해 '블랙이오' 행사를 흥행시켰던 ...</td>\n",
              "      <td>이마트,신세계,전복이 990원,국민 가격 프로젝트,신세계만의 스마트한 초저가모델</td>\n",
              "      <td>지난해  블랙이오  행사를 흥행시켰던 ...</td>\n",
              "    </tr>\n",
              "    <tr>\n",
              "      <th>1480</th>\n",
              "      <td>3957189</td>\n",
              "      <td>20190103</td>\n",
              "      <td>143430.0</td>\n",
              "      <td>People</td>\n",
              "      <td>대부분의 질문에 대한 답이 ‘회사가 추구하는 가치’에 대한 설명으로 이어졌다. 인...</td>\n",
              "      <td>NaN</td>\n",
              "      <td>대부분의 질문에 대한 답이  회사가 추구하는 가치 에 대한 설명으로 이어졌다  인...</td>\n",
              "    </tr>\n",
              "    <tr>\n",
              "      <th>1639</th>\n",
              "      <td>3957470</td>\n",
              "      <td>20190104</td>\n",
              "      <td>0.0</td>\n",
              "      <td>유통·섬유·음식료</td>\n",
              "      <td>온라인 쇼핑 공세에 맞선 이마트가 '신선식품 특가' 카드를 꺼내들었다. 온라인 쇼핑...</td>\n",
              "      <td>이마트,가격</td>\n",
              "      <td>온라인 쇼핑 공세에 맞선 이마트가  신선식품 특가  카드를 꺼내들었다  온라인 쇼핑...</td>\n",
              "    </tr>\n",
              "    <tr>\n",
              "      <th>1915</th>\n",
              "      <td>3958078</td>\n",
              "      <td>20190104</td>\n",
              "      <td>93053.0</td>\n",
              "      <td>NaN</td>\n",
              "      <td>[숫자로 보는 세상] \\n &lt;!--[[--image0--]]//--&gt; ◆4036억9...</td>\n",
              "      <td>NaN</td>\n",
              "      <td>숫자로 보는 세상                                 억  ...</td>\n",
              "    </tr>\n",
              "    <tr>\n",
              "      <th>2025</th>\n",
              "      <td>3958307</td>\n",
              "      <td>20190104</td>\n",
              "      <td>101910.0</td>\n",
              "      <td>유통·섬유·음식료</td>\n",
              "      <td>2019년 배송시장의 핵심 트렌드는 더 빠르고 간편한 배송 서비스가 될 것으로 보인...</td>\n",
              "      <td>NaN</td>\n",
              "      <td>년 배송시장의 핵심 트렌드는 더 빠르고 간편한 배송 서비스가 될 것으로 보인...</td>\n",
              "    </tr>\n",
              "    <tr>\n",
              "      <th>...</th>\n",
              "      <td>...</td>\n",
              "      <td>...</td>\n",
              "      <td>...</td>\n",
              "      <td>...</td>\n",
              "      <td>...</td>\n",
              "      <td>...</td>\n",
              "      <td>...</td>\n",
              "    </tr>\n",
              "    <tr>\n",
              "      <th>296000</th>\n",
              "      <td>4538517</td>\n",
              "      <td>20200629</td>\n",
              "      <td>0.0</td>\n",
              "      <td>백화점/마트</td>\n",
              "      <td>&lt;!--[[--image0--]]//--&gt; 지난 26일 시작한 '대한민국 동행세일...</td>\n",
              "      <td>백화점,마트,동행세일</td>\n",
              "      <td>지난   일 시작한  대한민국 동행세일...</td>\n",
              "    </tr>\n",
              "    <tr>\n",
              "      <th>296267</th>\n",
              "      <td>4539020</td>\n",
              "      <td>20200630</td>\n",
              "      <td>0.0</td>\n",
              "      <td>테마기획</td>\n",
              "      <td>◆ 위기속 상생 경영 ◆\\n &lt;!--[[--image0--]]//--&gt; 롯데는 최근...</td>\n",
              "      <td>롯데,특집</td>\n",
              "      <td>위기속 상생 경영                            롯데는 최근 ...</td>\n",
              "    </tr>\n",
              "    <tr>\n",
              "      <th>296688</th>\n",
              "      <td>4539641</td>\n",
              "      <td>20200629</td>\n",
              "      <td>150556.0</td>\n",
              "      <td>비즈니스</td>\n",
              "      <td>코로나19 사태의 가장 큰 피해자 중 하나는 자영업자다. 감염 우려로 매장을 방문하...</td>\n",
              "      <td>NaN</td>\n",
              "      <td>코로나   사태의 가장 큰 피해자 중 하나는 자영업자다  감염 우려로 매장을 방문하...</td>\n",
              "    </tr>\n",
              "    <tr>\n",
              "      <th>297248</th>\n",
              "      <td>4540562</td>\n",
              "      <td>20200630</td>\n",
              "      <td>111913.0</td>\n",
              "      <td>유통·섬유·음식료</td>\n",
              "      <td>&lt;!--[[--image0--]]//--&gt; 홈플러스는 자사 창고형 스페셜 매장의 ...</td>\n",
              "      <td>홈플러스 더 클럽,창고형 스페셜 매장,홈플러스,모바일</td>\n",
              "      <td>홈플러스는 자사 창고형 스페셜 매장의 ...</td>\n",
              "    </tr>\n",
              "    <tr>\n",
              "      <th>297510</th>\n",
              "      <td>4540997</td>\n",
              "      <td>20200630</td>\n",
              "      <td>163212.0</td>\n",
              "      <td>중견/중소기업</td>\n",
              "      <td>&lt;!--[[--image0--]]//--&gt; 스마트 팩토리 전문기업 진코퍼레이션(대...</td>\n",
              "      <td>진코퍼레이션,인공지능 스마트팜,테스트베드</td>\n",
              "      <td>스마트 팩토리 전문기업 진코퍼레이션 대...</td>\n",
              "    </tr>\n",
              "  </tbody>\n",
              "</table>\n",
              "<p>547 rows × 7 columns</p>\n",
              "</div>"
            ],
            "text/plain": [
              "             no  ...                                                정규화\n",
              "1348    3956911  ...                           지난해  블랙이오  행사를 흥행시켰던 ...\n",
              "1480    3957189  ...   대부분의 질문에 대한 답이  회사가 추구하는 가치 에 대한 설명으로 이어졌다  인...\n",
              "1639    3957470  ...  온라인 쇼핑 공세에 맞선 이마트가  신선식품 특가  카드를 꺼내들었다  온라인 쇼핑...\n",
              "1915    3958078  ...   숫자로 보는 세상                                 억  ...\n",
              "2025    3958307  ...      년 배송시장의 핵심 트렌드는 더 빠르고 간편한 배송 서비스가 될 것으로 보인...\n",
              "...         ...  ...                                                ...\n",
              "296000  4538517  ...                           지난   일 시작한  대한민국 동행세일...\n",
              "296267  4539020  ...    위기속 상생 경영                            롯데는 최근 ...\n",
              "296688  4539641  ...  코로나   사태의 가장 큰 피해자 중 하나는 자영업자다  감염 우려로 매장을 방문하...\n",
              "297248  4540562  ...                           홈플러스는 자사 창고형 스페셜 매장의 ...\n",
              "297510  4540997  ...                           스마트 팩토리 전문기업 진코퍼레이션 대...\n",
              "\n",
              "[547 rows x 7 columns]"
            ]
          },
          "metadata": {
            "tags": []
          },
          "execution_count": 21
        }
      ]
    },
    {
      "cell_type": "code",
      "metadata": {
        "id": "Q4Mg3xe2U0LO"
      },
      "source": [
        "useless_title = ['가요','건강','골프','국제사건/사고','국제사회','국회','남북관계','노동/노사','당좌거래 정지','라이프','미국/중남미','바둑','방송/TV','법원·검찰·경찰','보안/해킹','부음','사고/알림','소비생활','스페셜 리포트','신문사-포토','신설법인','여행','연예','영화','외환·환율','요약뉴스','인사','전시','증시지표','출판/도서','카툰','특허','패션','포토','핫이슈']"
      ],
      "execution_count": 22,
      "outputs": []
    },
    {
      "cell_type": "code",
      "metadata": {
        "id": "s5TZ3UUD1ta3",
        "outputId": "3770c0c8-08a7-4fbf-f29c-75d5776f7add",
        "colab": {
          "base_uri": "https://localhost:8080/",
          "height": 570
        }
      },
      "source": [
        "p = word_include[~word_include['title1'].isin(useless_title)]\n",
        "p"
      ],
      "execution_count": 23,
      "outputs": [
        {
          "output_type": "execute_result",
          "data": {
            "text/html": [
              "<div>\n",
              "<style scoped>\n",
              "    .dataframe tbody tr th:only-of-type {\n",
              "        vertical-align: middle;\n",
              "    }\n",
              "\n",
              "    .dataframe tbody tr th {\n",
              "        vertical-align: top;\n",
              "    }\n",
              "\n",
              "    .dataframe thead th {\n",
              "        text-align: right;\n",
              "    }\n",
              "</style>\n",
              "<table border=\"1\" class=\"dataframe\">\n",
              "  <thead>\n",
              "    <tr style=\"text-align: right;\">\n",
              "      <th></th>\n",
              "      <th>no</th>\n",
              "      <th>pubdate</th>\n",
              "      <th>pubtime</th>\n",
              "      <th>title1</th>\n",
              "      <th>body</th>\n",
              "      <th>keywords</th>\n",
              "      <th>정규화</th>\n",
              "    </tr>\n",
              "  </thead>\n",
              "  <tbody>\n",
              "    <tr>\n",
              "      <th>1348</th>\n",
              "      <td>3956911</td>\n",
              "      <td>20190103</td>\n",
              "      <td>104033.0</td>\n",
              "      <td>유통·섬유·음식료</td>\n",
              "      <td>&lt;!--[[--image0--]]//--&gt; 지난해 '블랙이오' 행사를 흥행시켰던 ...</td>\n",
              "      <td>이마트,신세계,전복이 990원,국민 가격 프로젝트,신세계만의 스마트한 초저가모델</td>\n",
              "      <td>지난해  블랙이오  행사를 흥행시켰던 ...</td>\n",
              "    </tr>\n",
              "    <tr>\n",
              "      <th>1480</th>\n",
              "      <td>3957189</td>\n",
              "      <td>20190103</td>\n",
              "      <td>143430.0</td>\n",
              "      <td>People</td>\n",
              "      <td>대부분의 질문에 대한 답이 ‘회사가 추구하는 가치’에 대한 설명으로 이어졌다. 인...</td>\n",
              "      <td>NaN</td>\n",
              "      <td>대부분의 질문에 대한 답이  회사가 추구하는 가치 에 대한 설명으로 이어졌다  인...</td>\n",
              "    </tr>\n",
              "    <tr>\n",
              "      <th>1639</th>\n",
              "      <td>3957470</td>\n",
              "      <td>20190104</td>\n",
              "      <td>0.0</td>\n",
              "      <td>유통·섬유·음식료</td>\n",
              "      <td>온라인 쇼핑 공세에 맞선 이마트가 '신선식품 특가' 카드를 꺼내들었다. 온라인 쇼핑...</td>\n",
              "      <td>이마트,가격</td>\n",
              "      <td>온라인 쇼핑 공세에 맞선 이마트가  신선식품 특가  카드를 꺼내들었다  온라인 쇼핑...</td>\n",
              "    </tr>\n",
              "    <tr>\n",
              "      <th>1915</th>\n",
              "      <td>3958078</td>\n",
              "      <td>20190104</td>\n",
              "      <td>93053.0</td>\n",
              "      <td>NaN</td>\n",
              "      <td>[숫자로 보는 세상] \\n &lt;!--[[--image0--]]//--&gt; ◆4036억9...</td>\n",
              "      <td>NaN</td>\n",
              "      <td>숫자로 보는 세상                                 억  ...</td>\n",
              "    </tr>\n",
              "    <tr>\n",
              "      <th>2025</th>\n",
              "      <td>3958307</td>\n",
              "      <td>20190104</td>\n",
              "      <td>101910.0</td>\n",
              "      <td>유통·섬유·음식료</td>\n",
              "      <td>2019년 배송시장의 핵심 트렌드는 더 빠르고 간편한 배송 서비스가 될 것으로 보인...</td>\n",
              "      <td>NaN</td>\n",
              "      <td>년 배송시장의 핵심 트렌드는 더 빠르고 간편한 배송 서비스가 될 것으로 보인...</td>\n",
              "    </tr>\n",
              "    <tr>\n",
              "      <th>...</th>\n",
              "      <td>...</td>\n",
              "      <td>...</td>\n",
              "      <td>...</td>\n",
              "      <td>...</td>\n",
              "      <td>...</td>\n",
              "      <td>...</td>\n",
              "      <td>...</td>\n",
              "    </tr>\n",
              "    <tr>\n",
              "      <th>296000</th>\n",
              "      <td>4538517</td>\n",
              "      <td>20200629</td>\n",
              "      <td>0.0</td>\n",
              "      <td>백화점/마트</td>\n",
              "      <td>&lt;!--[[--image0--]]//--&gt; 지난 26일 시작한 '대한민국 동행세일...</td>\n",
              "      <td>백화점,마트,동행세일</td>\n",
              "      <td>지난   일 시작한  대한민국 동행세일...</td>\n",
              "    </tr>\n",
              "    <tr>\n",
              "      <th>296267</th>\n",
              "      <td>4539020</td>\n",
              "      <td>20200630</td>\n",
              "      <td>0.0</td>\n",
              "      <td>테마기획</td>\n",
              "      <td>◆ 위기속 상생 경영 ◆\\n &lt;!--[[--image0--]]//--&gt; 롯데는 최근...</td>\n",
              "      <td>롯데,특집</td>\n",
              "      <td>위기속 상생 경영                            롯데는 최근 ...</td>\n",
              "    </tr>\n",
              "    <tr>\n",
              "      <th>296688</th>\n",
              "      <td>4539641</td>\n",
              "      <td>20200629</td>\n",
              "      <td>150556.0</td>\n",
              "      <td>비즈니스</td>\n",
              "      <td>코로나19 사태의 가장 큰 피해자 중 하나는 자영업자다. 감염 우려로 매장을 방문하...</td>\n",
              "      <td>NaN</td>\n",
              "      <td>코로나   사태의 가장 큰 피해자 중 하나는 자영업자다  감염 우려로 매장을 방문하...</td>\n",
              "    </tr>\n",
              "    <tr>\n",
              "      <th>297248</th>\n",
              "      <td>4540562</td>\n",
              "      <td>20200630</td>\n",
              "      <td>111913.0</td>\n",
              "      <td>유통·섬유·음식료</td>\n",
              "      <td>&lt;!--[[--image0--]]//--&gt; 홈플러스는 자사 창고형 스페셜 매장의 ...</td>\n",
              "      <td>홈플러스 더 클럽,창고형 스페셜 매장,홈플러스,모바일</td>\n",
              "      <td>홈플러스는 자사 창고형 스페셜 매장의 ...</td>\n",
              "    </tr>\n",
              "    <tr>\n",
              "      <th>297510</th>\n",
              "      <td>4540997</td>\n",
              "      <td>20200630</td>\n",
              "      <td>163212.0</td>\n",
              "      <td>중견/중소기업</td>\n",
              "      <td>&lt;!--[[--image0--]]//--&gt; 스마트 팩토리 전문기업 진코퍼레이션(대...</td>\n",
              "      <td>진코퍼레이션,인공지능 스마트팜,테스트베드</td>\n",
              "      <td>스마트 팩토리 전문기업 진코퍼레이션 대...</td>\n",
              "    </tr>\n",
              "  </tbody>\n",
              "</table>\n",
              "<p>542 rows × 7 columns</p>\n",
              "</div>"
            ],
            "text/plain": [
              "             no  ...                                                정규화\n",
              "1348    3956911  ...                           지난해  블랙이오  행사를 흥행시켰던 ...\n",
              "1480    3957189  ...   대부분의 질문에 대한 답이  회사가 추구하는 가치 에 대한 설명으로 이어졌다  인...\n",
              "1639    3957470  ...  온라인 쇼핑 공세에 맞선 이마트가  신선식품 특가  카드를 꺼내들었다  온라인 쇼핑...\n",
              "1915    3958078  ...   숫자로 보는 세상                                 억  ...\n",
              "2025    3958307  ...      년 배송시장의 핵심 트렌드는 더 빠르고 간편한 배송 서비스가 될 것으로 보인...\n",
              "...         ...  ...                                                ...\n",
              "296000  4538517  ...                           지난   일 시작한  대한민국 동행세일...\n",
              "296267  4539020  ...    위기속 상생 경영                            롯데는 최근 ...\n",
              "296688  4539641  ...  코로나   사태의 가장 큰 피해자 중 하나는 자영업자다  감염 우려로 매장을 방문하...\n",
              "297248  4540562  ...                           홈플러스는 자사 창고형 스페셜 매장의 ...\n",
              "297510  4540997  ...                           스마트 팩토리 전문기업 진코퍼레이션 대...\n",
              "\n",
              "[542 rows x 7 columns]"
            ]
          },
          "metadata": {
            "tags": []
          },
          "execution_count": 23
        }
      ]
    },
    {
      "cell_type": "code",
      "metadata": {
        "id": "8JrB2EJ54_Ti"
      },
      "source": [
        ""
      ],
      "execution_count": 23,
      "outputs": []
    },
    {
      "cell_type": "code",
      "metadata": {
        "id": "-b9YjJrs3HT2"
      },
      "source": [
        "#해당 단어가 포함된 기사 추출하는 함수\n",
        "def select_news(신선식품):\n",
        "  word_include = new_mk[new_mk['정규화'].str.contains(신선식품)].reset_index()\n",
        "  useless_title = ['가요','건강','골프','국제사건/사고','국제사회','국회','남북관계','노동/노사','당좌거래 정지','라이프','미국/중남미','바둑','방송/TV','법원·검찰·경찰','보안/해킹','부음','사고/알림','소비생활','스페셜 리포트','신문사-포토','신설법인','여행','연예','영화','외환·환율','요약뉴스','인사','전시','증시지표','출판/도서','카툰','특허','패션','포토','핫이슈']\n",
        "  p = word_include[~word_include['title1'].isin(useless_title)].reset_index()\n",
        "  return p"
      ],
      "execution_count": 24,
      "outputs": []
    },
    {
      "cell_type": "code",
      "metadata": {
        "id": "9JjWyvzpnw-Z",
        "outputId": "603b36d6-30b9-4ac1-8a9f-7fe5657460fc",
        "colab": {
          "base_uri": "https://localhost:8080/",
          "height": 228
        }
      },
      "source": [
        "select_news('신선식품')['정규화']"
      ],
      "execution_count": 25,
      "outputs": [
        {
          "output_type": "execute_result",
          "data": {
            "text/plain": [
              "0                               지난해  블랙이오  행사를 흥행시켰던 ...\n",
              "1       대부분의 질문에 대한 답이  회사가 추구하는 가치 에 대한 설명으로 이어졌다  인...\n",
              "2      온라인 쇼핑 공세에 맞선 이마트가  신선식품 특가  카드를 꺼내들었다  온라인 쇼핑...\n",
              "3       숫자로 보는 세상                                 억  ...\n",
              "4          년 배송시장의 핵심 트렌드는 더 빠르고 간편한 배송 서비스가 될 것으로 보인...\n",
              "                             ...                        \n",
              "537                             지난   일 시작한  대한민국 동행세일...\n",
              "538      위기속 상생 경영                            롯데는 최근 ...\n",
              "539    코로나   사태의 가장 큰 피해자 중 하나는 자영업자다  감염 우려로 매장을 방문하...\n",
              "540                             홈플러스는 자사 창고형 스페셜 매장의 ...\n",
              "541                             스마트 팩토리 전문기업 진코퍼레이션 대...\n",
              "Name: 정규화, Length: 542, dtype: object"
            ]
          },
          "metadata": {
            "tags": []
          },
          "execution_count": 25
        }
      ]
    },
    {
      "cell_type": "code",
      "metadata": {
        "id": "_SMGOZqy5AZa"
      },
      "source": [
        "#토큰화\n",
        "tokenize_news = []\n",
        "\n",
        "for i in range(len(select_news('신선식품'))):\n",
        "  tokenize_news.append(okt.morphs(select_news('신선식품')['정규화'][i]))\n",
        "\n",
        "# select_news('신선식품')['토큰화'] = tokenize_news"
      ],
      "execution_count": 27,
      "outputs": []
    },
    {
      "cell_type": "code",
      "metadata": {
        "id": "XtqbkIQgapy-"
      },
      "source": [
        "#리스트 안에 리스트를 하나로 합쳐주는 과정, from_iterable 메소드\n",
        "import itertools\n",
        "a = list(itertools.chain.from_iterable(tokenize_news))"
      ],
      "execution_count": null,
      "outputs": []
    },
    {
      "cell_type": "code",
      "metadata": {
        "id": "w1oBvuhqwRv7"
      },
      "source": [
        "from sklearn.feature_extraction.text import CountVectorizer\n",
        "\n",
        "vect = CountVectorizer(stop_words=stopword_list)\n",
        "print(vect.fit_transform(a).toarray())\n",
        "print(vect.vocabulary_)"
      ],
      "execution_count": null,
      "outputs": []
    },
    {
      "cell_type": "code",
      "metadata": {
        "id": "hmBTW62lwSJa"
      },
      "source": [
        ""
      ],
      "execution_count": null,
      "outputs": []
    },
    {
      "cell_type": "code",
      "metadata": {
        "id": "Yl6kitxPwRaq"
      },
      "source": [
        ""
      ],
      "execution_count": null,
      "outputs": []
    },
    {
      "cell_type": "code",
      "metadata": {
        "id": "rQeTSGfawRHO"
      },
      "source": [
        ""
      ],
      "execution_count": null,
      "outputs": []
    },
    {
      "cell_type": "code",
      "metadata": {
        "id": "4YDzd7Y7aqDL"
      },
      "source": [
        ""
      ],
      "execution_count": null,
      "outputs": []
    },
    {
      "cell_type": "code",
      "metadata": {
        "id": "VO15BjR1aplc"
      },
      "source": [
        ""
      ],
      "execution_count": null,
      "outputs": []
    },
    {
      "cell_type": "markdown",
      "metadata": {
        "id": "S_6ZQ0kj3H21"
      },
      "source": [
        "### 이후"
      ]
    },
    {
      "cell_type": "code",
      "metadata": {
        "id": "y_RFaK5K3HbQ"
      },
      "source": [
        ""
      ],
      "execution_count": null,
      "outputs": []
    },
    {
      "cell_type": "code",
      "metadata": {
        "id": "mslTnRet3HKV"
      },
      "source": [
        ""
      ],
      "execution_count": null,
      "outputs": []
    },
    {
      "cell_type": "code",
      "metadata": {
        "id": "pVjDKco6smR6"
      },
      "source": [
        "stopPos = ['Josa','Conjunction','Foreign','Adverb','Suffix']\n",
        "\n",
        "stopWord = stopword\n",
        "\n",
        "post =[]\n",
        "word=[]\n",
        "\n",
        "for i in range(len(Business_strategy['postagging'])):\n",
        "  post.append(Business_strategy['postagging'][i]) #\n",
        "  for tag, p in enumerate(post):\n",
        "    if tag[p][1] not in stopPos:\n",
        "      if tag[p][0] not in stopWord:\n",
        "        word.append(tag[p][0])\n",
        "\n",
        "\n",
        "#post 안에 postagging 별로 list화 되어있음\n",
        "word"
      ],
      "execution_count": null,
      "outputs": []
    },
    {
      "cell_type": "code",
      "metadata": {
        "id": "pJ8REx0Dqjyr"
      },
      "source": [
        "for i in range(Business_strategy['postagging']):\n",
        "  if Business_strategy['postagging'][i] in new_stopword:\n",
        "    "
      ],
      "execution_count": null,
      "outputs": []
    },
    {
      "cell_type": "markdown",
      "metadata": {
        "id": "K4uoIcusr-gw"
      },
      "source": [
        "### 필요베이스 설치"
      ]
    },
    {
      "cell_type": "code",
      "metadata": {
        "id": "5uk6x4SCX-wB"
      },
      "source": [
        "import konlpy\n",
        "from konlpy.tag import Kkma\n",
        "kkma = Kkma()"
      ],
      "execution_count": null,
      "outputs": []
    },
    {
      "cell_type": "code",
      "metadata": {
        "id": "U5XSiLBvrAo9"
      },
      "source": [
        "#!git clone https://github.com/SOMJANG/Mecab-ko-for-Google-Colab.git"
      ],
      "execution_count": null,
      "outputs": []
    },
    {
      "cell_type": "code",
      "metadata": {
        "id": "x0Wb0RIdsC0a"
      },
      "source": [
        "#%cd Mecab-ko-for-Google-Colab/"
      ],
      "execution_count": null,
      "outputs": []
    },
    {
      "cell_type": "code",
      "metadata": {
        "id": "B9gSt7UQsFLC"
      },
      "source": [
        "#!bash install_mecab-ko_on_colab190912.sh"
      ],
      "execution_count": null,
      "outputs": []
    },
    {
      "cell_type": "code",
      "metadata": {
        "id": "q5Otvo0N9JKW"
      },
      "source": [
        "new_mk.head(10)"
      ],
      "execution_count": null,
      "outputs": []
    },
    {
      "cell_type": "markdown",
      "metadata": {
        "id": "M6_UGYbpsqra"
      },
      "source": [
        "#### 토큰화"
      ]
    },
    {
      "cell_type": "code",
      "metadata": {
        "id": "uisuAfsg_idV"
      },
      "source": [
        "#okt가 kkma보다 상대적으로 명사를 정확하게 분류하기 때문에, okt 토큰을 사용하여 진행한다.\n",
        "okt_tokens = okt.morphs(new_mk['정규화'][50])\n",
        "okt_tokens"
      ],
      "execution_count": null,
      "outputs": []
    },
    {
      "cell_type": "markdown",
      "metadata": {
        "id": "CQeCr4w2Hcu2"
      },
      "source": [
        "### 전체 다 하면 오래걸리니까, 필요하다고 생각되는 부분의 카테고리를 나누고, 그것에 대한 토큰화를 진행 후, 필요시 merge시키는 방법으로 진행해보자"
      ]
    },
    {
      "cell_type": "code",
      "metadata": {
        "id": "Vp5gWLj9EkuZ"
      },
      "source": [
        ""
      ],
      "execution_count": null,
      "outputs": []
    },
    {
      "cell_type": "code",
      "metadata": {
        "id": "qd2-QGvDc0PL"
      },
      "source": [
        "# news_sub2 = []\n",
        "\n",
        "# for i in range(len(new_mk['정규화'])):\n",
        "#   news_sub.append(okt.morphs(new_mk['정규화'][i]))\n",
        "\n",
        "# new_mk['토큰화'] = news_sub2"
      ],
      "execution_count": null,
      "outputs": []
    },
    {
      "cell_type": "code",
      "metadata": {
        "id": "HlVbLYOyldJ5"
      },
      "source": [
        "# new_mk['정규화'].head()"
      ],
      "execution_count": null,
      "outputs": []
    },
    {
      "cell_type": "code",
      "metadata": {
        "id": "RjPCtR-fO4yz"
      },
      "source": [
        "# new_mk['토큰화'] = []\n",
        "\n",
        "# for i in range(0,5):\n",
        "#   okt_tokens += okt.morphs(new_mk['정규화'][i])\n",
        "#   if okt.morphs(new_mk['정규화'][i]) in okt_tokens:\n",
        "#     print('number',i,'is done')\n",
        "# okt_tokens"
      ],
      "execution_count": null,
      "outputs": []
    },
    {
      "cell_type": "code",
      "metadata": {
        "id": "qrqs8espBbvm"
      },
      "source": [
        "# okt_tokens = []\n",
        "\n",
        "# for i in range(len(new_mk['정규화'])):\n",
        "#   okt_tokens += okt.morphs(new_mk['정규화'][i])\n",
        "#   if okt.morphs(new_mk['정규화'][i]) in okt_tokens:\n",
        "#     print('number',i,'is done')\n",
        "# len(okt_tokens)"
      ],
      "execution_count": null,
      "outputs": []
    },
    {
      "cell_type": "markdown",
      "metadata": {
        "id": "pc6V6wRSBKiY"
      },
      "source": [
        "#### 품사부착"
      ]
    },
    {
      "cell_type": "code",
      "metadata": {
        "id": "F0QlbYEKvXy1"
      },
      "source": [
        "# #품사부착\n",
        "# oktTag = []\n",
        "# for token in okt_tokens:\n",
        "#   oktTag += okt.pos(token)\n",
        "\n",
        "# oktTag"
      ],
      "execution_count": null,
      "outputs": []
    },
    {
      "cell_type": "markdown",
      "metadata": {
        "id": "cj_D8fq7BGkK"
      },
      "source": [
        "#### pos tagging"
      ]
    },
    {
      "cell_type": "code",
      "metadata": {
        "id": "TjMkM7Tgvsxo"
      },
      "source": [
        "# #pos tagging\n",
        "\n",
        "# from collections import Counter as counter\n",
        "\n",
        "# counter(kkmaTag).most_common()"
      ],
      "execution_count": null,
      "outputs": []
    },
    {
      "cell_type": "code",
      "metadata": {
        "id": "3eJJvi00sH3j"
      },
      "source": [
        "# kkma_tokens = []\n",
        "\n",
        "# for i in range(len(new_mk)):\n",
        "#   kkma.morphs(new_mk['정규화'][i])"
      ],
      "execution_count": null,
      "outputs": []
    },
    {
      "cell_type": "code",
      "metadata": {
        "id": "BCBkn-7Itkss"
      },
      "source": [
        ""
      ],
      "execution_count": null,
      "outputs": []
    }
  ]
}