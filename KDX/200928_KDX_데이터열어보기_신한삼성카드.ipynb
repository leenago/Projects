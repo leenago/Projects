{
  "nbformat": 4,
  "nbformat_minor": 0,
  "metadata": {
    "colab": {
      "name": "200928_KDX 데이터열어보기_신한카드, 삼성카드.ipynb",
      "provenance": [],
      "collapsed_sections": [],
      "authorship_tag": "ABX9TyM9yVLg8+9ncHaRw/K587B0",
      "include_colab_link": true
    },
    "kernelspec": {
      "name": "python3",
      "display_name": "Python 3"
    }
  },
  "cells": [
    {
      "cell_type": "markdown",
      "metadata": {
        "id": "view-in-github",
        "colab_type": "text"
      },
      "source": [
        "<a href=\"https://colab.research.google.com/github/leenago/Projects/blob/master/KDX/200928_KDX_%EB%8D%B0%EC%9D%B4%ED%84%B0%EC%97%B4%EC%96%B4%EB%B3%B4%EA%B8%B0_%EC%8B%A0%ED%95%9C%EC%82%BC%EC%84%B1%EC%B9%B4%EB%93%9C.ipynb\" target=\"_parent\"><img src=\"https://colab.research.google.com/assets/colab-badge.svg\" alt=\"Open In Colab\"/></a>"
      ]
    },
    {
      "cell_type": "markdown",
      "metadata": {
        "id": "EQuDIrscAZRZ"
      },
      "source": [
        "#1.준비하기"
      ]
    },
    {
      "cell_type": "markdown",
      "metadata": {
        "id": "UTb2jtTfAcJu"
      },
      "source": [
        "## 1) 한글처리 패키지 설치"
      ]
    },
    {
      "cell_type": "code",
      "metadata": {
        "id": "Q8TVXqcMpL8L",
        "outputId": "8b7d0f49-bdc4-495c-f0f6-bf6b45e067a6",
        "colab": {
          "base_uri": "https://localhost:8080/",
          "height": 210
        }
      },
      "source": [
        "%config InlineBackend.figure_format = 'retina'\n",
        "!apt -qq -y install fonts-nanum"
      ],
      "execution_count": 1,
      "outputs": [
        {
          "output_type": "stream",
          "text": [
            "The following NEW packages will be installed:\n",
            "  fonts-nanum\n",
            "0 upgraded, 1 newly installed, 0 to remove and 11 not upgraded.\n",
            "Need to get 9,604 kB of archives.\n",
            "After this operation, 29.5 MB of additional disk space will be used.\n",
            "Selecting previously unselected package fonts-nanum.\n",
            "(Reading database ... 144676 files and directories currently installed.)\n",
            "Preparing to unpack .../fonts-nanum_20170925-1_all.deb ...\n",
            "Unpacking fonts-nanum (20170925-1) ...\n",
            "Setting up fonts-nanum (20170925-1) ...\n",
            "Processing triggers for fontconfig (2.12.6-0ubuntu2) ...\n"
          ],
          "name": "stdout"
        }
      ]
    },
    {
      "cell_type": "code",
      "metadata": {
        "id": "UywiTgjfpNgt",
        "outputId": "a5a25fe4-e7e8-4c97-95d1-136d3be14314",
        "colab": {
          "base_uri": "https://localhost:8080/",
          "height": 52
        }
      },
      "source": [
        "import seaborn as sns\n",
        "import pandas as pd\n",
        "import matplotlib.pyplot as plt\n",
        "import matplotlib as mpl\n",
        "import matplotlib.font_manager as fm\n",
        "\n",
        "fontpath = '/usr/share/fonts/truetype/nanum/NanumBarunGothic.ttf'\n",
        "font = fm.FontProperties(fname=fontpath, size=9)\n",
        "plt.rc('font', family='NanumBarunGothic') \n",
        "mpl.font_manager._rebuild()\n",
        "mpl.pyplot.rc('font', family='NanumGothic')\n",
        "fm._rebuild()"
      ],
      "execution_count": 1,
      "outputs": [
        {
          "output_type": "stream",
          "text": [
            "/usr/local/lib/python3.6/dist-packages/statsmodels/tools/_testing.py:19: FutureWarning: pandas.util.testing is deprecated. Use the functions in the public API at pandas.testing instead.\n",
            "  import pandas.util.testing as tm\n"
          ],
          "name": "stderr"
        }
      ]
    },
    {
      "cell_type": "markdown",
      "metadata": {
        "id": "ToNx2VeZAf98"
      },
      "source": [
        "## 2) Google Drive와 연동"
      ]
    },
    {
      "cell_type": "code",
      "metadata": {
        "id": "7twfdXy_ZhIt",
        "outputId": "5361dc0c-be9a-4c46-ad41-888e2ff8fa54",
        "colab": {
          "base_uri": "https://localhost:8080/",
          "height": 70
        }
      },
      "source": [
        "from google.colab import drive # 패키지 불러오기 \n",
        "from os.path import join  \n",
        "\n",
        "ROOT = \"/content/drive\"     # 드라이브 기본 경로\n",
        "print(ROOT)                 # print content of ROOT (Optional)\n",
        "drive.mount(ROOT)           # 드라이브 기본 경로 Mount\n",
        "\n",
        "MY_GOOGLE_DRIVE_PATH = 'My Drive/bigdata/아경/빅데이터 대회/KDX데이터' # 프로젝트 경로\n",
        "PROJECT_PATH = join(ROOT, MY_GOOGLE_DRIVE_PATH) # 프로젝트 경로\n",
        "print(PROJECT_PATH)"
      ],
      "execution_count": 2,
      "outputs": [
        {
          "output_type": "stream",
          "text": [
            "/content/drive\n",
            "Mounted at /content/drive\n",
            "/content/drive/My Drive/bigdata/아경/빅데이터 대회/KDX데이터\n"
          ],
          "name": "stdout"
        }
      ]
    },
    {
      "cell_type": "code",
      "metadata": {
        "id": "pgcUO8RlZohO",
        "outputId": "cfe80fd7-bd01-4473-dcef-944a316ff538",
        "colab": {
          "base_uri": "https://localhost:8080/",
          "height": 34
        }
      },
      "source": [
        "%cd /content/drive/My Drive/bigdata/아경/빅데이터 대회/KDX데이터"
      ],
      "execution_count": 3,
      "outputs": [
        {
          "output_type": "stream",
          "text": [
            "/content/drive/My Drive/bigdata/아경/빅데이터 대회/KDX데이터\n"
          ],
          "name": "stdout"
        }
      ]
    },
    {
      "cell_type": "markdown",
      "metadata": {
        "id": "Xe8ehQPfcj9r"
      },
      "source": [
        "#2.데이터 열어보기"
      ]
    },
    {
      "cell_type": "markdown",
      "metadata": {
        "id": "FXTXZM7LApIS"
      },
      "source": [
        "## 1) 신한카드 데이터"
      ]
    },
    {
      "cell_type": "code",
      "metadata": {
        "id": "kgwTlX8lbqCe",
        "outputId": "6c492874-0a10-42ef-dc2c-b6a40b8d4794",
        "colab": {
          "base_uri": "https://localhost:8080/",
          "height": 195
        }
      },
      "source": [
        "shinhan_card = pd.read_excel('Shinhancard.xlsx') ; shinhan_card.head()"
      ],
      "execution_count": 73,
      "outputs": [
        {
          "output_type": "execute_result",
          "data": {
            "text/html": [
              "<div>\n",
              "<style scoped>\n",
              "    .dataframe tbody tr th:only-of-type {\n",
              "        vertical-align: middle;\n",
              "    }\n",
              "\n",
              "    .dataframe tbody tr th {\n",
              "        vertical-align: top;\n",
              "    }\n",
              "\n",
              "    .dataframe thead th {\n",
              "        text-align: right;\n",
              "    }\n",
              "</style>\n",
              "<table border=\"1\" class=\"dataframe\">\n",
              "  <thead>\n",
              "    <tr style=\"text-align: right;\">\n",
              "      <th></th>\n",
              "      <th>일별</th>\n",
              "      <th>성별</th>\n",
              "      <th>연령대별</th>\n",
              "      <th>업종</th>\n",
              "      <th>카드이용건수(천건)</th>\n",
              "      <th>Unnamed: 5</th>\n",
              "      <th>Unnamed: 6</th>\n",
              "      <th>Unnamed: 7</th>\n",
              "    </tr>\n",
              "  </thead>\n",
              "  <tbody>\n",
              "    <tr>\n",
              "      <th>0</th>\n",
              "      <td>20190101</td>\n",
              "      <td>F</td>\n",
              "      <td>20대</td>\n",
              "      <td>M001_한식</td>\n",
              "      <td>298.9</td>\n",
              "      <td>NaN</td>\n",
              "      <td>NaN</td>\n",
              "      <td>10.0</td>\n",
              "    </tr>\n",
              "    <tr>\n",
              "      <th>1</th>\n",
              "      <td>20190101</td>\n",
              "      <td>F</td>\n",
              "      <td>20대</td>\n",
              "      <td>M002_일식/중식/양식</td>\n",
              "      <td>88.3</td>\n",
              "      <td>NaN</td>\n",
              "      <td>NaN</td>\n",
              "      <td>NaN</td>\n",
              "    </tr>\n",
              "    <tr>\n",
              "      <th>2</th>\n",
              "      <td>20190101</td>\n",
              "      <td>F</td>\n",
              "      <td>20대</td>\n",
              "      <td>M003_제과/커피/패스트푸드</td>\n",
              "      <td>290.6</td>\n",
              "      <td>NaN</td>\n",
              "      <td>NaN</td>\n",
              "      <td>NaN</td>\n",
              "    </tr>\n",
              "    <tr>\n",
              "      <th>3</th>\n",
              "      <td>20190101</td>\n",
              "      <td>F</td>\n",
              "      <td>20대</td>\n",
              "      <td>M004_기타요식</td>\n",
              "      <td>446.3</td>\n",
              "      <td>NaN</td>\n",
              "      <td>NaN</td>\n",
              "      <td>NaN</td>\n",
              "    </tr>\n",
              "    <tr>\n",
              "      <th>4</th>\n",
              "      <td>20190101</td>\n",
              "      <td>F</td>\n",
              "      <td>20대</td>\n",
              "      <td>M005_유흥</td>\n",
              "      <td>24.2</td>\n",
              "      <td>NaN</td>\n",
              "      <td>NaN</td>\n",
              "      <td>NaN</td>\n",
              "    </tr>\n",
              "  </tbody>\n",
              "</table>\n",
              "</div>"
            ],
            "text/plain": [
              "         일별 성별 연령대별  ... Unnamed: 5  Unnamed: 6  Unnamed: 7\n",
              "0  20190101  F  20대  ...        NaN         NaN        10.0\n",
              "1  20190101  F  20대  ...        NaN         NaN         NaN\n",
              "2  20190101  F  20대  ...        NaN         NaN         NaN\n",
              "3  20190101  F  20대  ...        NaN         NaN         NaN\n",
              "4  20190101  F  20대  ...        NaN         NaN         NaN\n",
              "\n",
              "[5 rows x 8 columns]"
            ]
          },
          "metadata": {
            "tags": []
          },
          "execution_count": 73
        }
      ]
    },
    {
      "cell_type": "code",
      "metadata": {
        "id": "DPAb7Y8FPb1U",
        "outputId": "778c9aa5-366f-489f-bf66-95cb5d4e240d",
        "colab": {
          "base_uri": "https://localhost:8080/",
          "height": 402
        }
      },
      "source": [
        "#불필요한 column들 지우기\n",
        "shinhan_card.drop(['Unnamed: 5','Unnamed: 6','Unnamed: 7'], axis=1, inplace=True)\n",
        "shinhan_card"
      ],
      "execution_count": 74,
      "outputs": [
        {
          "output_type": "execute_result",
          "data": {
            "text/html": [
              "<div>\n",
              "<style scoped>\n",
              "    .dataframe tbody tr th:only-of-type {\n",
              "        vertical-align: middle;\n",
              "    }\n",
              "\n",
              "    .dataframe tbody tr th {\n",
              "        vertical-align: top;\n",
              "    }\n",
              "\n",
              "    .dataframe thead th {\n",
              "        text-align: right;\n",
              "    }\n",
              "</style>\n",
              "<table border=\"1\" class=\"dataframe\">\n",
              "  <thead>\n",
              "    <tr style=\"text-align: right;\">\n",
              "      <th></th>\n",
              "      <th>일별</th>\n",
              "      <th>성별</th>\n",
              "      <th>연령대별</th>\n",
              "      <th>업종</th>\n",
              "      <th>카드이용건수(천건)</th>\n",
              "    </tr>\n",
              "  </thead>\n",
              "  <tbody>\n",
              "    <tr>\n",
              "      <th>0</th>\n",
              "      <td>20190101</td>\n",
              "      <td>F</td>\n",
              "      <td>20대</td>\n",
              "      <td>M001_한식</td>\n",
              "      <td>298.9</td>\n",
              "    </tr>\n",
              "    <tr>\n",
              "      <th>1</th>\n",
              "      <td>20190101</td>\n",
              "      <td>F</td>\n",
              "      <td>20대</td>\n",
              "      <td>M002_일식/중식/양식</td>\n",
              "      <td>88.3</td>\n",
              "    </tr>\n",
              "    <tr>\n",
              "      <th>2</th>\n",
              "      <td>20190101</td>\n",
              "      <td>F</td>\n",
              "      <td>20대</td>\n",
              "      <td>M003_제과/커피/패스트푸드</td>\n",
              "      <td>290.6</td>\n",
              "    </tr>\n",
              "    <tr>\n",
              "      <th>3</th>\n",
              "      <td>20190101</td>\n",
              "      <td>F</td>\n",
              "      <td>20대</td>\n",
              "      <td>M004_기타요식</td>\n",
              "      <td>446.3</td>\n",
              "    </tr>\n",
              "    <tr>\n",
              "      <th>4</th>\n",
              "      <td>20190101</td>\n",
              "      <td>F</td>\n",
              "      <td>20대</td>\n",
              "      <td>M005_유흥</td>\n",
              "      <td>24.2</td>\n",
              "    </tr>\n",
              "    <tr>\n",
              "      <th>...</th>\n",
              "      <td>...</td>\n",
              "      <td>...</td>\n",
              "      <td>...</td>\n",
              "      <td>...</td>\n",
              "      <td>...</td>\n",
              "    </tr>\n",
              "    <tr>\n",
              "      <th>195594</th>\n",
              "      <td>20200630</td>\n",
              "      <td>M</td>\n",
              "      <td>70대</td>\n",
              "      <td>M026_기타의료</td>\n",
              "      <td>1.7</td>\n",
              "    </tr>\n",
              "    <tr>\n",
              "      <th>195595</th>\n",
              "      <td>20200630</td>\n",
              "      <td>M</td>\n",
              "      <td>70대</td>\n",
              "      <td>M027_가전/가구</td>\n",
              "      <td>3.9</td>\n",
              "    </tr>\n",
              "    <tr>\n",
              "      <th>195596</th>\n",
              "      <td>20200630</td>\n",
              "      <td>M</td>\n",
              "      <td>70대</td>\n",
              "      <td>M028_자동차판매</td>\n",
              "      <td>0.2</td>\n",
              "    </tr>\n",
              "    <tr>\n",
              "      <th>195597</th>\n",
              "      <td>20200630</td>\n",
              "      <td>M</td>\n",
              "      <td>70대</td>\n",
              "      <td>M029_자동차서비스/용품</td>\n",
              "      <td>8.3</td>\n",
              "    </tr>\n",
              "    <tr>\n",
              "      <th>195598</th>\n",
              "      <td>20200630</td>\n",
              "      <td>M</td>\n",
              "      <td>70대</td>\n",
              "      <td>M030_주유</td>\n",
              "      <td>94.5</td>\n",
              "    </tr>\n",
              "  </tbody>\n",
              "</table>\n",
              "<p>195599 rows × 5 columns</p>\n",
              "</div>"
            ],
            "text/plain": [
              "              일별 성별 연령대별                업종  카드이용건수(천건)\n",
              "0       20190101  F  20대           M001_한식       298.9\n",
              "1       20190101  F  20대     M002_일식/중식/양식        88.3\n",
              "2       20190101  F  20대  M003_제과/커피/패스트푸드       290.6\n",
              "3       20190101  F  20대         M004_기타요식       446.3\n",
              "4       20190101  F  20대           M005_유흥        24.2\n",
              "...          ... ..  ...               ...         ...\n",
              "195594  20200630  M  70대         M026_기타의료         1.7\n",
              "195595  20200630  M  70대        M027_가전/가구         3.9\n",
              "195596  20200630  M  70대        M028_자동차판매         0.2\n",
              "195597  20200630  M  70대    M029_자동차서비스/용품         8.3\n",
              "195598  20200630  M  70대           M030_주유        94.5\n",
              "\n",
              "[195599 rows x 5 columns]"
            ]
          },
          "metadata": {
            "tags": []
          },
          "execution_count": 74
        }
      ]
    },
    {
      "cell_type": "code",
      "metadata": {
        "id": "JLHMdV1ZM3Ae"
      },
      "source": [
        "sh = shinhan_card.copy()"
      ],
      "execution_count": 75,
      "outputs": []
    },
    {
      "cell_type": "code",
      "metadata": {
        "id": "OBfSNpVPc41u",
        "outputId": "3b9a0426-9a04-498d-e020-d80bf8b7280d",
        "colab": {
          "base_uri": "https://localhost:8080/",
          "height": 195
        }
      },
      "source": [
        "#column명을 삼성카드와 맞춰주기 \n",
        "sh.columns=['소비일자','성별','연령대','소비업종','소비건수']\n",
        "sh.head()"
      ],
      "execution_count": 76,
      "outputs": [
        {
          "output_type": "execute_result",
          "data": {
            "text/html": [
              "<div>\n",
              "<style scoped>\n",
              "    .dataframe tbody tr th:only-of-type {\n",
              "        vertical-align: middle;\n",
              "    }\n",
              "\n",
              "    .dataframe tbody tr th {\n",
              "        vertical-align: top;\n",
              "    }\n",
              "\n",
              "    .dataframe thead th {\n",
              "        text-align: right;\n",
              "    }\n",
              "</style>\n",
              "<table border=\"1\" class=\"dataframe\">\n",
              "  <thead>\n",
              "    <tr style=\"text-align: right;\">\n",
              "      <th></th>\n",
              "      <th>소비일자</th>\n",
              "      <th>성별</th>\n",
              "      <th>연령대</th>\n",
              "      <th>소비업종</th>\n",
              "      <th>소비건수</th>\n",
              "    </tr>\n",
              "  </thead>\n",
              "  <tbody>\n",
              "    <tr>\n",
              "      <th>0</th>\n",
              "      <td>20190101</td>\n",
              "      <td>F</td>\n",
              "      <td>20대</td>\n",
              "      <td>M001_한식</td>\n",
              "      <td>298.9</td>\n",
              "    </tr>\n",
              "    <tr>\n",
              "      <th>1</th>\n",
              "      <td>20190101</td>\n",
              "      <td>F</td>\n",
              "      <td>20대</td>\n",
              "      <td>M002_일식/중식/양식</td>\n",
              "      <td>88.3</td>\n",
              "    </tr>\n",
              "    <tr>\n",
              "      <th>2</th>\n",
              "      <td>20190101</td>\n",
              "      <td>F</td>\n",
              "      <td>20대</td>\n",
              "      <td>M003_제과/커피/패스트푸드</td>\n",
              "      <td>290.6</td>\n",
              "    </tr>\n",
              "    <tr>\n",
              "      <th>3</th>\n",
              "      <td>20190101</td>\n",
              "      <td>F</td>\n",
              "      <td>20대</td>\n",
              "      <td>M004_기타요식</td>\n",
              "      <td>446.3</td>\n",
              "    </tr>\n",
              "    <tr>\n",
              "      <th>4</th>\n",
              "      <td>20190101</td>\n",
              "      <td>F</td>\n",
              "      <td>20대</td>\n",
              "      <td>M005_유흥</td>\n",
              "      <td>24.2</td>\n",
              "    </tr>\n",
              "  </tbody>\n",
              "</table>\n",
              "</div>"
            ],
            "text/plain": [
              "       소비일자 성별  연령대              소비업종   소비건수\n",
              "0  20190101  F  20대           M001_한식  298.9\n",
              "1  20190101  F  20대     M002_일식/중식/양식   88.3\n",
              "2  20190101  F  20대  M003_제과/커피/패스트푸드  290.6\n",
              "3  20190101  F  20대         M004_기타요식  446.3\n",
              "4  20190101  F  20대           M005_유흥   24.2"
            ]
          },
          "metadata": {
            "tags": []
          },
          "execution_count": 76
        }
      ]
    },
    {
      "cell_type": "code",
      "metadata": {
        "id": "vBiWoo1MclU2"
      },
      "source": [
        "#소비건수 데이터 맞춰주기\n",
        "sh['소비건수'] = sh['소비건수']*1000"
      ],
      "execution_count": 77,
      "outputs": []
    },
    {
      "cell_type": "code",
      "metadata": {
        "id": "baacUuH4Zd8R"
      },
      "source": [
        "#'A value is trying to be set on a copy of a slice from a DataFrame. Try using .loc[row_indexer,col_indexer] = value instead' 라는 오류가 계속 떠서 꺼놓는 기능\n",
        "pd.options.mode.chained_assignment = None"
      ],
      "execution_count": 78,
      "outputs": []
    },
    {
      "cell_type": "code",
      "metadata": {
        "id": "gOnG5Ts78g0E"
      },
      "source": [
        "#성별 표기 바꿔주기\n",
        "for indx, gender in enumerate(sh['성별']):\n",
        "  if gender == 'F':\n",
        "    sh['성별'][indx] = '여성'\n",
        "\n",
        "  else:\n",
        "    sh['성별'][indx] = '남성'"
      ],
      "execution_count": 79,
      "outputs": []
    },
    {
      "cell_type": "code",
      "metadata": {
        "id": "phXM6uSW88Lh",
        "outputId": "b0513ad5-3433-4880-b8c4-984d4fc85a41",
        "colab": {
          "base_uri": "https://localhost:8080/",
          "height": 70
        }
      },
      "source": [
        "sh['성별'].value_counts()"
      ],
      "execution_count": 80,
      "outputs": [
        {
          "output_type": "execute_result",
          "data": {
            "text/plain": [
              "남성    97812\n",
              "여성    97787\n",
              "Name: 성별, dtype: int64"
            ]
          },
          "metadata": {
            "tags": []
          },
          "execution_count": 80
        }
      ]
    },
    {
      "cell_type": "markdown",
      "metadata": {
        "id": "RXDN37swhW8U"
      },
      "source": [
        "### (1)연령대별"
      ]
    },
    {
      "cell_type": "code",
      "metadata": {
        "id": "pLA8NB03fx1o",
        "outputId": "9baf999b-aff4-4684-f51d-fb18a876b8bf",
        "colab": {
          "base_uri": "https://localhost:8080/",
          "height": 140
        }
      },
      "source": [
        "shinhan_card[shinhan_card.업종 == 'M010_음/식료품']['연령대별'].value_counts()"
      ],
      "execution_count": 81,
      "outputs": [
        {
          "output_type": "execute_result",
          "data": {
            "text/plain": [
              "60대    1094\n",
              "20대    1094\n",
              "30대    1094\n",
              "50대    1094\n",
              "40대    1094\n",
              "70대    1094\n",
              "Name: 연령대별, dtype: int64"
            ]
          },
          "metadata": {
            "tags": []
          },
          "execution_count": 81
        }
      ]
    },
    {
      "cell_type": "code",
      "metadata": {
        "id": "0yj3_KFGgmYc",
        "outputId": "9e0fdc7b-bc15-4940-e421-cec5ed08d455",
        "colab": {
          "base_uri": "https://localhost:8080/",
          "height": 140
        }
      },
      "source": [
        "shinhan_card[shinhan_card.업종 == 'M003_제과/커피/패스트푸드']['연령대별'].value_counts()\n",
        "#나머지 업종별 연령대 value는 다 똑같았다."
      ],
      "execution_count": 82,
      "outputs": [
        {
          "output_type": "execute_result",
          "data": {
            "text/plain": [
              "60대    1094\n",
              "20대    1094\n",
              "30대    1094\n",
              "50대    1094\n",
              "40대    1094\n",
              "70대    1094\n",
              "Name: 연령대별, dtype: int64"
            ]
          },
          "metadata": {
            "tags": []
          },
          "execution_count": 82
        }
      ]
    },
    {
      "cell_type": "code",
      "metadata": {
        "id": "juVnzOa0gTqL",
        "outputId": "348c016f-fe0f-4082-fb97-4af6b72aee1a",
        "colab": {
          "base_uri": "https://localhost:8080/",
          "height": 140
        }
      },
      "source": [
        "shinhan_card[shinhan_card.업종 == 'M028_자동차판매']['연령대별'].value_counts()\n",
        "#연령대별 자동차 판매 카테고리에서 70대의 소비가 가장 적었다."
      ],
      "execution_count": 83,
      "outputs": [
        {
          "output_type": "execute_result",
          "data": {
            "text/plain": [
              "20대    1094\n",
              "30대    1094\n",
              "50대    1094\n",
              "40대    1094\n",
              "60대    1093\n",
              "70대    1051\n",
              "Name: 연령대별, dtype: int64"
            ]
          },
          "metadata": {
            "tags": []
          },
          "execution_count": 83
        }
      ]
    },
    {
      "cell_type": "code",
      "metadata": {
        "id": "wrcHQ7hugMGB",
        "outputId": "fb1711ea-25e5-4fb0-9cf3-1690dabbe317",
        "colab": {
          "base_uri": "https://localhost:8080/",
          "height": 140
        }
      },
      "source": [
        "shinhan_card[shinhan_card.업종 == 'M022_유아교육']['연령대별'].value_counts()\n",
        "#연령대별 유아교육 카테고리 소비는 30-40대가 가장 많았다."
      ],
      "execution_count": 84,
      "outputs": [
        {
          "output_type": "execute_result",
          "data": {
            "text/plain": [
              "30대    1093\n",
              "40대    1093\n",
              "20대    1068\n",
              "50대     952\n",
              "60대     724\n",
              "70대     358\n",
              "Name: 연령대별, dtype: int64"
            ]
          },
          "metadata": {
            "tags": []
          },
          "execution_count": 84
        }
      ]
    },
    {
      "cell_type": "markdown",
      "metadata": {
        "id": "yuMTGXUphYxo"
      },
      "source": [
        "### (2)성별"
      ]
    },
    {
      "cell_type": "code",
      "metadata": {
        "id": "0SffRYxQgQaq",
        "outputId": "be4009d1-641d-4332-a770-74d3e04c2a30",
        "colab": {
          "base_uri": "https://localhost:8080/",
          "height": 70
        }
      },
      "source": [
        "shinhan_card[shinhan_card.업종 == 'M004_기타요식']['성별'].value_counts()\n",
        "#성별에도 차이가 없음"
      ],
      "execution_count": 85,
      "outputs": [
        {
          "output_type": "execute_result",
          "data": {
            "text/plain": [
              "M    3282\n",
              "F    3282\n",
              "Name: 성별, dtype: int64"
            ]
          },
          "metadata": {
            "tags": []
          },
          "execution_count": 85
        }
      ]
    },
    {
      "cell_type": "code",
      "metadata": {
        "id": "wxtHyeJDhnL9",
        "outputId": "dfb8d0e2-8393-4a82-dbe7-b5de16a9c91b",
        "colab": {
          "base_uri": "https://localhost:8080/",
          "height": 70
        }
      },
      "source": [
        "shinhan_card[shinhan_card.업종 == 'M022_유아교육']['성별'].value_counts()\n",
        "#M의 데이터가 더 많음"
      ],
      "execution_count": 86,
      "outputs": [
        {
          "output_type": "execute_result",
          "data": {
            "text/plain": [
              "M    2646\n",
              "F    2642\n",
              "Name: 성별, dtype: int64"
            ]
          },
          "metadata": {
            "tags": []
          },
          "execution_count": 86
        }
      ]
    },
    {
      "cell_type": "code",
      "metadata": {
        "id": "9sjzqxSLiA30",
        "outputId": "76e88cc7-1ff5-43cd-8d23-b780be680021",
        "colab": {
          "base_uri": "https://localhost:8080/",
          "height": 70
        }
      },
      "source": [
        "shinhan_card[shinhan_card.업종 == 'M028_자동차판매']['성별'].value_counts()\n",
        "#M의 데이터가 더 많음"
      ],
      "execution_count": 87,
      "outputs": [
        {
          "output_type": "execute_result",
          "data": {
            "text/plain": [
              "M    3270\n",
              "F    3250\n",
              "Name: 성별, dtype: int64"
            ]
          },
          "metadata": {
            "tags": []
          },
          "execution_count": 87
        }
      ]
    },
    {
      "cell_type": "markdown",
      "metadata": {
        "id": "GcG3tCuHiQf6"
      },
      "source": [
        "### (3)업종별 카드 이용건수"
      ]
    },
    {
      "cell_type": "code",
      "metadata": {
        "id": "EFEDjRQpkqgV",
        "outputId": "fae19fc4-41aa-46e4-d88d-613e46d95d88",
        "colab": {
          "base_uri": "https://localhost:8080/",
          "height": 965
        }
      },
      "source": [
        "sh[['소비업종','소비건수']].groupby('소비업종').sum()"
      ],
      "execution_count": 88,
      "outputs": [
        {
          "output_type": "execute_result",
          "data": {
            "text/html": [
              "<div>\n",
              "<style scoped>\n",
              "    .dataframe tbody tr th:only-of-type {\n",
              "        vertical-align: middle;\n",
              "    }\n",
              "\n",
              "    .dataframe tbody tr th {\n",
              "        vertical-align: top;\n",
              "    }\n",
              "\n",
              "    .dataframe thead th {\n",
              "        text-align: right;\n",
              "    }\n",
              "</style>\n",
              "<table border=\"1\" class=\"dataframe\">\n",
              "  <thead>\n",
              "    <tr style=\"text-align: right;\">\n",
              "      <th></th>\n",
              "      <th>소비건수</th>\n",
              "    </tr>\n",
              "    <tr>\n",
              "      <th>소비업종</th>\n",
              "      <th></th>\n",
              "    </tr>\n",
              "  </thead>\n",
              "  <tbody>\n",
              "    <tr>\n",
              "      <th>M001_한식</th>\n",
              "      <td>2.007231e+09</td>\n",
              "    </tr>\n",
              "    <tr>\n",
              "      <th>M002_일식/중식/양식</th>\n",
              "      <td>4.287391e+08</td>\n",
              "    </tr>\n",
              "    <tr>\n",
              "      <th>M003_제과/커피/패스트푸드</th>\n",
              "      <td>1.218783e+09</td>\n",
              "    </tr>\n",
              "    <tr>\n",
              "      <th>M004_기타요식</th>\n",
              "      <td>1.948907e+09</td>\n",
              "    </tr>\n",
              "    <tr>\n",
              "      <th>M005_유흥</th>\n",
              "      <td>6.783940e+07</td>\n",
              "    </tr>\n",
              "    <tr>\n",
              "      <th>M006_백화점</th>\n",
              "      <td>3.228217e+08</td>\n",
              "    </tr>\n",
              "    <tr>\n",
              "      <th>M007_할인점/슈퍼마켓</th>\n",
              "      <td>3.494946e+09</td>\n",
              "    </tr>\n",
              "    <tr>\n",
              "      <th>M008_편의점</th>\n",
              "      <td>3.226012e+09</td>\n",
              "    </tr>\n",
              "    <tr>\n",
              "      <th>M009_기타유통</th>\n",
              "      <td>2.898002e+08</td>\n",
              "    </tr>\n",
              "    <tr>\n",
              "      <th>M010_음/식료품</th>\n",
              "      <td>8.270506e+08</td>\n",
              "    </tr>\n",
              "    <tr>\n",
              "      <th>M011_의복/의류</th>\n",
              "      <td>1.720568e+08</td>\n",
              "    </tr>\n",
              "    <tr>\n",
              "      <th>M012_패션/잡화</th>\n",
              "      <td>6.912650e+07</td>\n",
              "    </tr>\n",
              "    <tr>\n",
              "      <th>M013_스포츠/문화/레저</th>\n",
              "      <td>6.729273e+08</td>\n",
              "    </tr>\n",
              "    <tr>\n",
              "      <th>M014_스포츠/문화/레저용품</th>\n",
              "      <td>1.458846e+08</td>\n",
              "    </tr>\n",
              "    <tr>\n",
              "      <th>M015_숙박</th>\n",
              "      <td>6.731940e+07</td>\n",
              "    </tr>\n",
              "    <tr>\n",
              "      <th>M016_여행</th>\n",
              "      <td>2.251190e+07</td>\n",
              "    </tr>\n",
              "    <tr>\n",
              "      <th>M017_미용서비스</th>\n",
              "      <td>2.050233e+08</td>\n",
              "    </tr>\n",
              "    <tr>\n",
              "      <th>M018_화장품</th>\n",
              "      <td>7.064690e+07</td>\n",
              "    </tr>\n",
              "    <tr>\n",
              "      <th>M019_서비스</th>\n",
              "      <td>2.168920e+08</td>\n",
              "    </tr>\n",
              "    <tr>\n",
              "      <th>M020_인테리어</th>\n",
              "      <td>6.949720e+07</td>\n",
              "    </tr>\n",
              "    <tr>\n",
              "      <th>M021_학원</th>\n",
              "      <td>6.342810e+07</td>\n",
              "    </tr>\n",
              "    <tr>\n",
              "      <th>M022_유아교육</th>\n",
              "      <td>2.312070e+07</td>\n",
              "    </tr>\n",
              "    <tr>\n",
              "      <th>M023_교육용품</th>\n",
              "      <td>9.247640e+07</td>\n",
              "    </tr>\n",
              "    <tr>\n",
              "      <th>M024_병원</th>\n",
              "      <td>7.260501e+08</td>\n",
              "    </tr>\n",
              "    <tr>\n",
              "      <th>M025_약국</th>\n",
              "      <td>6.505398e+08</td>\n",
              "    </tr>\n",
              "    <tr>\n",
              "      <th>M026_기타의료</th>\n",
              "      <td>1.024480e+07</td>\n",
              "    </tr>\n",
              "    <tr>\n",
              "      <th>M027_가전/가구</th>\n",
              "      <td>1.713361e+08</td>\n",
              "    </tr>\n",
              "    <tr>\n",
              "      <th>M028_자동차판매</th>\n",
              "      <td>4.625800e+06</td>\n",
              "    </tr>\n",
              "    <tr>\n",
              "      <th>M029_자동차서비스/용품</th>\n",
              "      <td>1.866373e+08</td>\n",
              "    </tr>\n",
              "    <tr>\n",
              "      <th>M030_주유</th>\n",
              "      <td>1.059117e+09</td>\n",
              "    </tr>\n",
              "  </tbody>\n",
              "</table>\n",
              "</div>"
            ],
            "text/plain": [
              "                          소비건수\n",
              "소비업종                          \n",
              "M001_한식           2.007231e+09\n",
              "M002_일식/중식/양식     4.287391e+08\n",
              "M003_제과/커피/패스트푸드  1.218783e+09\n",
              "M004_기타요식         1.948907e+09\n",
              "M005_유흥           6.783940e+07\n",
              "M006_백화점          3.228217e+08\n",
              "M007_할인점/슈퍼마켓     3.494946e+09\n",
              "M008_편의점          3.226012e+09\n",
              "M009_기타유통         2.898002e+08\n",
              "M010_음/식료품        8.270506e+08\n",
              "M011_의복/의류        1.720568e+08\n",
              "M012_패션/잡화        6.912650e+07\n",
              "M013_스포츠/문화/레저    6.729273e+08\n",
              "M014_스포츠/문화/레저용품  1.458846e+08\n",
              "M015_숙박           6.731940e+07\n",
              "M016_여행           2.251190e+07\n",
              "M017_미용서비스        2.050233e+08\n",
              "M018_화장품          7.064690e+07\n",
              "M019_서비스          2.168920e+08\n",
              "M020_인테리어         6.949720e+07\n",
              "M021_학원           6.342810e+07\n",
              "M022_유아교육         2.312070e+07\n",
              "M023_교육용품         9.247640e+07\n",
              "M024_병원           7.260501e+08\n",
              "M025_약국           6.505398e+08\n",
              "M026_기타의료         1.024480e+07\n",
              "M027_가전/가구        1.713361e+08\n",
              "M028_자동차판매        4.625800e+06\n",
              "M029_자동차서비스/용품    1.866373e+08\n",
              "M030_주유           1.059117e+09"
            ]
          },
          "metadata": {
            "tags": []
          },
          "execution_count": 88
        }
      ]
    },
    {
      "cell_type": "code",
      "metadata": {
        "id": "GMNcOAX6oQOa",
        "outputId": "5a7fe094-3842-4bbf-fa25-8dd7b1c61cd8",
        "colab": {
          "base_uri": "https://localhost:8080/",
          "height": 730
        }
      },
      "source": [
        "sh_cate_use = sh[['소비업종','소비건수']]\n",
        "new_sh_cate_use = sh_cate_use.groupby('소비업종').sum()\n",
        "new_sh_cate_use.plot.bar()\n",
        "plt.grid(True)\n",
        "plt.rcParams['figure.figsize']= (20,10)\n",
        "\n",
        "plt.legend()\n",
        "plt.show()"
      ],
      "execution_count": 89,
      "outputs": [
        {
          "output_type": "display_data",
          "data": {
            "image/png": "[encoded data removed]",
            "text/plain": [
              "<Figure size 1440x720 with 1 Axes>"
            ]
          },
          "metadata": {
            "tags": [],
            "needs_background": "light"
          }
        }
      ]
    },
    {
      "cell_type": "markdown",
      "metadata": {
        "id": "LeRJ5Tm1aWJy"
      },
      "source": [
        "## 2) 신한카드의 데이터를 삼성카드와 맞춰주기"
      ]
    },
    {
      "cell_type": "code",
      "metadata": {
        "id": "TC0X4-vuk2P9",
        "outputId": "1f502055-d07b-4bb8-dd32-b9853881fd6b",
        "colab": {
          "base_uri": "https://localhost:8080/",
          "height": 35
        }
      },
      "source": [
        "sh['소비업종'][1]"
      ],
      "execution_count": 90,
      "outputs": [
        {
          "output_type": "execute_result",
          "data": {
            "application/vnd.google.colaboratory.intrinsic+json": {
              "type": "string"
            },
            "text/plain": [
              "'M002_일식/중식/양식'"
            ]
          },
          "metadata": {
            "tags": []
          },
          "execution_count": 90
        }
      ]
    },
    {
      "cell_type": "code",
      "metadata": {
        "id": "YsQzwArwN9N-",
        "outputId": "dea33842-5506-4182-8c88-26cdf955a35b",
        "colab": {
          "base_uri": "https://localhost:8080/",
          "height": 402
        }
      },
      "source": [
        "#내부 데이터 바꾸기 (replace를 이용해서)\n",
        "eat_sh = sh[sh['소비업종'].isin(['M001_한식','M002_일식/중식/양식','M003_제과/커피/패스트푸드','M004_기타요식','M005_유흥'])]\n",
        "eat_sh = eat_sh.replace(['M001_한식','M002_일식/중식/양식','M003_제과/커피/패스트푸드','M004_기타요식','M005_유흥'],'요식/유흥')\n",
        "eat_sh"
      ],
      "execution_count": 91,
      "outputs": [
        {
          "output_type": "execute_result",
          "data": {
            "text/html": [
              "<div>\n",
              "<style scoped>\n",
              "    .dataframe tbody tr th:only-of-type {\n",
              "        vertical-align: middle;\n",
              "    }\n",
              "\n",
              "    .dataframe tbody tr th {\n",
              "        vertical-align: top;\n",
              "    }\n",
              "\n",
              "    .dataframe thead th {\n",
              "        text-align: right;\n",
              "    }\n",
              "</style>\n",
              "<table border=\"1\" class=\"dataframe\">\n",
              "  <thead>\n",
              "    <tr style=\"text-align: right;\">\n",
              "      <th></th>\n",
              "      <th>소비일자</th>\n",
              "      <th>성별</th>\n",
              "      <th>연령대</th>\n",
              "      <th>소비업종</th>\n",
              "      <th>소비건수</th>\n",
              "    </tr>\n",
              "  </thead>\n",
              "  <tbody>\n",
              "    <tr>\n",
              "      <th>0</th>\n",
              "      <td>20190101</td>\n",
              "      <td>여성</td>\n",
              "      <td>20대</td>\n",
              "      <td>요식/유흥</td>\n",
              "      <td>298900.0</td>\n",
              "    </tr>\n",
              "    <tr>\n",
              "      <th>1</th>\n",
              "      <td>20190101</td>\n",
              "      <td>여성</td>\n",
              "      <td>20대</td>\n",
              "      <td>요식/유흥</td>\n",
              "      <td>88300.0</td>\n",
              "    </tr>\n",
              "    <tr>\n",
              "      <th>2</th>\n",
              "      <td>20190101</td>\n",
              "      <td>여성</td>\n",
              "      <td>20대</td>\n",
              "      <td>요식/유흥</td>\n",
              "      <td>290600.0</td>\n",
              "    </tr>\n",
              "    <tr>\n",
              "      <th>3</th>\n",
              "      <td>20190101</td>\n",
              "      <td>여성</td>\n",
              "      <td>20대</td>\n",
              "      <td>요식/유흥</td>\n",
              "      <td>446300.0</td>\n",
              "    </tr>\n",
              "    <tr>\n",
              "      <th>4</th>\n",
              "      <td>20190101</td>\n",
              "      <td>여성</td>\n",
              "      <td>20대</td>\n",
              "      <td>요식/유흥</td>\n",
              "      <td>24200.0</td>\n",
              "    </tr>\n",
              "    <tr>\n",
              "      <th>...</th>\n",
              "      <td>...</td>\n",
              "      <td>...</td>\n",
              "      <td>...</td>\n",
              "      <td>...</td>\n",
              "      <td>...</td>\n",
              "    </tr>\n",
              "    <tr>\n",
              "      <th>195569</th>\n",
              "      <td>20200630</td>\n",
              "      <td>남성</td>\n",
              "      <td>70대</td>\n",
              "      <td>요식/유흥</td>\n",
              "      <td>68600.0</td>\n",
              "    </tr>\n",
              "    <tr>\n",
              "      <th>195570</th>\n",
              "      <td>20200630</td>\n",
              "      <td>남성</td>\n",
              "      <td>70대</td>\n",
              "      <td>요식/유흥</td>\n",
              "      <td>9200.0</td>\n",
              "    </tr>\n",
              "    <tr>\n",
              "      <th>195571</th>\n",
              "      <td>20200630</td>\n",
              "      <td>남성</td>\n",
              "      <td>70대</td>\n",
              "      <td>요식/유흥</td>\n",
              "      <td>18300.0</td>\n",
              "    </tr>\n",
              "    <tr>\n",
              "      <th>195572</th>\n",
              "      <td>20200630</td>\n",
              "      <td>남성</td>\n",
              "      <td>70대</td>\n",
              "      <td>요식/유흥</td>\n",
              "      <td>24400.0</td>\n",
              "    </tr>\n",
              "    <tr>\n",
              "      <th>195573</th>\n",
              "      <td>20200630</td>\n",
              "      <td>남성</td>\n",
              "      <td>70대</td>\n",
              "      <td>요식/유흥</td>\n",
              "      <td>500.0</td>\n",
              "    </tr>\n",
              "  </tbody>\n",
              "</table>\n",
              "<p>32820 rows × 5 columns</p>\n",
              "</div>"
            ],
            "text/plain": [
              "            소비일자  성별  연령대   소비업종      소비건수\n",
              "0       20190101  여성  20대  요식/유흥  298900.0\n",
              "1       20190101  여성  20대  요식/유흥   88300.0\n",
              "2       20190101  여성  20대  요식/유흥  290600.0\n",
              "3       20190101  여성  20대  요식/유흥  446300.0\n",
              "4       20190101  여성  20대  요식/유흥   24200.0\n",
              "...          ...  ..  ...    ...       ...\n",
              "195569  20200630  남성  70대  요식/유흥   68600.0\n",
              "195570  20200630  남성  70대  요식/유흥    9200.0\n",
              "195571  20200630  남성  70대  요식/유흥   18300.0\n",
              "195572  20200630  남성  70대  요식/유흥   24400.0\n",
              "195573  20200630  남성  70대  요식/유흥     500.0\n",
              "\n",
              "[32820 rows x 5 columns]"
            ]
          },
          "metadata": {
            "tags": []
          },
          "execution_count": 91
        }
      ]
    },
    {
      "cell_type": "code",
      "metadata": {
        "id": "3X8Nk03XdEfM",
        "outputId": "2f1b4fc9-e7cf-44c1-8bfa-9d15635696ee",
        "colab": {
          "base_uri": "https://localhost:8080/",
          "height": 402
        }
      },
      "source": [
        "home_sh = sh[sh['소비업종'].isin(['M027_가전/가구','M020_인테리어'])]\n",
        "home_sh = home_sh.replace(['M027_가전/가구','M020_인테리어'],'가전/가구')\n",
        "home_sh"
      ],
      "execution_count": 92,
      "outputs": [
        {
          "output_type": "execute_result",
          "data": {
            "text/html": [
              "<div>\n",
              "<style scoped>\n",
              "    .dataframe tbody tr th:only-of-type {\n",
              "        vertical-align: middle;\n",
              "    }\n",
              "\n",
              "    .dataframe tbody tr th {\n",
              "        vertical-align: top;\n",
              "    }\n",
              "\n",
              "    .dataframe thead th {\n",
              "        text-align: right;\n",
              "    }\n",
              "</style>\n",
              "<table border=\"1\" class=\"dataframe\">\n",
              "  <thead>\n",
              "    <tr style=\"text-align: right;\">\n",
              "      <th></th>\n",
              "      <th>소비일자</th>\n",
              "      <th>성별</th>\n",
              "      <th>연령대</th>\n",
              "      <th>소비업종</th>\n",
              "      <th>소비건수</th>\n",
              "    </tr>\n",
              "  </thead>\n",
              "  <tbody>\n",
              "    <tr>\n",
              "      <th>19</th>\n",
              "      <td>20190101</td>\n",
              "      <td>여성</td>\n",
              "      <td>20대</td>\n",
              "      <td>가전/가구</td>\n",
              "      <td>1300.0</td>\n",
              "    </tr>\n",
              "    <tr>\n",
              "      <th>26</th>\n",
              "      <td>20190101</td>\n",
              "      <td>여성</td>\n",
              "      <td>20대</td>\n",
              "      <td>가전/가구</td>\n",
              "      <td>18400.0</td>\n",
              "    </tr>\n",
              "    <tr>\n",
              "      <th>49</th>\n",
              "      <td>20190101</td>\n",
              "      <td>여성</td>\n",
              "      <td>30대</td>\n",
              "      <td>가전/가구</td>\n",
              "      <td>2200.0</td>\n",
              "    </tr>\n",
              "    <tr>\n",
              "      <th>56</th>\n",
              "      <td>20190101</td>\n",
              "      <td>여성</td>\n",
              "      <td>30대</td>\n",
              "      <td>가전/가구</td>\n",
              "      <td>13300.0</td>\n",
              "    </tr>\n",
              "    <tr>\n",
              "      <th>79</th>\n",
              "      <td>20190101</td>\n",
              "      <td>여성</td>\n",
              "      <td>40대</td>\n",
              "      <td>가전/가구</td>\n",
              "      <td>2700.0</td>\n",
              "    </tr>\n",
              "    <tr>\n",
              "      <th>...</th>\n",
              "      <td>...</td>\n",
              "      <td>...</td>\n",
              "      <td>...</td>\n",
              "      <td>...</td>\n",
              "      <td>...</td>\n",
              "    </tr>\n",
              "    <tr>\n",
              "      <th>195535</th>\n",
              "      <td>20200630</td>\n",
              "      <td>남성</td>\n",
              "      <td>50대</td>\n",
              "      <td>가전/가구</td>\n",
              "      <td>25000.0</td>\n",
              "    </tr>\n",
              "    <tr>\n",
              "      <th>195558</th>\n",
              "      <td>20200630</td>\n",
              "      <td>남성</td>\n",
              "      <td>60대</td>\n",
              "      <td>가전/가구</td>\n",
              "      <td>17100.0</td>\n",
              "    </tr>\n",
              "    <tr>\n",
              "      <th>195565</th>\n",
              "      <td>20200630</td>\n",
              "      <td>남성</td>\n",
              "      <td>60대</td>\n",
              "      <td>가전/가구</td>\n",
              "      <td>11100.0</td>\n",
              "    </tr>\n",
              "    <tr>\n",
              "      <th>195588</th>\n",
              "      <td>20200630</td>\n",
              "      <td>남성</td>\n",
              "      <td>70대</td>\n",
              "      <td>가전/가구</td>\n",
              "      <td>4000.0</td>\n",
              "    </tr>\n",
              "    <tr>\n",
              "      <th>195595</th>\n",
              "      <td>20200630</td>\n",
              "      <td>남성</td>\n",
              "      <td>70대</td>\n",
              "      <td>가전/가구</td>\n",
              "      <td>3900.0</td>\n",
              "    </tr>\n",
              "  </tbody>\n",
              "</table>\n",
              "<p>13128 rows × 5 columns</p>\n",
              "</div>"
            ],
            "text/plain": [
              "            소비일자  성별  연령대   소비업종     소비건수\n",
              "19      20190101  여성  20대  가전/가구   1300.0\n",
              "26      20190101  여성  20대  가전/가구  18400.0\n",
              "49      20190101  여성  30대  가전/가구   2200.0\n",
              "56      20190101  여성  30대  가전/가구  13300.0\n",
              "79      20190101  여성  40대  가전/가구   2700.0\n",
              "...          ...  ..  ...    ...      ...\n",
              "195535  20200630  남성  50대  가전/가구  25000.0\n",
              "195558  20200630  남성  60대  가전/가구  17100.0\n",
              "195565  20200630  남성  60대  가전/가구  11100.0\n",
              "195588  20200630  남성  70대  가전/가구   4000.0\n",
              "195595  20200630  남성  70대  가전/가구   3900.0\n",
              "\n",
              "[13128 rows x 5 columns]"
            ]
          },
          "metadata": {
            "tags": []
          },
          "execution_count": 92
        }
      ]
    },
    {
      "cell_type": "code",
      "metadata": {
        "id": "gD5eoyPmf_Dv"
      },
      "source": [
        "#위에서 한 작업을, for문을 이용하여 한번에 분류해준다.\n",
        "\n",
        "for indx, category in enumerate(sh['소비업종']):\n",
        "  if (category == 'M020_인테리어' or category == 'M027_가전/가구'):\n",
        "    sh['소비업종'][indx] = '가전/가구'\n",
        "\n",
        "  elif (category in ['M009_기타유통','M010_음/식료품','M019_서비스']):\n",
        "    sh['소비업종'][indx] = '가정생활/서비스'\n",
        "  \n",
        "  elif (category in ['M021_학원','M022_유아교육','M023_교육용품']):\n",
        "    sh['소비업종'][indx]='교육/학원'\n",
        "  \n",
        "  elif (category in ['M017_미용서비스','M018_화장품']):\n",
        "    sh['소비업종'][indx]='미용'\n",
        "  \n",
        "  elif (category in ['M006_백화점']):\n",
        "    sh['소비업종'][indx]='백화점/상품권/아울렛'\n",
        "\n",
        "  elif (category in ['M013_스포츠/문화/레저','M014_스포츠/문화/레저용품']):\n",
        "    sh['소비업종'][indx]='스포츠/문화/레저'\n",
        "  \n",
        "  elif (category in ['M015_숙박','M016_여행']):\n",
        "    sh['소비업종'][indx] = '여행/교통'\n",
        "\n",
        "  elif (category in ['M001_한식','M002_일식/중식/양식','M003_제과/커피/패스트푸드','M004_기타요식','M005_유흥']):\n",
        "    sh['소비업종'][indx] = '요식/유흥'\n",
        "\n",
        "  elif (category in ['M024_병원','M025_약국','M026_기타의료']):\n",
        "    sh['소비업종'][indx] = '의료'\n",
        "\n",
        "  elif (category in ['M028_자동차판매','M029_자동차서비스/용품']):\n",
        "    sh['소비업종'][indx] = '자동차'\n",
        "\n",
        "  elif (category in ['M030_주유']):\n",
        "    sh['소비업종'][indx] = '주유'\n",
        "\n",
        "  elif (category in ['M011_의복/의류','M012_패션/잡화']):\n",
        "    sh['소비업종'][indx] = '패션/잡화'\n",
        "\n",
        "  elif (category in ['M008_편의점']):\n",
        "    sh['소비업종'][indx] = '편의점'\n",
        "\n",
        "  elif (category in ['M007_할인점/슈퍼마켓']):\n",
        "    sh['소비업종'][indx] = '할인점/슈퍼마켓'\n"
      ],
      "execution_count": 93,
      "outputs": []
    },
    {
      "cell_type": "code",
      "metadata": {
        "id": "2Q4rYQWsV-jG"
      },
      "source": [
        "#분류한 데이터를 가지고 시각화를 해주는 함수를 만든다.\n",
        "\n",
        "def categorical(category = '요식/유흥'):\n",
        "  category_df = sh[sh.소비업종 == category]\n",
        "  category_df_date = category_df.loc[:'소비일자'].astype('str')\n",
        "  category_df['월'] = [x[:6] for x in category_df_date['소비일자']]\n",
        "  new_df = pd.DataFrame(category_df[['월','성별','소비건수']].groupby(['월','성별'])['소비건수'].sum())\n",
        "  new_df.reset_index(inplace=True)\n",
        "  plt.rcParams[\"figure.figsize\"] = (20,5)\n",
        "  sns.barplot(data=new_df,x=\"월\", y=\"소비건수\",hue=\"성별\")\n",
        "  plt.xticks(rotation=45)\n",
        "  return plt.show()"
      ],
      "execution_count": 94,
      "outputs": []
    },
    {
      "cell_type": "code",
      "metadata": {
        "id": "x4xK-qjucdUB",
        "outputId": "8604b42b-3750-4344-b413-ff8db80752cc",
        "colab": {
          "base_uri": "https://localhost:8080/",
          "height": 1000
        }
      },
      "source": [
        "print('요식/유흥')\n",
        "print(categorical('요식/유흥'))\n",
        "print('\\n')\n",
        "print('가정생활/서비스')\n",
        "print(categorical('가정생활/서비스'))\n",
        "print('\\n')\n",
        "print('의료')\n",
        "print(categorical('의료'))\n",
        "print('\\n')\n",
        "print('교육/학원')\n",
        "print(categorical('교육/학원'))\n",
        "print('\\n')\n",
        "print('백화점/상품권/아울렛')\n",
        "print(categorical('백화점/상품권/아울렛'))\n",
        "print('\\n')\n",
        "print('스포츠/문화/레저')\n",
        "print(categorical('스포츠/문화/레저'))\n",
        "print('\\n')\n",
        "print('패션/잡화')\n",
        "print(categorical('패션/잡화'))\n",
        "print('\\n')\n",
        "print('가전/가구')\n",
        "print(categorical('가전/가구'))\n",
        "print('\\n')\n",
        "print('미용')\n",
        "print(categorical('미용'))\n",
        "print('\\n')\n",
        "print('자동차')\n",
        "print(categorical('자동차'))\n",
        "print('\\n')\n",
        "print('주유')\n",
        "print(categorical('주유'))\n",
        "print('\\n')\n",
        "print('할인점/슈퍼마켓')\n",
        "print(categorical('할인점/슈퍼마켓'))\n",
        "print('\\n')\n",
        "print('편의점')\n",
        "print(categorical('편의점'))\n"
      ],
      "execution_count": 99,
      "outputs": [
        {
          "output_type": "stream",
          "text": [
            "요식/유흥\n"
          ],
          "name": "stdout"
        },
        {
          "output_type": "display_data",
          "data": {
            "image/png": "[encoded data removed]",
            "text/plain": [
              "<Figure size 1440x360 with 1 Axes>"
            ]
          },
          "metadata": {
            "tags": [],
            "needs_background": "light"
          }
        },
        {
          "output_type": "stream",
          "text": [
            "None\n",
            "\n",
            "\n",
            "가정생활/서비스\n"
          ],
          "name": "stdout"
        },
        {
          "output_type": "display_data",
          "data": {
            "image/png": "[encoded data removed]",
            "text/plain": [
              "<Figure size 1440x360 with 1 Axes>"
            ]
          },
          "metadata": {
            "tags": [],
            "needs_background": "light"
          }
        },
        {
          "output_type": "stream",
          "text": [
            "None\n",
            "\n",
            "\n",
            "의료\n"
          ],
          "name": "stdout"
        },
        {
          "output_type": "display_data",
          "data": {
            "image/png": "[encoded data removed]",
            "text/plain": [
              "<Figure size 1440x360 with 1 Axes>"
            ]
          },
          "metadata": {
            "tags": [],
            "needs_background": "light"
          }
        },
        {
          "output_type": "stream",
          "text": [
            "None\n",
            "\n",
            "\n",
            "교육/학원\n"
          ],
          "name": "stdout"
        },
        {
          "output_type": "display_data",
          "data": {
            "image/png": "[encoded data removed]",
            "text/plain": [
              "<Figure size 1440x360 with 1 Axes>"
            ]
          },
          "metadata": {
            "tags": [],
            "needs_background": "light"
          }
        },
        {
          "output_type": "stream",
          "text": [
            "None\n",
            "\n",
            "\n",
            "백화점/상품권/아울렛\n"
          ],
          "name": "stdout"
        },
        {
          "output_type": "display_data",
          "data": {
            "image/png": "[encoded data removed]",
            "text/plain": [
              "<Figure size 1440x360 with 1 Axes>"
            ]
          },
          "metadata": {
            "tags": [],
            "needs_background": "light"
          }
        },
        {
          "output_type": "stream",
          "text": [
            "None\n",
            "\n",
            "\n",
            "스포츠/문화/레저\n"
          ],
          "name": "stdout"
        },
        {
          "output_type": "display_data",
          "data": {
            "image/png": "[encoded data removed]",
            "text/plain": [
              "<Figure size 1440x360 with 1 Axes>"
            ]
          },
          "metadata": {
            "tags": [],
            "needs_background": "light"
          }
        },
        {
          "output_type": "stream",
          "text": [
            "None\n",
            "\n",
            "\n",
            "패션/잡화\n"
          ],
          "name": "stdout"
        },
        {
          "output_type": "display_data",
          "data": {
            "image/png": "[encoded data removed]",
            "text/plain": [
              "<Figure size 1440x360 with 1 Axes>"
            ]
          },
          "metadata": {
            "tags": [],
            "needs_background": "light"
          }
        },
        {
          "output_type": "stream",
          "text": [
            "None\n",
            "\n",
            "\n",
            "가전/가구\n"
          ],
          "name": "stdout"
        },
        {
          "output_type": "display_data",
          "data": {
            "image/png": "[encoded data removed]",
            "text/plain": [
              "<Figure size 1440x360 with 1 Axes>"
            ]
          },
          "metadata": {
            "tags": [],
            "needs_background": "light"
          }
        },
        {
          "output_type": "stream",
          "text": [
            "None\n",
            "\n",
            "\n",
            "미용\n"
          ],
          "name": "stdout"
        },
        {
          "output_type": "display_data",
          "data": {
            "image/png": "[encoded data removed]",
            "text/plain": [
              "<Figure size 1440x360 with 1 Axes>"
            ]
          },
          "metadata": {
            "tags": [],
            "needs_background": "light"
          }
        },
        {
          "output_type": "stream",
          "text": [
            "None\n",
            "\n",
            "\n",
            "자동차\n"
          ],
          "name": "stdout"
        },
        {
          "output_type": "display_data",
          "data": {
            "image/png": "[encoded data removed]",
            "text/plain": [
              "<Figure size 1440x360 with 1 Axes>"
            ]
          },
          "metadata": {
            "tags": [],
            "needs_background": "light"
          }
        },
        {
          "output_type": "stream",
          "text": [
            "None\n",
            "\n",
            "\n",
            "주유\n"
          ],
          "name": "stdout"
        },
        {
          "output_type": "display_data",
          "data": {
            "image/png": "[encoded data removed]",
            "text/plain": [
              "<Figure size 1440x360 with 1 Axes>"
            ]
          },
          "metadata": {
            "tags": [],
            "needs_background": "light"
          }
        },
        {
          "output_type": "stream",
          "text": [
            "None\n",
            "\n",
            "\n",
            "할인점/슈퍼마켓\n"
          ],
          "name": "stdout"
        },
        {
          "output_type": "display_data",
          "data": {
            "image/png": "[encoded data removed]",
            "text/plain": [
              "<Figure size 1440x360 with 1 Axes>"
            ]
          },
          "metadata": {
            "tags": [],
            "needs_background": "light"
          }
        },
        {
          "output_type": "stream",
          "text": [
            "None\n",
            "\n",
            "\n",
            "편의점\n"
          ],
          "name": "stdout"
        },
        {
          "output_type": "display_data",
          "data": {
            "image/png": "[encoded data removed]",
            "text/plain": [
              "<Figure size 1440x360 with 1 Axes>"
            ]
          },
          "metadata": {
            "tags": [],
            "needs_background": "light"
          }
        },
        {
          "output_type": "stream",
          "text": [
            "None\n"
          ],
          "name": "stdout"
        }
      ]
    },
    {
      "cell_type": "markdown",
      "metadata": {
        "id": "Dnf1DvvgZAka"
      },
      "source": [
        "- 대체로 202003 즈음에 많은 카테고리의 소비건수가 줄었다. 반면 **할인점/슈퍼마켓**, **편의점**은 크게 영향을 받지 않았다.\n",
        "- **주유**, **스포츠/문화/레저**, **자동차**,**편의점**은 남성의 소비건수가 여성에 비해 매우 많았고, **요식/유흥**,**가전/가구**는 남성의 소비건수가 여성에 비해 조금 많았다.\n",
        "- **교육/학원**,**백화점/상품권/아울렛**,**패션/잡화**의 경우, 여성의 소비건수가 남성에 비해 매우 많았다."
      ]
    },
    {
      "cell_type": "markdown",
      "metadata": {
        "id": "sB-xnQ8ddfPI"
      },
      "source": [
        "### 삼성카드 데이터와 머징\n",
        "\n"
      ]
    },
    {
      "cell_type": "code",
      "metadata": {
        "id": "C1tyDWVrczpG",
        "outputId": "f6d8c6e0-6170-499b-e29f-035f3514df80",
        "colab": {
          "base_uri": "https://localhost:8080/",
          "height": 195
        }
      },
      "source": [
        "#삼성카드 데이터 불러오기\n",
        "samsung_card = pd.read_csv('Samsungcard.csv', encoding=\"CP949\")\n",
        "samsung_card.head()\n",
        "samsung_card.tail()"
      ],
      "execution_count": 96,
      "outputs": [
        {
          "output_type": "execute_result",
          "data": {
            "text/html": [
              "<div>\n",
              "<style scoped>\n",
              "    .dataframe tbody tr th:only-of-type {\n",
              "        vertical-align: middle;\n",
              "    }\n",
              "\n",
              "    .dataframe tbody tr th {\n",
              "        vertical-align: top;\n",
              "    }\n",
              "\n",
              "    .dataframe thead th {\n",
              "        text-align: right;\n",
              "    }\n",
              "</style>\n",
              "<table border=\"1\" class=\"dataframe\">\n",
              "  <thead>\n",
              "    <tr style=\"text-align: right;\">\n",
              "      <th></th>\n",
              "      <th>소비일자</th>\n",
              "      <th>소비업종</th>\n",
              "      <th>성별</th>\n",
              "      <th>연령대</th>\n",
              "      <th>소비건수</th>\n",
              "    </tr>\n",
              "  </thead>\n",
              "  <tbody>\n",
              "    <tr>\n",
              "      <th>76575</th>\n",
              "      <td>20200630</td>\n",
              "      <td>할인점/마트</td>\n",
              "      <td>여성</td>\n",
              "      <td>20대</td>\n",
              "      <td>142108</td>\n",
              "    </tr>\n",
              "    <tr>\n",
              "      <th>76576</th>\n",
              "      <td>20200630</td>\n",
              "      <td>할인점/마트</td>\n",
              "      <td>여성</td>\n",
              "      <td>30대</td>\n",
              "      <td>388196</td>\n",
              "    </tr>\n",
              "    <tr>\n",
              "      <th>76577</th>\n",
              "      <td>20200630</td>\n",
              "      <td>할인점/마트</td>\n",
              "      <td>여성</td>\n",
              "      <td>40대</td>\n",
              "      <td>593836</td>\n",
              "    </tr>\n",
              "    <tr>\n",
              "      <th>76578</th>\n",
              "      <td>20200630</td>\n",
              "      <td>할인점/마트</td>\n",
              "      <td>여성</td>\n",
              "      <td>50대</td>\n",
              "      <td>552912</td>\n",
              "    </tr>\n",
              "    <tr>\n",
              "      <th>76579</th>\n",
              "      <td>20200630</td>\n",
              "      <td>할인점/마트</td>\n",
              "      <td>여성</td>\n",
              "      <td>60대</td>\n",
              "      <td>339458</td>\n",
              "    </tr>\n",
              "  </tbody>\n",
              "</table>\n",
              "</div>"
            ],
            "text/plain": [
              "           소비일자    소비업종  성별  연령대    소비건수\n",
              "76575  20200630  할인점/마트  여성  20대  142108\n",
              "76576  20200630  할인점/마트  여성  30대  388196\n",
              "76577  20200630  할인점/마트  여성  40대  593836\n",
              "76578  20200630  할인점/마트  여성  50대  552912\n",
              "76579  20200630  할인점/마트  여성  60대  339458"
            ]
          },
          "metadata": {
            "tags": []
          },
          "execution_count": 96
        }
      ]
    },
    {
      "cell_type": "code",
      "metadata": {
        "id": "sB2knaGTdlMs",
        "outputId": "684f895d-09d2-4a0f-9825-c08e10104d0f",
        "colab": {
          "base_uri": "https://localhost:8080/",
          "height": 195
        }
      },
      "source": [
        "#삼성카드 데이터와 신한카드 데이터를 concat 시키기\n",
        "sm = samsung_card.copy()\n",
        "samsung_shinhan = pd.concat([sm,sh])\n",
        "samsung_shinhan.tail()"
      ],
      "execution_count": 97,
      "outputs": [
        {
          "output_type": "execute_result",
          "data": {
            "text/html": [
              "<div>\n",
              "<style scoped>\n",
              "    .dataframe tbody tr th:only-of-type {\n",
              "        vertical-align: middle;\n",
              "    }\n",
              "\n",
              "    .dataframe tbody tr th {\n",
              "        vertical-align: top;\n",
              "    }\n",
              "\n",
              "    .dataframe thead th {\n",
              "        text-align: right;\n",
              "    }\n",
              "</style>\n",
              "<table border=\"1\" class=\"dataframe\">\n",
              "  <thead>\n",
              "    <tr style=\"text-align: right;\">\n",
              "      <th></th>\n",
              "      <th>소비일자</th>\n",
              "      <th>소비업종</th>\n",
              "      <th>성별</th>\n",
              "      <th>연령대</th>\n",
              "      <th>소비건수</th>\n",
              "    </tr>\n",
              "  </thead>\n",
              "  <tbody>\n",
              "    <tr>\n",
              "      <th>195594</th>\n",
              "      <td>20200630</td>\n",
              "      <td>의료</td>\n",
              "      <td>남성</td>\n",
              "      <td>70대</td>\n",
              "      <td>1700.0</td>\n",
              "    </tr>\n",
              "    <tr>\n",
              "      <th>195595</th>\n",
              "      <td>20200630</td>\n",
              "      <td>가전/가구</td>\n",
              "      <td>남성</td>\n",
              "      <td>70대</td>\n",
              "      <td>3900.0</td>\n",
              "    </tr>\n",
              "    <tr>\n",
              "      <th>195596</th>\n",
              "      <td>20200630</td>\n",
              "      <td>자동차</td>\n",
              "      <td>남성</td>\n",
              "      <td>70대</td>\n",
              "      <td>200.0</td>\n",
              "    </tr>\n",
              "    <tr>\n",
              "      <th>195597</th>\n",
              "      <td>20200630</td>\n",
              "      <td>자동차</td>\n",
              "      <td>남성</td>\n",
              "      <td>70대</td>\n",
              "      <td>8300.0</td>\n",
              "    </tr>\n",
              "    <tr>\n",
              "      <th>195598</th>\n",
              "      <td>20200630</td>\n",
              "      <td>주유</td>\n",
              "      <td>남성</td>\n",
              "      <td>70대</td>\n",
              "      <td>94500.0</td>\n",
              "    </tr>\n",
              "  </tbody>\n",
              "</table>\n",
              "</div>"
            ],
            "text/plain": [
              "            소비일자   소비업종  성별  연령대     소비건수\n",
              "195594  20200630     의료  남성  70대   1700.0\n",
              "195595  20200630  가전/가구  남성  70대   3900.0\n",
              "195596  20200630    자동차  남성  70대    200.0\n",
              "195597  20200630    자동차  남성  70대   8300.0\n",
              "195598  20200630     주유  남성  70대  94500.0"
            ]
          },
          "metadata": {
            "tags": []
          },
          "execution_count": 97
        }
      ]
    },
    {
      "cell_type": "code",
      "metadata": {
        "id": "OuYThVIqdqYC"
      },
      "source": [
        "#merge한 데이터를 csv 파일로 변환해서 드라이브에 저장\n",
        "samsung_shinhan.to_csv('/content/drive/My Drive/bigdata/아경/빅데이터 대회/KDX데이터/samsung_shinhan_merge.csv')"
      ],
      "execution_count": 98,
      "outputs": []
    }
  ]
}